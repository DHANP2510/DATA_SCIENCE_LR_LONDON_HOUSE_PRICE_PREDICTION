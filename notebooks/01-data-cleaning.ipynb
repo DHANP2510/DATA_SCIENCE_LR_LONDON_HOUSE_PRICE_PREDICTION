{
 "cells": [
  {
   "cell_type": "code",
   "execution_count": 1,
   "id": "a74295ef",
   "metadata": {
    "_cell_guid": "5eb46905-6a8a-4a57-a71a-6bc665029966",
    "_uuid": "1b48feb4-c041-4fc6-aa75-739494e88f13",
    "collapsed": false,
    "execution": {
     "iopub.execute_input": "2025-04-19T12:35:06.078948Z",
     "iopub.status.busy": "2025-04-19T12:35:06.078227Z",
     "iopub.status.idle": "2025-04-19T12:35:06.086323Z",
     "shell.execute_reply": "2025-04-19T12:35:06.085461Z"
    },
    "jupyter": {
     "outputs_hidden": false
    },
    "papermill": {
     "duration": 0.012567,
     "end_time": "2025-04-19T12:35:06.087656",
     "exception": false,
     "start_time": "2025-04-19T12:35:06.075089",
     "status": "completed"
    },
    "tags": []
   },
   "outputs": [
    {
     "name": "stdout",
     "output_type": "stream",
     "text": [
      "Just Started Welcome!!!\n"
     ]
    }
   ],
   "source": [
    "print(\"Just Started Welcome!!!\")"
   ]
  },
  {
   "cell_type": "code",
   "execution_count": 2,
   "id": "3ca8f5ad",
   "metadata": {
    "execution": {
     "iopub.execute_input": "2025-04-19T12:35:06.092113Z",
     "iopub.status.busy": "2025-04-19T12:35:06.091837Z",
     "iopub.status.idle": "2025-04-19T12:35:06.096193Z",
     "shell.execute_reply": "2025-04-19T12:35:06.095307Z"
    },
    "papermill": {
     "duration": 0.00805,
     "end_time": "2025-04-19T12:35:06.097598",
     "exception": false,
     "start_time": "2025-04-19T12:35:06.089548",
     "status": "completed"
    },
    "tags": []
   },
   "outputs": [
    {
     "name": "stdout",
     "output_type": "stream",
     "text": [
      "Version2!!!\n"
     ]
    }
   ],
   "source": [
    "print(\"Version2!!!\")"
   ]
  },
  {
   "cell_type": "code",
   "execution_count": null,
   "id": "b883acbe",
   "metadata": {
    "papermill": {
     "duration": 0.001282,
     "end_time": "2025-04-19T12:35:06.100541",
     "exception": false,
     "start_time": "2025-04-19T12:35:06.099259",
     "status": "completed"
    },
    "tags": []
   },
   "outputs": [],
   "source": []
  }
 ],
 "metadata": {
  "kaggle": {
   "accelerator": "none",
   "dataSources": [],
   "dockerImageVersionId": 31012,
   "isGpuEnabled": false,
   "isInternetEnabled": false,
   "language": "python",
   "sourceType": "notebook"
  },
  "kernelspec": {
   "display_name": "Python 3",
   "language": "python",
   "name": "python3"
  },
  "language_info": {
   "codemirror_mode": {
    "name": "ipython",
    "version": 3
   },
   "file_extension": ".py",
   "mimetype": "text/x-python",
   "name": "python",
   "nbconvert_exporter": "python",
   "pygments_lexer": "ipython3",
   "version": "3.11.11"
  },
  "papermill": {
   "default_parameters": {},
   "duration": 5.169439,
   "end_time": "2025-04-19T12:35:06.521007",
   "environment_variables": {},
   "exception": null,
   "input_path": "__notebook__.ipynb",
   "output_path": "__notebook__.ipynb",
   "parameters": {},
   "start_time": "2025-04-19T12:35:01.351568",
   "version": "2.6.0"
  }
 },
 "nbformat": 4,
 "nbformat_minor": 5
}
