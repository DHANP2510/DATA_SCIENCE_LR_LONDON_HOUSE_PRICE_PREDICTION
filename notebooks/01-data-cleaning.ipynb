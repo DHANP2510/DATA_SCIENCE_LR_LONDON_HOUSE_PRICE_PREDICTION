{
 "cells": [
  {
   "cell_type": "code",
   "execution_count": 1,
   "id": "ebdca20b",
   "metadata": {
    "_cell_guid": "5eb46905-6a8a-4a57-a71a-6bc665029966",
    "_uuid": "1b48feb4-c041-4fc6-aa75-739494e88f13",
    "collapsed": false,
    "execution": {
     "iopub.execute_input": "2025-04-19T18:21:09.228901Z",
     "iopub.status.busy": "2025-04-19T18:21:09.228535Z",
     "iopub.status.idle": "2025-04-19T18:21:12.772123Z",
     "shell.execute_reply": "2025-04-19T18:21:12.771284Z"
    },
    "jupyter": {
     "outputs_hidden": false
    },
    "papermill": {
     "duration": 3.549376,
     "end_time": "2025-04-19T18:21:12.773785",
     "exception": false,
     "start_time": "2025-04-19T18:21:09.224409",
     "status": "completed"
    },
    "tags": []
   },
   "outputs": [],
   "source": [
    "# Import libraries \n",
    "from IPython.display import display, Markdown\n",
    "import numpy as np\n",
    "import pandas as pd\n",
    "import matplotlib.pyplot as plt\n",
    "import seaborn as sns\n",
    "import os\n",
    "import io"
   ]
  },
  {
   "cell_type": "code",
   "execution_count": 2,
   "id": "f94309da",
   "metadata": {
    "execution": {
     "iopub.execute_input": "2025-04-19T18:21:12.779939Z",
     "iopub.status.busy": "2025-04-19T18:21:12.779429Z",
     "iopub.status.idle": "2025-04-19T18:21:14.202730Z",
     "shell.execute_reply": "2025-04-19T18:21:14.201904Z"
    },
    "papermill": {
     "duration": 1.427847,
     "end_time": "2025-04-19T18:21:14.204268",
     "exception": false,
     "start_time": "2025-04-19T18:21:12.776421",
     "status": "completed"
    },
    "tags": []
   },
   "outputs": [],
   "source": [
    "# Load dataset\n",
    "os.listdir(\"/kaggle/input\")\n",
    "df = pd.read_csv(\"/kaggle/input/london-house-price-prediction-advanced-techniques/train.csv\")"
   ]
  },
  {
   "cell_type": "code",
   "execution_count": 3,
   "id": "0743bcac",
   "metadata": {
    "execution": {
     "iopub.execute_input": "2025-04-19T18:21:14.210379Z",
     "iopub.status.busy": "2025-04-19T18:21:14.209565Z",
     "iopub.status.idle": "2025-04-19T18:21:14.803293Z",
     "shell.execute_reply": "2025-04-19T18:21:14.802391Z"
    },
    "papermill": {
     "duration": 0.598078,
     "end_time": "2025-04-19T18:21:14.804717",
     "exception": false,
     "start_time": "2025-04-19T18:21:14.206639",
     "status": "completed"
    },
    "tags": []
   },
   "outputs": [
    {
     "data": {
      "text/markdown": [
       "### Question should be asked at this step:\n",
       "- 1.  What is the shape of the dataset?\n",
       "- 2.  Does this size make sense for modeling, or is it too small/too big?\n",
       "- 3.  What types of features do I have? (Numerical, Categorical, Text, Dates, Coordinates?)\n",
       "- 4.  Any features with wrong types? (e.g., dates stored as strings?)\n",
       "- 5.  Which columns have missing values?\n",
       "- 6.  Are they random or do they follow a pattern?\n",
       "- 7.  Should I impute, drop, or create an indicator for missingness?\n",
       "- 8.  What are the min, max, mean, median, and std of numeric columns?\n",
       "- 9.  Are there skewed distributions?\n",
       "- 10. Any unrealistic values or outliers?\n",
       "- 11. How is the target variable (price) distributed?\n",
       "- 12. Does it have skewness or extreme outliers?\n",
       "- 13. What’s the range and variance?\n",
       "- 14. Any duplicate rows or columns?\n",
       "- 15. Do some columns carry the same information (e.g., postcode vs outcode)?\n",
       "- 16. Any ID columns with no analytical value?\n",
       "- 17. Do latitude and longitude match known regions in London?\n",
       "- 18. Are there clusters by postcode or outcode?\n",
       "- 19. Which features might affect house prices? (Bedrooms? Location? Property type? Area?)\n",
       "- 20. Are there engineered features I can create? (e.g., price_per_sqm, is_flat, property_age"
      ],
      "text/plain": [
       "<IPython.core.display.Markdown object>"
      ]
     },
     "metadata": {},
     "output_type": "display_data"
    },
    {
     "data": {
      "text/markdown": [
       "### 🧾 DataFrame Shape"
      ],
      "text/plain": [
       "<IPython.core.display.Markdown object>"
      ]
     },
     "metadata": {},
     "output_type": "display_data"
    },
    {
     "data": {
      "text/markdown": [
       "`(266325, 17)`"
      ],
      "text/plain": [
       "<IPython.core.display.Markdown object>"
      ]
     },
     "metadata": {},
     "output_type": "display_data"
    },
    {
     "data": {
      "text/markdown": [
       "### 🧾 DataFrame Info"
      ],
      "text/plain": [
       "<IPython.core.display.Markdown object>"
      ]
     },
     "metadata": {},
     "output_type": "display_data"
    },
    {
     "data": {
      "text/markdown": [
       "```\n",
       "<class 'pandas.core.frame.DataFrame'>\n",
       "RangeIndex: 266325 entries, 0 to 266324\n",
       "Data columns (total 17 columns):\n",
       " #   Column               Non-Null Count   Dtype  \n",
       "---  ------               --------------   -----  \n",
       " 0   ID                   266325 non-null  int64  \n",
       " 1   fullAddress          266325 non-null  object \n",
       " 2   postcode             266325 non-null  object \n",
       " 3   country              266325 non-null  object \n",
       " 4   outcode              266325 non-null  object \n",
       " 5   latitude             266325 non-null  float64\n",
       " 6   longitude            266325 non-null  float64\n",
       " 7   bathrooms            217846 non-null  float64\n",
       " 8   bedrooms             241482 non-null  float64\n",
       " 9   floorAreaSqM         252519 non-null  float64\n",
       " 10  livingRooms          229285 non-null  float64\n",
       " 11  tenure               260604 non-null  object \n",
       " 12  propertyType         265817 non-null  object \n",
       " 13  currentEnergyRating  209511 non-null  object \n",
       " 14  sale_month           266325 non-null  int64  \n",
       " 15  sale_year            266325 non-null  int64  \n",
       " 16  price                266325 non-null  int64  \n",
       "dtypes: float64(6), int64(4), object(7)\n",
       "memory usage: 34.5+ MB\n",
       "\n",
       "```"
      ],
      "text/plain": [
       "<IPython.core.display.Markdown object>"
      ]
     },
     "metadata": {},
     "output_type": "display_data"
    },
    {
     "data": {
      "text/markdown": [
       "### 🧾 DataFrame Describe"
      ],
      "text/plain": [
       "<IPython.core.display.Markdown object>"
      ]
     },
     "metadata": {},
     "output_type": "display_data"
    },
    {
     "data": {
      "text/html": [
       "<div>\n",
       "<style scoped>\n",
       "    .dataframe tbody tr th:only-of-type {\n",
       "        vertical-align: middle;\n",
       "    }\n",
       "\n",
       "    .dataframe tbody tr th {\n",
       "        vertical-align: top;\n",
       "    }\n",
       "\n",
       "    .dataframe thead th {\n",
       "        text-align: right;\n",
       "    }\n",
       "</style>\n",
       "<table border=\"1\" class=\"dataframe\">\n",
       "  <thead>\n",
       "    <tr style=\"text-align: right;\">\n",
       "      <th></th>\n",
       "      <th>ID</th>\n",
       "      <th>latitude</th>\n",
       "      <th>longitude</th>\n",
       "      <th>bathrooms</th>\n",
       "      <th>bedrooms</th>\n",
       "      <th>floorAreaSqM</th>\n",
       "      <th>livingRooms</th>\n",
       "      <th>sale_month</th>\n",
       "      <th>sale_year</th>\n",
       "      <th>price</th>\n",
       "    </tr>\n",
       "  </thead>\n",
       "  <tbody>\n",
       "    <tr>\n",
       "      <th>count</th>\n",
       "      <td>266325.000000</td>\n",
       "      <td>266325.000000</td>\n",
       "      <td>266325.000000</td>\n",
       "      <td>217846.000000</td>\n",
       "      <td>241482.000000</td>\n",
       "      <td>252519.000000</td>\n",
       "      <td>229285.000000</td>\n",
       "      <td>266325.000000</td>\n",
       "      <td>266325.000000</td>\n",
       "      <td>2.663250e+05</td>\n",
       "    </tr>\n",
       "    <tr>\n",
       "      <th>mean</th>\n",
       "      <td>133162.000000</td>\n",
       "      <td>51.510090</td>\n",
       "      <td>-0.104639</td>\n",
       "      <td>1.439471</td>\n",
       "      <td>2.496140</td>\n",
       "      <td>99.624088</td>\n",
       "      <td>1.292160</td>\n",
       "      <td>6.805670</td>\n",
       "      <td>2012.213855</td>\n",
       "      <td>6.161788e+05</td>\n",
       "    </tr>\n",
       "    <tr>\n",
       "      <th>std</th>\n",
       "      <td>76881.549558</td>\n",
       "      <td>0.056709</td>\n",
       "      <td>0.088074</td>\n",
       "      <td>0.721365</td>\n",
       "      <td>1.172209</td>\n",
       "      <td>56.454683</td>\n",
       "      <td>0.583029</td>\n",
       "      <td>3.356693</td>\n",
       "      <td>9.143113</td>\n",
       "      <td>1.274105e+06</td>\n",
       "    </tr>\n",
       "    <tr>\n",
       "      <th>min</th>\n",
       "      <td>0.000000</td>\n",
       "      <td>51.385708</td>\n",
       "      <td>-0.347055</td>\n",
       "      <td>1.000000</td>\n",
       "      <td>1.000000</td>\n",
       "      <td>10.000000</td>\n",
       "      <td>1.000000</td>\n",
       "      <td>1.000000</td>\n",
       "      <td>1995.000000</td>\n",
       "      <td>1.000000e+04</td>\n",
       "    </tr>\n",
       "    <tr>\n",
       "      <th>25%</th>\n",
       "      <td>66581.000000</td>\n",
       "      <td>51.466685</td>\n",
       "      <td>-0.159167</td>\n",
       "      <td>1.000000</td>\n",
       "      <td>2.000000</td>\n",
       "      <td>63.000000</td>\n",
       "      <td>1.000000</td>\n",
       "      <td>4.000000</td>\n",
       "      <td>2004.000000</td>\n",
       "      <td>2.165000e+05</td>\n",
       "    </tr>\n",
       "    <tr>\n",
       "      <th>50%</th>\n",
       "      <td>133162.000000</td>\n",
       "      <td>51.507202</td>\n",
       "      <td>-0.108622</td>\n",
       "      <td>1.000000</td>\n",
       "      <td>2.000000</td>\n",
       "      <td>85.000000</td>\n",
       "      <td>1.000000</td>\n",
       "      <td>7.000000</td>\n",
       "      <td>2014.000000</td>\n",
       "      <td>3.850000e+05</td>\n",
       "    </tr>\n",
       "    <tr>\n",
       "      <th>75%</th>\n",
       "      <td>199743.000000</td>\n",
       "      <td>51.550937</td>\n",
       "      <td>-0.049202</td>\n",
       "      <td>2.000000</td>\n",
       "      <td>3.000000</td>\n",
       "      <td>118.000000</td>\n",
       "      <td>1.000000</td>\n",
       "      <td>10.000000</td>\n",
       "      <td>2021.000000</td>\n",
       "      <td>6.500000e+05</td>\n",
       "    </tr>\n",
       "    <tr>\n",
       "      <th>max</th>\n",
       "      <td>266324.000000</td>\n",
       "      <td>51.665823</td>\n",
       "      <td>0.139249</td>\n",
       "      <td>9.000000</td>\n",
       "      <td>9.000000</td>\n",
       "      <td>500.000000</td>\n",
       "      <td>9.000000</td>\n",
       "      <td>12.000000</td>\n",
       "      <td>2023.000000</td>\n",
       "      <td>1.000000e+08</td>\n",
       "    </tr>\n",
       "  </tbody>\n",
       "</table>\n",
       "</div>"
      ],
      "text/plain": [
       "                  ID       latitude      longitude      bathrooms  \\\n",
       "count  266325.000000  266325.000000  266325.000000  217846.000000   \n",
       "mean   133162.000000      51.510090      -0.104639       1.439471   \n",
       "std     76881.549558       0.056709       0.088074       0.721365   \n",
       "min         0.000000      51.385708      -0.347055       1.000000   \n",
       "25%     66581.000000      51.466685      -0.159167       1.000000   \n",
       "50%    133162.000000      51.507202      -0.108622       1.000000   \n",
       "75%    199743.000000      51.550937      -0.049202       2.000000   \n",
       "max    266324.000000      51.665823       0.139249       9.000000   \n",
       "\n",
       "            bedrooms   floorAreaSqM    livingRooms     sale_month  \\\n",
       "count  241482.000000  252519.000000  229285.000000  266325.000000   \n",
       "mean        2.496140      99.624088       1.292160       6.805670   \n",
       "std         1.172209      56.454683       0.583029       3.356693   \n",
       "min         1.000000      10.000000       1.000000       1.000000   \n",
       "25%         2.000000      63.000000       1.000000       4.000000   \n",
       "50%         2.000000      85.000000       1.000000       7.000000   \n",
       "75%         3.000000     118.000000       1.000000      10.000000   \n",
       "max         9.000000     500.000000       9.000000      12.000000   \n",
       "\n",
       "           sale_year         price  \n",
       "count  266325.000000  2.663250e+05  \n",
       "mean     2012.213855  6.161788e+05  \n",
       "std         9.143113  1.274105e+06  \n",
       "min      1995.000000  1.000000e+04  \n",
       "25%      2004.000000  2.165000e+05  \n",
       "50%      2014.000000  3.850000e+05  \n",
       "75%      2021.000000  6.500000e+05  \n",
       "max      2023.000000  1.000000e+08  "
      ]
     },
     "metadata": {},
     "output_type": "display_data"
    },
    {
     "data": {
      "text/markdown": [
       "### 🧾 Duplicated Rows"
      ],
      "text/plain": [
       "<IPython.core.display.Markdown object>"
      ]
     },
     "metadata": {},
     "output_type": "display_data"
    },
    {
     "data": {
      "text/plain": [
       "0"
      ]
     },
     "metadata": {},
     "output_type": "display_data"
    }
   ],
   "source": [
    "\n",
    "display(Markdown(\"\"\"### Question should be asked at this step:\n",
    "- 1.  What is the shape of the dataset?\n",
    "- 2.  Does this size make sense for modeling, or is it too small/too big?\n",
    "- 3.  What types of features do I have? (Numerical, Categorical, Text, Dates, Coordinates?)\n",
    "- 4.  Any features with wrong types? (e.g., dates stored as strings?)\n",
    "- 5.  Which columns have missing values?\n",
    "- 6.  Are they random or do they follow a pattern?\n",
    "- 7.  Should I impute, drop, or create an indicator for missingness?\n",
    "- 8.  What are the min, max, mean, median, and std of numeric columns?\n",
    "- 9.  Are there skewed distributions?\n",
    "- 10. Any unrealistic values or outliers?\n",
    "- 11. How is the target variable (price) distributed?\n",
    "- 12. Does it have skewness or extreme outliers?\n",
    "- 13. What’s the range and variance?\n",
    "- 14. Any duplicate rows or columns?\n",
    "- 15. Do some columns carry the same information (e.g., postcode vs outcode)?\n",
    "- 16. Any ID columns with no analytical value?\n",
    "- 17. Do latitude and longitude match known regions in London?\n",
    "- 18. Are there clusters by postcode or outcode?\n",
    "- 19. Which features might affect house prices? (Bedrooms? Location? Property type? Area?)\n",
    "- 20. Are there engineered features I can create? (e.g., price_per_sqm, is_flat, property_age\"\"\"))\n",
    "\n",
    "# Intial exploration \n",
    "# DataFrame Shape\n",
    "display(Markdown(\"### 🧾 DataFrame Shape\"))\n",
    "display(Markdown(f\"`{df.shape}`\"))\n",
    "\n",
    "# DataFrame Info\n",
    "buffer = io.StringIO()\n",
    "df.info(buf=buffer)\n",
    "info_str = buffer.getvalue()\n",
    "\n",
    "display(Markdown(\"### 🧾 DataFrame Info\"))\n",
    "display(Markdown(f\"```\\n{info_str}\\n```\"))\n",
    "\n",
    "# DataFrame Describe\n",
    "display(Markdown(\"### 🧾 DataFrame Describe\"))\n",
    "display(df.describe())\n",
    "\n",
    "#Duplicated rows\n",
    "display(Markdown(\"### 🧾 Duplicated Rows\"))\n",
    "display(df.duplicated().sum())\n"
   ]
  },
  {
   "cell_type": "code",
   "execution_count": 4,
   "id": "da67ded9",
   "metadata": {
    "execution": {
     "iopub.execute_input": "2025-04-19T18:21:14.813262Z",
     "iopub.status.busy": "2025-04-19T18:21:14.812934Z",
     "iopub.status.idle": "2025-04-19T18:21:14.958315Z",
     "shell.execute_reply": "2025-04-19T18:21:14.957335Z"
    },
    "papermill": {
     "duration": 0.151614,
     "end_time": "2025-04-19T18:21:14.959917",
     "exception": false,
     "start_time": "2025-04-19T18:21:14.808303",
     "status": "completed"
    },
    "tags": []
   },
   "outputs": [
    {
     "data": {
      "text/markdown": [
       "### 🧾 1. Handling missing values:\n",
       "- Impute missing values for numerical features (e.g., 'bedrooms', 'bathrooms') using the median to avoid the influence of outliers.\n",
       "- For categorical features (e.g., 'propertyType', 'tenure'), fill missing values with the mode (most frequent value).\n",
       "- Avoid dropping rows for important features like 'bedrooms' (with ~10% missing), as it may lead to loss of valuable data."
      ],
      "text/plain": [
       "<IPython.core.display.Markdown object>"
      ]
     },
     "metadata": {},
     "output_type": "display_data"
    }
   ],
   "source": [
    "# Based on info() and describe(), Let's start data cleaning \n",
    "# Handling Missing Values\n",
    "display(Markdown(\"\"\"### 🧾 1. Handling missing values:\n",
    "- Impute missing values for numerical features (e.g., 'bedrooms', 'bathrooms') using the median to avoid the influence of outliers.\n",
    "- For categorical features (e.g., 'propertyType', 'tenure'), fill missing values with the mode (most frequent value).\n",
    "- Avoid dropping rows for important features like 'bedrooms' (with ~10% missing), as it may lead to loss of valuable data.\"\"\"))\n",
    "\n",
    "# Impute missing values for numerical columns (e.g., median imputation)\n",
    "df['bathrooms'] = df['bathrooms'].fillna(df['bathrooms'].median())\n",
    "df['bedrooms'] = df['bedrooms'].fillna(df['bedrooms'].median())\n",
    "df['livingRooms'] = df['livingRooms'].fillna(df['livingRooms'].median())\n",
    "df['floorAreaSqM'] = df['floorAreaSqM'].fillna(df['floorAreaSqM'].median())\n",
    "\n",
    "\n",
    "# Impute categorical columns with mode\n",
    "df['tenure'] = df['tenure'].fillna(df['tenure'].mode()[0])\n",
    "df['propertyType'] = df['propertyType'].fillna(df['propertyType'].mode()[0])\n",
    "df['currentEnergyRating'] = df['currentEnergyRating'].fillna(df['currentEnergyRating'].mode()[0])"
   ]
  },
  {
   "cell_type": "code",
   "execution_count": 5,
   "id": "221cb433",
   "metadata": {
    "execution": {
     "iopub.execute_input": "2025-04-19T18:21:14.968106Z",
     "iopub.status.busy": "2025-04-19T18:21:14.967778Z",
     "iopub.status.idle": "2025-04-19T18:21:15.932933Z",
     "shell.execute_reply": "2025-04-19T18:21:15.932086Z"
    },
    "papermill": {
     "duration": 0.970985,
     "end_time": "2025-04-19T18:21:15.934360",
     "exception": false,
     "start_time": "2025-04-19T18:21:14.963375",
     "status": "completed"
    },
    "tags": []
   },
   "outputs": [
    {
     "data": {
      "text/markdown": [
       "### 🧾 2. Handle Outliers\n",
       "- Outliers are extreme values that can distort the results of data analysis and model training.\n",
       "- They can be detected using methods like IQR, Z-score, or visualizations (boxplots, scatter plots).\n",
       "- In this case, we're focusing on handling outliers for key numeric columns like 'price', 'floorAreaSqM', etc.\n",
       "- We chose to remove extreme outliers using IQR method for simplicity and effectiveness.\n",
       "- More advanced methods like log transformation or robust models exist but are not used here to keep the pipeline clean and interpretable.\n",
       "- ✅ Replacing missing (null) values with median is a common and safe practice,\n",
       "- especially when the percentage of missing data is low and the column is skewed.\n",
       "- ❌ But replacing outliers with median is discouraged as it removes real (but extreme) observations.\n",
       "- It's better to analyze or transform outliers instead of just masking them."
      ],
      "text/plain": [
       "<IPython.core.display.Markdown object>"
      ]
     },
     "metadata": {},
     "output_type": "display_data"
    },
    {
     "data": {
      "text/markdown": [
       "### IQR (Price): "
      ],
      "text/plain": [
       "<IPython.core.display.Markdown object>"
      ]
     },
     "metadata": {},
     "output_type": "display_data"
    },
    {
     "name": "stdout",
     "output_type": "stream",
     "text": [
      "433500.0\n"
     ]
    },
    {
     "data": {
      "image/png": "[encoded data removed]",
      "text/plain": [
       "<Figure size 600x100 with 1 Axes>"
      ]
     },
     "metadata": {},
     "output_type": "display_data"
    },
    {
     "data": {
      "text/markdown": [
       "### IQR (floorAreaSqM): "
      ],
      "text/plain": [
       "<IPython.core.display.Markdown object>"
      ]
     },
     "metadata": {},
     "output_type": "display_data"
    },
    {
     "name": "stdout",
     "output_type": "stream",
     "text": [
      "46.0\n"
     ]
    },
    {
     "data": {
      "image/png": "[encoded data removed]",
      "text/plain": [
       "<Figure size 600x100 with 1 Axes>"
      ]
     },
     "metadata": {},
     "output_type": "display_data"
    },
    {
     "data": {
      "text/markdown": [
       "### IQR (bathrooms): "
      ],
      "text/plain": [
       "<IPython.core.display.Markdown object>"
      ]
     },
     "metadata": {},
     "output_type": "display_data"
    },
    {
     "name": "stdout",
     "output_type": "stream",
     "text": [
      "0.0\n"
     ]
    },
    {
     "data": {
      "image/png": "[encoded data removed]",
      "text/plain": [
       "<Figure size 600x100 with 1 Axes>"
      ]
     },
     "metadata": {},
     "output_type": "display_data"
    },
    {
     "data": {
      "text/markdown": [
       "### IQR (bedrooms): "
      ],
      "text/plain": [
       "<IPython.core.display.Markdown object>"
      ]
     },
     "metadata": {},
     "output_type": "display_data"
    },
    {
     "name": "stdout",
     "output_type": "stream",
     "text": [
      "1.0\n"
     ]
    },
    {
     "data": {
      "image/png": "[encoded data removed]",
      "text/plain": [
       "<Figure size 600x100 with 1 Axes>"
      ]
     },
     "metadata": {},
     "output_type": "display_data"
    },
    {
     "data": {
      "text/markdown": [
       "### IQR (livingRooms): "
      ],
      "text/plain": [
       "<IPython.core.display.Markdown object>"
      ]
     },
     "metadata": {},
     "output_type": "display_data"
    },
    {
     "name": "stdout",
     "output_type": "stream",
     "text": [
      "0.0\n"
     ]
    },
    {
     "data": {
      "image/png": "[encoded data removed]",
      "text/plain": [
       "<Figure size 600x100 with 1 Axes>"
      ]
     },
     "metadata": {},
     "output_type": "display_data"
    }
   ],
   "source": [
    "# Handling Outliers \n",
    "display(Markdown(\"\"\"### 🧾 2. Handle Outliers\n",
    "- Outliers are extreme values that can distort the results of data analysis and model training.\n",
    "- They can be detected using methods like IQR, Z-score, or visualizations (boxplots, scatter plots).\n",
    "- In this case, we're focusing on handling outliers for key numeric columns like 'price', 'floorAreaSqM', etc.\n",
    "- We chose to remove extreme outliers using IQR method for simplicity and effectiveness.\n",
    "- More advanced methods like log transformation or robust models exist but are not used here to keep the pipeline clean and interpretable.\n",
    "- ✅ Replacing missing (null) values with median is a common and safe practice,\n",
    "- especially when the percentage of missing data is low and the column is skewed.\n",
    "- ❌ But replacing outliers with median is discouraged as it removes real (but extreme) observations.\n",
    "- It's better to analyze or transform outliers instead of just masking them.\"\"\"))\n",
    "\n",
    "# Calculate IQR for the 'price' column\n",
    "Q1 = df['price'].quantile(0.25)\n",
    "Q3 = df['price'].quantile(0.75)\n",
    "IQR = Q3 - Q1\n",
    "display(Markdown(\"### IQR (Price): \"))\n",
    "print(IQR)\n",
    "\n",
    "plt.figure(figsize=(6, 1))  # width=6, height=2\n",
    "sns.boxplot(x=df['price'])\n",
    "plt.title('Boxplot of price')\n",
    "plt.show()\n",
    "\n",
    "# Filter out outliers based on IQR\n",
    "df = df[(df['price'] >= (Q1 - 1.5 * IQR)) & (df['price'] <= (Q3 + 1.5 * IQR))]\n",
    "\n",
    "#💡 Why 1.5?\n",
    "# The 1.5 is a rule of thumb to give a reasonable range\n",
    "# It helps flag values that are much smaller or much larger than the majority\n",
    "# In most cases, yes — we use 1.5 * IQR to detect outliers\n",
    "#🚨 But there are also other thresholds:\n",
    "# Multiplier | Used For             | Meaning\n",
    "# 1.5        | 🟡 Mild Outliers    | Most common for basic outlier detection\n",
    "# 3.0        | 🔴 Extreme Outliers | Used when you want to detect only very unusual values\n",
    "\n",
    "# Calculate IQR for the 'floorAreaSqM' column\n",
    "Q1 = df['floorAreaSqM'].quantile(0.25)\n",
    "Q3 = df['floorAreaSqM'].quantile(0.75)\n",
    "IQR = Q3 - Q1\n",
    "display(Markdown(\"### IQR (floorAreaSqM): \"))\n",
    "print(IQR)\n",
    "\n",
    "plt.figure(figsize=(6, 1))  # width=6, height=2\n",
    "sns.boxplot(x=df['floorAreaSqM'])\n",
    "plt.title('Boxplot of floorAreaSqM')\n",
    "plt.show()\n",
    "\n",
    "# Filter out outliers based on IQR\n",
    "df = df[(df['floorAreaSqM'] >= (Q1 - 1.5 * IQR)) & (df['floorAreaSqM'] <= (Q3 + 1.5 * IQR))]\n",
    "\n",
    "# Calculate IQR for the 'bathrooms' column\n",
    "Q1 = df['bathrooms'].quantile(0.25)\n",
    "Q3 = df['bathrooms'].quantile(0.75)\n",
    "IQR = Q3 - Q1\n",
    "display(Markdown(\"### IQR (bathrooms): \"))\n",
    "print(IQR)\n",
    "\n",
    "plt.figure(figsize=(6, 1))  # width=6, height=2\n",
    "sns.boxplot(x=df['bathrooms'])\n",
    "plt.title('Boxplot of bathrooms')\n",
    "plt.show()\n",
    "\n",
    "# Calculate IQR for the 'bedrooms' column\n",
    "Q1 = df['bedrooms'].quantile(0.25)\n",
    "Q3 = df['bedrooms'].quantile(0.75)\n",
    "IQR = Q3 - Q1\n",
    "display(Markdown(\"### IQR (bedrooms): \"))\n",
    "print(IQR)\n",
    "\n",
    "plt.figure(figsize=(6, 1))  # width=6, height=2\n",
    "sns.boxplot(x=df['bedrooms'])\n",
    "plt.title('Boxplot of bedrooms')\n",
    "plt.show()\n",
    "\n",
    "\n",
    "# Calculate IQR for the 'livingRooms' column\n",
    "Q1 = df['livingRooms'].quantile(0.25)\n",
    "Q3 = df['livingRooms'].quantile(0.75)\n",
    "IQR = Q3 - Q1\n",
    "display(Markdown(\"### IQR (livingRooms): \"))\n",
    "print(IQR)\n",
    "\n",
    "plt.figure(figsize=(6, 1))  # width=6, height=2\n",
    "sns.boxplot(x=df['floorAreaSqM'])\n",
    "plt.title('Boxplot of floorAreaSqM')\n",
    "plt.show()\n",
    "\n",
    "# Outlier Detection Strategy:\n",
    "# - Used IQR for features with sufficient spread (e.g., floorAreaSqM, price).\n",
    "# - Skipped IQR for features like bathrooms/livingRooms where IQR = 0.\n",
    "# - For such features, considered valid upper limits or domain-based thresholds.\n",
    "# - IQR is not ideal when data is heavily skewed or lacks spread; alternatives like percentiles or manual capping may work better.\n",
    "\n",
    "#Detail Interpretation for livivngRooms same applies to other variables like bathroom and bedroom\n",
    "# ✅ Interpretation:\n",
    "# Over 92% of the values are 1.0 (211,437 out of ~229,000).\n",
    "# Very few entries have more than 2 living rooms.\n",
    "# This is a right-skewed distribution, not a case where IQR is helpful.\n",
    "# ✅ What to do:\n",
    "# Don’t use IQR for outlier detection here.\n",
    "# You can either:\n",
    "# Leave as is\n",
    "# Or flag rows with livingRooms > 5 as rare/extreme if it helps modeling."
   ]
  },
  {
   "cell_type": "code",
   "execution_count": 6,
   "id": "fb64da73",
   "metadata": {
    "execution": {
     "iopub.execute_input": "2025-04-19T18:21:15.948102Z",
     "iopub.status.busy": "2025-04-19T18:21:15.947780Z",
     "iopub.status.idle": "2025-04-19T18:21:16.037324Z",
     "shell.execute_reply": "2025-04-19T18:21:16.036571Z"
    },
    "papermill": {
     "duration": 0.097585,
     "end_time": "2025-04-19T18:21:16.039084",
     "exception": false,
     "start_time": "2025-04-19T18:21:15.941499",
     "status": "completed"
    },
    "tags": []
   },
   "outputs": [
    {
     "data": {
      "text/markdown": [
       "### 🧾 3. Covert Datatypes\n",
       "- Convert columns like sale_month and sale_year to integers, \n",
       "and make sure the ID column is not treated as a numerical value for modeling purposes."
      ],
      "text/plain": [
       "<IPython.core.display.Markdown object>"
      ]
     },
     "metadata": {},
     "output_type": "display_data"
    }
   ],
   "source": [
    "display(Markdown(\"\"\"### 🧾 3. Covert Datatypes\n",
    "- Convert columns like sale_month and sale_year to integers, \n",
    "and make sure the ID column is not treated as a numerical value for modeling purposes.\"\"\"))\n",
    "\n",
    "# Convert columns to appropriate types\n",
    "df['sale_month'] = df['sale_month'].astype(int)\n",
    "df['sale_year'] = df['sale_year'].astype(int)\n",
    "df['livingRooms'] = df['livingRooms'].astype(int)\n",
    "df['bedrooms'] = df['bedrooms'].astype(int)\n",
    "df['bathrooms'] = df['bathrooms'].astype(int)\n",
    "df['ID'] = df['ID'].astype(str)\n",
    "\n",
    "# The 'ID' column is just an identifier and holds no predictive value.\n",
    "# Including it as a numeric feature can mislead the model by introducing noise.\n",
    "# Therefore, we will drop it before training."
   ]
  }
 ],
 "metadata": {
  "kaggle": {
   "accelerator": "none",
   "dataSources": [
    {
     "databundleVersionId": 10105526,
     "sourceId": 88312,
     "sourceType": "competition"
    }
   ],
   "dockerImageVersionId": 31012,
   "isGpuEnabled": false,
   "isInternetEnabled": false,
   "language": "python",
   "sourceType": "notebook"
  },
  "kernelspec": {
   "display_name": "Python 3",
   "language": "python",
   "name": "python3"
  },
  "language_info": {
   "codemirror_mode": {
    "name": "ipython",
    "version": 3
   },
   "file_extension": ".py",
   "mimetype": "text/x-python",
   "name": "python",
   "nbconvert_exporter": "python",
   "pygments_lexer": "ipython3",
   "version": "3.11.11"
  },
  "papermill": {
   "default_parameters": {},
   "duration": 12.011613,
   "end_time": "2025-04-19T18:21:16.664560",
   "environment_variables": {},
   "exception": null,
   "input_path": "__notebook__.ipynb",
   "output_path": "__notebook__.ipynb",
   "parameters": {},
   "start_time": "2025-04-19T18:21:04.652947",
   "version": "2.6.0"
  }
 },
 "nbformat": 4,
 "nbformat_minor": 5
}
