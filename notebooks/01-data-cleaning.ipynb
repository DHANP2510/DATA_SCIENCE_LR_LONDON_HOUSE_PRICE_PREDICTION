{
 "cells": [
  {
   "cell_type": "code",
   "execution_count": 1,
   "id": "d966cc50",
   "metadata": {
    "_cell_guid": "5eb46905-6a8a-4a57-a71a-6bc665029966",
    "_uuid": "1b48feb4-c041-4fc6-aa75-739494e88f13",
    "execution": {
     "iopub.execute_input": "2025-04-30T17:42:35.000349Z",
     "iopub.status.busy": "2025-04-30T17:42:34.999938Z",
     "iopub.status.idle": "2025-04-30T17:42:38.903776Z",
     "shell.execute_reply": "2025-04-30T17:42:38.902858Z"
    },
    "papermill": {
     "duration": 3.910723,
     "end_time": "2025-04-30T17:42:38.905522",
     "exception": false,
     "start_time": "2025-04-30T17:42:34.994799",
     "status": "completed"
    },
    "tags": []
   },
   "outputs": [],
   "source": [
    "# Import libraries \n",
    "from IPython.display import display, Markdown\n",
    "import numpy as np\n",
    "import pandas as pd\n",
    "import matplotlib.pyplot as plt\n",
    "import seaborn as sns\n",
    "import os\n",
    "import io"
   ]
  },
  {
   "cell_type": "code",
   "execution_count": 2,
   "id": "2c1fb6cf",
   "metadata": {
    "execution": {
     "iopub.execute_input": "2025-04-30T17:42:38.914434Z",
     "iopub.status.busy": "2025-04-30T17:42:38.913878Z",
     "iopub.status.idle": "2025-04-30T17:42:38.919697Z",
     "shell.execute_reply": "2025-04-30T17:42:38.918740Z"
    },
    "papermill": {
     "duration": 0.012393,
     "end_time": "2025-04-30T17:42:38.921743",
     "exception": false,
     "start_time": "2025-04-30T17:42:38.909350",
     "status": "completed"
    },
    "tags": []
   },
   "outputs": [],
   "source": [
    "# Set float format for display (e.g., 2 decimal places)\n",
    "pd.options.display.float_format = '{:.2f}'.format"
   ]
  },
  {
   "cell_type": "code",
   "execution_count": 3,
   "id": "39e58dd4",
   "metadata": {
    "execution": {
     "iopub.execute_input": "2025-04-30T17:42:38.934275Z",
     "iopub.status.busy": "2025-04-30T17:42:38.933382Z",
     "iopub.status.idle": "2025-04-30T17:42:40.758667Z",
     "shell.execute_reply": "2025-04-30T17:42:40.757297Z"
    },
    "papermill": {
     "duration": 1.833195,
     "end_time": "2025-04-30T17:42:40.760465",
     "exception": false,
     "start_time": "2025-04-30T17:42:38.927270",
     "status": "completed"
    },
    "tags": []
   },
   "outputs": [],
   "source": [
    "# Load dataset\n",
    "os.listdir(\"/kaggle/input\")\n",
    "df = pd.read_csv(\"/kaggle/input/london-house-price-prediction-advanced-techniques/train.csv\")"
   ]
  },
  {
   "cell_type": "code",
   "execution_count": 4,
   "id": "2a96b6eb",
   "metadata": {
    "execution": {
     "iopub.execute_input": "2025-04-30T17:42:40.769598Z",
     "iopub.status.busy": "2025-04-30T17:42:40.768664Z",
     "iopub.status.idle": "2025-04-30T17:42:41.412132Z",
     "shell.execute_reply": "2025-04-30T17:42:41.411137Z"
    },
    "papermill": {
     "duration": 0.649909,
     "end_time": "2025-04-30T17:42:41.413956",
     "exception": false,
     "start_time": "2025-04-30T17:42:40.764047",
     "status": "completed"
    },
    "tags": []
   },
   "outputs": [
    {
     "data": {
      "text/markdown": [
       "### Question should be asked at this step:\n",
       "- 1.  What is the shape of the dataset?\n",
       "- 2.  Does this size make sense for modeling, or is it too small/too big?\n",
       "- 3.  What types of features do I have? (Numerical, Categorical, Text, Dates, Coordinates?)\n",
       "- 4.  Any features with wrong types? (e.g., dates stored as strings?)\n",
       "- 5.  Which columns have missing values?\n",
       "- 6.  Are they random or do they follow a pattern?\n",
       "- 7.  Should I impute, drop, or create an indicator for missingness?\n",
       "- 8.  What are the min, max, mean, median, and std of numeric columns?\n",
       "- 9.  Are there skewed distributions?\n",
       "- 10. Any unrealistic values or outliers?\n",
       "- 11. How is the target variable (price) distributed?\n",
       "- 12. Does it have skewness or extreme outliers?\n",
       "- 13. What’s the range and variance?\n",
       "- 14. Any duplicate rows or columns?\n",
       "- 15. Do some columns carry the same information (e.g., postcode vs outcode)?\n",
       "- 16. Any ID columns with no analytical value?\n",
       "- 17. Do latitude and longitude match known regions in London?\n",
       "- 18. Are there clusters by postcode or outcode?\n",
       "- 19. Which features might affect house prices? (Bedrooms? Location? Property type? Area?)\n",
       "- 20. Are there engineered features I can create? (e.g., price_per_sqm, is_flat, property_age"
      ],
      "text/plain": [
       "<IPython.core.display.Markdown object>"
      ]
     },
     "metadata": {},
     "output_type": "display_data"
    },
    {
     "data": {
      "text/markdown": [
       "### 🧾 DataFrame Shape"
      ],
      "text/plain": [
       "<IPython.core.display.Markdown object>"
      ]
     },
     "metadata": {},
     "output_type": "display_data"
    },
    {
     "data": {
      "text/markdown": [
       "`(266325, 17)`"
      ],
      "text/plain": [
       "<IPython.core.display.Markdown object>"
      ]
     },
     "metadata": {},
     "output_type": "display_data"
    },
    {
     "data": {
      "text/markdown": [
       "### 🧾 DataFrame Info"
      ],
      "text/plain": [
       "<IPython.core.display.Markdown object>"
      ]
     },
     "metadata": {},
     "output_type": "display_data"
    },
    {
     "data": {
      "text/markdown": [
       "```\n",
       "<class 'pandas.core.frame.DataFrame'>\n",
       "RangeIndex: 266325 entries, 0 to 266324\n",
       "Data columns (total 17 columns):\n",
       " #   Column               Non-Null Count   Dtype  \n",
       "---  ------               --------------   -----  \n",
       " 0   ID                   266325 non-null  int64  \n",
       " 1   fullAddress          266325 non-null  object \n",
       " 2   postcode             266325 non-null  object \n",
       " 3   country              266325 non-null  object \n",
       " 4   outcode              266325 non-null  object \n",
       " 5   latitude             266325 non-null  float64\n",
       " 6   longitude            266325 non-null  float64\n",
       " 7   bathrooms            217846 non-null  float64\n",
       " 8   bedrooms             241482 non-null  float64\n",
       " 9   floorAreaSqM         252519 non-null  float64\n",
       " 10  livingRooms          229285 non-null  float64\n",
       " 11  tenure               260604 non-null  object \n",
       " 12  propertyType         265817 non-null  object \n",
       " 13  currentEnergyRating  209511 non-null  object \n",
       " 14  sale_month           266325 non-null  int64  \n",
       " 15  sale_year            266325 non-null  int64  \n",
       " 16  price                266325 non-null  int64  \n",
       "dtypes: float64(6), int64(4), object(7)\n",
       "memory usage: 34.5+ MB\n",
       "\n",
       "```"
      ],
      "text/plain": [
       "<IPython.core.display.Markdown object>"
      ]
     },
     "metadata": {},
     "output_type": "display_data"
    },
    {
     "data": {
      "text/markdown": [
       "### 🧾 DataFrame Describe"
      ],
      "text/plain": [
       "<IPython.core.display.Markdown object>"
      ]
     },
     "metadata": {},
     "output_type": "display_data"
    },
    {
     "data": {
      "text/html": [
       "<div>\n",
       "<style scoped>\n",
       "    .dataframe tbody tr th:only-of-type {\n",
       "        vertical-align: middle;\n",
       "    }\n",
       "\n",
       "    .dataframe tbody tr th {\n",
       "        vertical-align: top;\n",
       "    }\n",
       "\n",
       "    .dataframe thead th {\n",
       "        text-align: right;\n",
       "    }\n",
       "</style>\n",
       "<table border=\"1\" class=\"dataframe\">\n",
       "  <thead>\n",
       "    <tr style=\"text-align: right;\">\n",
       "      <th></th>\n",
       "      <th>ID</th>\n",
       "      <th>latitude</th>\n",
       "      <th>longitude</th>\n",
       "      <th>bathrooms</th>\n",
       "      <th>bedrooms</th>\n",
       "      <th>floorAreaSqM</th>\n",
       "      <th>livingRooms</th>\n",
       "      <th>sale_month</th>\n",
       "      <th>sale_year</th>\n",
       "      <th>price</th>\n",
       "    </tr>\n",
       "  </thead>\n",
       "  <tbody>\n",
       "    <tr>\n",
       "      <th>count</th>\n",
       "      <td>266325.00</td>\n",
       "      <td>266325.00</td>\n",
       "      <td>266325.00</td>\n",
       "      <td>217846.00</td>\n",
       "      <td>241482.00</td>\n",
       "      <td>252519.00</td>\n",
       "      <td>229285.00</td>\n",
       "      <td>266325.00</td>\n",
       "      <td>266325.00</td>\n",
       "      <td>266325.00</td>\n",
       "    </tr>\n",
       "    <tr>\n",
       "      <th>mean</th>\n",
       "      <td>133162.00</td>\n",
       "      <td>51.51</td>\n",
       "      <td>-0.10</td>\n",
       "      <td>1.44</td>\n",
       "      <td>2.50</td>\n",
       "      <td>99.62</td>\n",
       "      <td>1.29</td>\n",
       "      <td>6.81</td>\n",
       "      <td>2012.21</td>\n",
       "      <td>616178.82</td>\n",
       "    </tr>\n",
       "    <tr>\n",
       "      <th>std</th>\n",
       "      <td>76881.55</td>\n",
       "      <td>0.06</td>\n",
       "      <td>0.09</td>\n",
       "      <td>0.72</td>\n",
       "      <td>1.17</td>\n",
       "      <td>56.45</td>\n",
       "      <td>0.58</td>\n",
       "      <td>3.36</td>\n",
       "      <td>9.14</td>\n",
       "      <td>1274104.56</td>\n",
       "    </tr>\n",
       "    <tr>\n",
       "      <th>min</th>\n",
       "      <td>0.00</td>\n",
       "      <td>51.39</td>\n",
       "      <td>-0.35</td>\n",
       "      <td>1.00</td>\n",
       "      <td>1.00</td>\n",
       "      <td>10.00</td>\n",
       "      <td>1.00</td>\n",
       "      <td>1.00</td>\n",
       "      <td>1995.00</td>\n",
       "      <td>10000.00</td>\n",
       "    </tr>\n",
       "    <tr>\n",
       "      <th>25%</th>\n",
       "      <td>66581.00</td>\n",
       "      <td>51.47</td>\n",
       "      <td>-0.16</td>\n",
       "      <td>1.00</td>\n",
       "      <td>2.00</td>\n",
       "      <td>63.00</td>\n",
       "      <td>1.00</td>\n",
       "      <td>4.00</td>\n",
       "      <td>2004.00</td>\n",
       "      <td>216500.00</td>\n",
       "    </tr>\n",
       "    <tr>\n",
       "      <th>50%</th>\n",
       "      <td>133162.00</td>\n",
       "      <td>51.51</td>\n",
       "      <td>-0.11</td>\n",
       "      <td>1.00</td>\n",
       "      <td>2.00</td>\n",
       "      <td>85.00</td>\n",
       "      <td>1.00</td>\n",
       "      <td>7.00</td>\n",
       "      <td>2014.00</td>\n",
       "      <td>385000.00</td>\n",
       "    </tr>\n",
       "    <tr>\n",
       "      <th>75%</th>\n",
       "      <td>199743.00</td>\n",
       "      <td>51.55</td>\n",
       "      <td>-0.05</td>\n",
       "      <td>2.00</td>\n",
       "      <td>3.00</td>\n",
       "      <td>118.00</td>\n",
       "      <td>1.00</td>\n",
       "      <td>10.00</td>\n",
       "      <td>2021.00</td>\n",
       "      <td>650000.00</td>\n",
       "    </tr>\n",
       "    <tr>\n",
       "      <th>max</th>\n",
       "      <td>266324.00</td>\n",
       "      <td>51.67</td>\n",
       "      <td>0.14</td>\n",
       "      <td>9.00</td>\n",
       "      <td>9.00</td>\n",
       "      <td>500.00</td>\n",
       "      <td>9.00</td>\n",
       "      <td>12.00</td>\n",
       "      <td>2023.00</td>\n",
       "      <td>100000000.00</td>\n",
       "    </tr>\n",
       "  </tbody>\n",
       "</table>\n",
       "</div>"
      ],
      "text/plain": [
       "             ID  latitude  longitude  bathrooms  bedrooms  floorAreaSqM  \\\n",
       "count 266325.00 266325.00  266325.00  217846.00 241482.00     252519.00   \n",
       "mean  133162.00     51.51      -0.10       1.44      2.50         99.62   \n",
       "std    76881.55      0.06       0.09       0.72      1.17         56.45   \n",
       "min        0.00     51.39      -0.35       1.00      1.00         10.00   \n",
       "25%    66581.00     51.47      -0.16       1.00      2.00         63.00   \n",
       "50%   133162.00     51.51      -0.11       1.00      2.00         85.00   \n",
       "75%   199743.00     51.55      -0.05       2.00      3.00        118.00   \n",
       "max   266324.00     51.67       0.14       9.00      9.00        500.00   \n",
       "\n",
       "       livingRooms  sale_month  sale_year        price  \n",
       "count    229285.00   266325.00  266325.00    266325.00  \n",
       "mean          1.29        6.81    2012.21    616178.82  \n",
       "std           0.58        3.36       9.14   1274104.56  \n",
       "min           1.00        1.00    1995.00     10000.00  \n",
       "25%           1.00        4.00    2004.00    216500.00  \n",
       "50%           1.00        7.00    2014.00    385000.00  \n",
       "75%           1.00       10.00    2021.00    650000.00  \n",
       "max           9.00       12.00    2023.00 100000000.00  "
      ]
     },
     "metadata": {},
     "output_type": "display_data"
    },
    {
     "data": {
      "text/markdown": [
       "### 🧾 Duplicated Rows"
      ],
      "text/plain": [
       "<IPython.core.display.Markdown object>"
      ]
     },
     "metadata": {},
     "output_type": "display_data"
    },
    {
     "data": {
      "text/plain": [
       "0"
      ]
     },
     "metadata": {},
     "output_type": "display_data"
    }
   ],
   "source": [
    "display(Markdown(\"\"\"### Question should be asked at this step:\n",
    "- 1.  What is the shape of the dataset?\n",
    "- 2.  Does this size make sense for modeling, or is it too small/too big?\n",
    "- 3.  What types of features do I have? (Numerical, Categorical, Text, Dates, Coordinates?)\n",
    "- 4.  Any features with wrong types? (e.g., dates stored as strings?)\n",
    "- 5.  Which columns have missing values?\n",
    "- 6.  Are they random or do they follow a pattern?\n",
    "- 7.  Should I impute, drop, or create an indicator for missingness?\n",
    "- 8.  What are the min, max, mean, median, and std of numeric columns?\n",
    "- 9.  Are there skewed distributions?\n",
    "- 10. Any unrealistic values or outliers?\n",
    "- 11. How is the target variable (price) distributed?\n",
    "- 12. Does it have skewness or extreme outliers?\n",
    "- 13. What’s the range and variance?\n",
    "- 14. Any duplicate rows or columns?\n",
    "- 15. Do some columns carry the same information (e.g., postcode vs outcode)?\n",
    "- 16. Any ID columns with no analytical value?\n",
    "- 17. Do latitude and longitude match known regions in London?\n",
    "- 18. Are there clusters by postcode or outcode?\n",
    "- 19. Which features might affect house prices? (Bedrooms? Location? Property type? Area?)\n",
    "- 20. Are there engineered features I can create? (e.g., price_per_sqm, is_flat, property_age\"\"\"))\n",
    "\n",
    "# Intial exploration \n",
    "# DataFrame Shape\n",
    "display(Markdown(\"### 🧾 DataFrame Shape\"))\n",
    "display(Markdown(f\"`{df.shape}`\"))\n",
    "\n",
    "# DataFrame Info\n",
    "buffer = io.StringIO()\n",
    "df.info(buf=buffer)\n",
    "info_str = buffer.getvalue()\n",
    "\n",
    "display(Markdown(\"### 🧾 DataFrame Info\"))\n",
    "display(Markdown(f\"```\\n{info_str}\\n```\"))\n",
    "\n",
    "# DataFrame Describe\n",
    "display(Markdown(\"### 🧾 DataFrame Describe\"))\n",
    "display(df.describe())\n",
    "\n",
    "#Duplicated rows\n",
    "display(Markdown(\"### 🧾 Duplicated Rows\"))\n",
    "display(df.duplicated().sum())"
   ]
  },
  {
   "cell_type": "code",
   "execution_count": 5,
   "id": "0be3eebc",
   "metadata": {
    "execution": {
     "iopub.execute_input": "2025-04-30T17:42:41.424495Z",
     "iopub.status.busy": "2025-04-30T17:42:41.423620Z",
     "iopub.status.idle": "2025-04-30T17:42:41.574846Z",
     "shell.execute_reply": "2025-04-30T17:42:41.573685Z"
    },
    "papermill": {
     "duration": 0.158022,
     "end_time": "2025-04-30T17:42:41.576605",
     "exception": false,
     "start_time": "2025-04-30T17:42:41.418583",
     "status": "completed"
    },
    "tags": []
   },
   "outputs": [
    {
     "data": {
      "text/markdown": [
       "### 🧾 1. Handling missing values:\n",
       "- Impute missing values for numerical features (e.g., 'bedrooms', 'bathrooms') using the median to avoid the influence of outliers.\n",
       "- For categorical features (e.g., 'propertyType', 'tenure'), fill missing values with the mode (most frequent value).\n",
       "- Avoid dropping rows for important features like 'bedrooms' (with ~10% missing), as it may lead to loss of valuable data."
      ],
      "text/plain": [
       "<IPython.core.display.Markdown object>"
      ]
     },
     "metadata": {},
     "output_type": "display_data"
    }
   ],
   "source": [
    "# Based on info() and describe(), Let's start data cleaning \n",
    "# Handling Missing Values\n",
    "display(Markdown(\"\"\"### 🧾 1. Handling missing values:\n",
    "- Impute missing values for numerical features (e.g., 'bedrooms', 'bathrooms') using the median to avoid the influence of outliers.\n",
    "- For categorical features (e.g., 'propertyType', 'tenure'), fill missing values with the mode (most frequent value).\n",
    "- Avoid dropping rows for important features like 'bedrooms' (with ~10% missing), as it may lead to loss of valuable data.\"\"\"))\n",
    "\n",
    "# Impute missing values for numerical columns (e.g., median imputation)\n",
    "df['bathrooms'] = df['bathrooms'].fillna(df['bathrooms'].median())\n",
    "df['bedrooms'] = df['bedrooms'].fillna(df['bedrooms'].median())\n",
    "df['livingRooms'] = df['livingRooms'].fillna(df['livingRooms'].median())\n",
    "df['floorAreaSqM'] = df['floorAreaSqM'].fillna(df['floorAreaSqM'].median())\n",
    "\n",
    "\n",
    "# Impute categorical columns with mode\n",
    "df['tenure'] = df['tenure'].fillna(df['tenure'].mode()[0])\n",
    "df['propertyType'] = df['propertyType'].fillna(df['propertyType'].mode()[0])\n",
    "df['currentEnergyRating'] = df['currentEnergyRating'].fillna(df['currentEnergyRating'].mode()[0])"
   ]
  },
  {
   "cell_type": "code",
   "execution_count": 6,
   "id": "43e8d58f",
   "metadata": {
    "execution": {
     "iopub.execute_input": "2025-04-30T17:42:41.588135Z",
     "iopub.status.busy": "2025-04-30T17:42:41.587805Z",
     "iopub.status.idle": "2025-04-30T17:42:42.766346Z",
     "shell.execute_reply": "2025-04-30T17:42:42.765481Z"
    },
    "papermill": {
     "duration": 1.185531,
     "end_time": "2025-04-30T17:42:42.767972",
     "exception": false,
     "start_time": "2025-04-30T17:42:41.582441",
     "status": "completed"
    },
    "tags": []
   },
   "outputs": [
    {
     "data": {
      "text/markdown": [
       "### 🧾 2. Handle Outliers\n",
       "- Outliers are extreme values that can distort the results of data analysis and model training.\n",
       "- They can be detected using methods like IQR, Z-score, or visualizations (boxplots, scatter plots).\n",
       "- In this case, we're focusing on handling outliers for key numeric columns like 'price', 'floorAreaSqM', etc.\n",
       "- We chose to remove extreme outliers using IQR method for simplicity and effectiveness.\n",
       "- More advanced methods like log transformation or robust models exist but are not used here to keep the pipeline clean and interpretable.\n",
       "- ✅ Replacing missing (null) values with median is a common and safe practice,\n",
       "- especially when the percentage of missing data is low and the column is skewed.\n",
       "- ❌ But replacing outliers with median is discouraged as it removes real (but extreme) observations.\n",
       "- It's better to analyze or transform outliers instead of just masking them."
      ],
      "text/plain": [
       "<IPython.core.display.Markdown object>"
      ]
     },
     "metadata": {},
     "output_type": "display_data"
    },
    {
     "data": {
      "text/markdown": [
       "### IQR (Price): "
      ],
      "text/plain": [
       "<IPython.core.display.Markdown object>"
      ]
     },
     "metadata": {},
     "output_type": "display_data"
    },
    {
     "name": "stdout",
     "output_type": "stream",
     "text": [
      "433500.0\n"
     ]
    },
    {
     "data": {
      "image/png": "[encoded data removed]",
      "text/plain": [
       "<Figure size 600x100 with 1 Axes>"
      ]
     },
     "metadata": {},
     "output_type": "display_data"
    },
    {
     "data": {
      "text/markdown": [
       "### IQR (floorAreaSqM): "
      ],
      "text/plain": [
       "<IPython.core.display.Markdown object>"
      ]
     },
     "metadata": {},
     "output_type": "display_data"
    },
    {
     "name": "stdout",
     "output_type": "stream",
     "text": [
      "46.0\n"
     ]
    },
    {
     "data": {
      "image/png": "[encoded data removed]",
      "text/plain": [
       "<Figure size 600x100 with 1 Axes>"
      ]
     },
     "metadata": {},
     "output_type": "display_data"
    },
    {
     "data": {
      "text/markdown": [
       "### IQR (bathrooms): "
      ],
      "text/plain": [
       "<IPython.core.display.Markdown object>"
      ]
     },
     "metadata": {},
     "output_type": "display_data"
    },
    {
     "name": "stdout",
     "output_type": "stream",
     "text": [
      "0.0\n"
     ]
    },
    {
     "data": {
      "image/png": "[encoded data removed]",
      "text/plain": [
       "<Figure size 600x100 with 1 Axes>"
      ]
     },
     "metadata": {},
     "output_type": "display_data"
    },
    {
     "data": {
      "text/markdown": [
       "### IQR (bedrooms): "
      ],
      "text/plain": [
       "<IPython.core.display.Markdown object>"
      ]
     },
     "metadata": {},
     "output_type": "display_data"
    },
    {
     "name": "stdout",
     "output_type": "stream",
     "text": [
      "1.0\n"
     ]
    },
    {
     "data": {
      "image/png": "[encoded data removed]",
      "text/plain": [
       "<Figure size 600x100 with 1 Axes>"
      ]
     },
     "metadata": {},
     "output_type": "display_data"
    },
    {
     "data": {
      "text/markdown": [
       "### IQR (livingRooms): "
      ],
      "text/plain": [
       "<IPython.core.display.Markdown object>"
      ]
     },
     "metadata": {},
     "output_type": "display_data"
    },
    {
     "name": "stdout",
     "output_type": "stream",
     "text": [
      "0.0\n"
     ]
    },
    {
     "data": {
      "image/png": "[encoded data removed]",
      "text/plain": [
       "<Figure size 600x100 with 1 Axes>"
      ]
     },
     "metadata": {},
     "output_type": "display_data"
    }
   ],
   "source": [
    "# Handling Outliers \n",
    "display(Markdown(\"\"\"### 🧾 2. Handle Outliers\n",
    "- Outliers are extreme values that can distort the results of data analysis and model training.\n",
    "- They can be detected using methods like IQR, Z-score, or visualizations (boxplots, scatter plots).\n",
    "- In this case, we're focusing on handling outliers for key numeric columns like 'price', 'floorAreaSqM', etc.\n",
    "- We chose to remove extreme outliers using IQR method for simplicity and effectiveness.\n",
    "- More advanced methods like log transformation or robust models exist but are not used here to keep the pipeline clean and interpretable.\n",
    "- ✅ Replacing missing (null) values with median is a common and safe practice,\n",
    "- especially when the percentage of missing data is low and the column is skewed.\n",
    "- ❌ But replacing outliers with median is discouraged as it removes real (but extreme) observations.\n",
    "- It's better to analyze or transform outliers instead of just masking them.\"\"\"))\n",
    "\n",
    "# Calculate IQR for the 'price' column\n",
    "Q1 = df['price'].quantile(0.25)\n",
    "Q3 = df['price'].quantile(0.75)\n",
    "IQR = Q3 - Q1\n",
    "display(Markdown(\"### IQR (Price): \"))\n",
    "print(IQR)\n",
    "\n",
    "plt.figure(figsize=(6, 1))  # width=6, height=2\n",
    "sns.boxplot(x=df['price'])\n",
    "plt.title('Boxplot of price')\n",
    "plt.show()\n",
    "\n",
    "# Filter out outliers based on IQR\n",
    "df = df[(df['price'] >= (Q1 - 1.5 * IQR)) & (df['price'] <= (Q3 + 1.5 * IQR))]\n",
    "\n",
    "#💡 Why 1.5?\n",
    "# The 1.5 is a rule of thumb to give a reasonable range\n",
    "# It helps flag values that are much smaller or much larger than the majority\n",
    "# In most cases, yes — we use 1.5 * IQR to detect outliers\n",
    "#🚨 But there are also other thresholds:\n",
    "# Multiplier | Used For             | Meaning\n",
    "# 1.5        | 🟡 Mild Outliers    | Most common for basic outlier detection\n",
    "# 3.0        | 🔴 Extreme Outliers | Used when you want to detect only very unusual values\n",
    "\n",
    "# Calculate IQR for the 'floorAreaSqM' column\n",
    "Q1 = df['floorAreaSqM'].quantile(0.25)\n",
    "Q3 = df['floorAreaSqM'].quantile(0.75)\n",
    "IQR = Q3 - Q1\n",
    "display(Markdown(\"### IQR (floorAreaSqM): \"))\n",
    "print(IQR)\n",
    "\n",
    "plt.figure(figsize=(6, 1))  # width=6, height=2\n",
    "sns.boxplot(x=df['floorAreaSqM'])\n",
    "plt.title('Boxplot of floorAreaSqM')\n",
    "plt.show()\n",
    "\n",
    "# Filter out outliers based on IQR\n",
    "df = df[(df['floorAreaSqM'] >= (Q1 - 1.5 * IQR)) & (df['floorAreaSqM'] <= (Q3 + 1.5 * IQR))]\n",
    "\n",
    "# Calculate IQR for the 'bathrooms' column\n",
    "Q1 = df['bathrooms'].quantile(0.25)\n",
    "Q3 = df['bathrooms'].quantile(0.75)\n",
    "IQR = Q3 - Q1\n",
    "display(Markdown(\"### IQR (bathrooms): \"))\n",
    "print(IQR)\n",
    "\n",
    "plt.figure(figsize=(6, 1))  # width=6, height=2\n",
    "sns.boxplot(x=df['bathrooms'])\n",
    "plt.title('Boxplot of bathrooms')\n",
    "plt.show()\n",
    "\n",
    "# Calculate IQR for the 'bedrooms' column\n",
    "Q1 = df['bedrooms'].quantile(0.25)\n",
    "Q3 = df['bedrooms'].quantile(0.75)\n",
    "IQR = Q3 - Q1\n",
    "display(Markdown(\"### IQR (bedrooms): \"))\n",
    "print(IQR)\n",
    "\n",
    "plt.figure(figsize=(6, 1))  # width=6, height=2\n",
    "sns.boxplot(x=df['bedrooms'])\n",
    "plt.title('Boxplot of bedrooms')\n",
    "plt.show()\n",
    "\n",
    "\n",
    "# Calculate IQR for the 'livingRooms' column\n",
    "Q1 = df['livingRooms'].quantile(0.25)\n",
    "Q3 = df['livingRooms'].quantile(0.75)\n",
    "IQR = Q3 - Q1\n",
    "display(Markdown(\"### IQR (livingRooms): \"))\n",
    "print(IQR)\n",
    "\n",
    "plt.figure(figsize=(6, 1))  # width=6, height=2\n",
    "sns.boxplot(x=df['livingRooms'])\n",
    "plt.title('Boxplot of livingRooms')\n",
    "plt.show()\n",
    "\n",
    "# Outlier Detection Strategy:\n",
    "# - Used IQR for features with sufficient spread (e.g., floorAreaSqM, price).\n",
    "# - Skipped IQR for features like bathrooms/livingRooms where IQR = 0.\n",
    "# - For such features, considered valid upper limits or domain-based thresholds.\n",
    "# - IQR is not ideal when data is heavily skewed or lacks spread; alternatives like percentiles or manual capping may work better.\n",
    "\n",
    "#Detail Interpretation for livivngRooms same applies to other variables like bathroom and bedroom\n",
    "# ✅ Interpretation:\n",
    "# Over 92% of the values are 1.0 (211,437 out of ~229,000).\n",
    "# Very few entries have more than 2 living rooms.\n",
    "# This is a right-skewed distribution, not a case where IQR is helpful.\n",
    "# ✅ What to do:\n",
    "# Don’t use IQR for outlier detection here.\n",
    "# You can either:\n",
    "# Leave as is\n",
    "# Or flag rows with livingRooms > 5 as rare/extreme if it helps modeling."
   ]
  },
  {
   "cell_type": "code",
   "execution_count": 7,
   "id": "2b3e517b",
   "metadata": {
    "execution": {
     "iopub.execute_input": "2025-04-30T17:42:42.782755Z",
     "iopub.status.busy": "2025-04-30T17:42:42.782396Z",
     "iopub.status.idle": "2025-04-30T17:42:42.874281Z",
     "shell.execute_reply": "2025-04-30T17:42:42.873111Z"
    },
    "papermill": {
     "duration": 0.101134,
     "end_time": "2025-04-30T17:42:42.876023",
     "exception": false,
     "start_time": "2025-04-30T17:42:42.774889",
     "status": "completed"
    },
    "tags": []
   },
   "outputs": [
    {
     "data": {
      "text/markdown": [
       "### 🧾 3. Covert Datatypes\n",
       "- Convert columns like sale_month and sale_year to integers, \n",
       "and make sure the ID column is not treated as a numerical value for modeling purposes."
      ],
      "text/plain": [
       "<IPython.core.display.Markdown object>"
      ]
     },
     "metadata": {},
     "output_type": "display_data"
    }
   ],
   "source": [
    "display(Markdown(\"\"\"### 🧾 3. Covert Datatypes\n",
    "- Convert columns like sale_month and sale_year to integers, \n",
    "and make sure the ID column is not treated as a numerical value for modeling purposes.\"\"\"))\n",
    "\n",
    "# Convert columns to appropriate types\n",
    "df['sale_month'] = df['sale_month'].astype(int)\n",
    "df['sale_year'] = df['sale_year'].astype(int)\n",
    "df['livingRooms'] = df['livingRooms'].astype(int)\n",
    "df['bedrooms'] = df['bedrooms'].astype(int)\n",
    "df['bathrooms'] = df['bathrooms'].astype(int)\n",
    "df['ID'] = df['ID'].astype(str)\n",
    "\n",
    "# The 'ID' column is just an identifier and holds no predictive value.\n",
    "# Including it as a numeric feature can mislead the model by introducing noise.\n",
    "# Therefore, we will drop it before training."
   ]
  },
  {
   "cell_type": "code",
   "execution_count": 8,
   "id": "c198bc76",
   "metadata": {
    "execution": {
     "iopub.execute_input": "2025-04-30T17:42:42.890574Z",
     "iopub.status.busy": "2025-04-30T17:42:42.890274Z",
     "iopub.status.idle": "2025-04-30T17:42:43.671799Z",
     "shell.execute_reply": "2025-04-30T17:42:43.670561Z"
    },
    "papermill": {
     "duration": 0.791071,
     "end_time": "2025-04-30T17:42:43.673596",
     "exception": false,
     "start_time": "2025-04-30T17:42:42.882525",
     "status": "completed"
    },
    "tags": []
   },
   "outputs": [
    {
     "data": {
      "text/markdown": [
       "### 🧾 4. Handling Categorical values\n",
       "- Identify categorical columns from df.info() include propertyType, tenure, country, etc.\n",
       "- Convert categorical variables into numeric formats using techniques like One-Hot Encoding or Label Encoding.\n",
       "- Use One-Hot Encoding for categorical data with no order (like propertyType).\n",
       "- Use Label Encoding for few categories or ordinal features (like tenure).\n",
       "- While One-Hot Encoding is technically correct for nominal variables like tenure, we sometimes use Label Encoding if:\n",
       "- ✅ The number of categories is small (like 2–3).\n",
       "- ✅ We're using models that don’t assume order, like Decision Trees or Random Forests.\n",
       "- ❌ We avoid it with models like Linear Regression, because they might treat encoded numers as having order"
      ],
      "text/plain": [
       "<IPython.core.display.Markdown object>"
      ]
     },
     "metadata": {},
     "output_type": "display_data"
    }
   ],
   "source": [
    "display(Markdown(\"\"\"### 🧾 4. Handling Categorical values\n",
    "- Identify categorical columns from df.info() include propertyType, tenure, country, etc.\n",
    "- Convert categorical variables into numeric formats using techniques like One-Hot Encoding or Label Encoding.\n",
    "- Use One-Hot Encoding for categorical data with no order (like propertyType).\n",
    "- Use Label Encoding for few categories or ordinal features (like tenure).\n",
    "- While One-Hot Encoding is technically correct for nominal variables like tenure, we sometimes use Label Encoding if:\n",
    "- ✅ The number of categories is small (like 2–3).\n",
    "- ✅ We're using models that don’t assume order, like Decision Trees or Random Forests.\n",
    "- ❌ We avoid it with models like Linear Regression, because they might treat encoded numers as having order\"\"\"))\n",
    "\n",
    "# PropertyType\n",
    "# Example: Group rare property types\n",
    "rare_props = df['propertyType'].value_counts()[df['propertyType'].value_counts() < 500].index\n",
    "df['propertyType'] = df['propertyType'].replace(rare_props, 'Other')\n",
    "\n",
    "# One-hot encoding for 'propertyType'\n",
    "df = pd.get_dummies(df, columns=['propertyType'], drop_first=True)\n",
    "\n",
    "# Label encoding for 'tenure'\n",
    "from sklearn.preprocessing import LabelEncoder\n",
    "le = LabelEncoder()\n",
    "df['tenure'] = le.fit_transform(df['tenure'])\n",
    "\n",
    "# Target Encoding for 'postcode' & 'outcode'\n",
    "# ✅ Used Target Encoding for 'postcode' since it has many unique values and strong influence on price.\n",
    "# ➕ Encoded by mapping each postcode to its average house price in the training data.\n",
    "# ⚠️ For unseen postcodes in test set, we used the overall mean price as a fallback to avoid errors.\n",
    "\n",
    "postcode_means = df.groupby('postcode')['price'].mean()\n",
    "global_mean = df['price'].mean()\n",
    "df['postcode_encoded'] = df['postcode'].map(postcode_means)\n",
    "\n",
    "# ✅ Location Encoding Decision:\n",
    "# - Dropped 'postcode' due to too many unique values (~40,000+), which can lead to high dimensionality and overfitting.\n",
    "# - Kept 'outcode' instead, as it represents area-level location (fewer categories, more stable for modeling).\n",
    "# - 'outcode' will be used to capture geographic pricing trends in a generalizable way.\n",
    "\n",
    "outcode_means = df.groupby('outcode')['price'].mean()\n",
    "global_mean = df['price'].mean()\n",
    "df['outcode_encoded'] = df['outcode'].map(outcode_means)\n",
    "\n",
    "# Label encoding for 'currentEnergyRating'\n",
    "from sklearn.preprocessing import LabelEncoder\n",
    "le = LabelEncoder()\n",
    "df['currentEnergyRating'] = le.fit_transform(df['currentEnergyRating'])"
   ]
  },
  {
   "cell_type": "code",
   "execution_count": 9,
   "id": "cb27f232",
   "metadata": {
    "execution": {
     "iopub.execute_input": "2025-04-30T17:42:43.688236Z",
     "iopub.status.busy": "2025-04-30T17:42:43.687934Z",
     "iopub.status.idle": "2025-04-30T17:42:43.712696Z",
     "shell.execute_reply": "2025-04-30T17:42:43.711616Z"
    },
    "papermill": {
     "duration": 0.034304,
     "end_time": "2025-04-30T17:42:43.714609",
     "exception": false,
     "start_time": "2025-04-30T17:42:43.680305",
     "status": "completed"
    },
    "tags": []
   },
   "outputs": [
    {
     "data": {
      "text/markdown": [
       "### 🧾 5. Feature Engineering (Optional)\n",
       "- Create New Features:\n",
       "- Based on your analysis, you can create new features. For example:\n",
       "- Price per Square Meter = price / floorAreaSqM\n",
       "- Age of House = sale_year - year_built (if available)\n",
       "- Next Step: Add these features to your DataFrame."
      ],
      "text/plain": [
       "<IPython.core.display.Markdown object>"
      ]
     },
     "metadata": {},
     "output_type": "display_data"
    }
   ],
   "source": [
    "display(Markdown(\"\"\"### 🧾 5. Feature Engineering (Optional)\n",
    "- Create New Features:\n",
    "- Based on your analysis, you can create new features. For example:\n",
    "- Price per Square Meter = price / floorAreaSqM\n",
    "- Age of House = sale_year - year_built (if available)\n",
    "- Next Step: Add these features to your DataFrame.\"\"\"))\n",
    "\n",
    "# Create a new feature: price per square meter\n",
    "# Protecting against division by zero with .replace(0, np.nan)\n",
    "df[\"price_per_sqm\"] = df[\"price\"] / df[\"floorAreaSqM\"].replace(0, np.nan)\n",
    "\n",
    "# Total number of rooms (may reflect house size better)\n",
    "df[\"total_rooms\"] = df[\"bathrooms\"] + df[\"bedrooms\"] + df[\"livingRooms\"]\n",
    "\n",
    "# Area per room: useful to capture room spaciousness\n",
    "df[\"area_per_room\"] = df[\"floorAreaSqM\"] / df[\"total_rooms\"].replace(0, np.nan)"
   ]
  },
  {
   "cell_type": "code",
   "execution_count": 10,
   "id": "ea7119ff",
   "metadata": {
    "execution": {
     "iopub.execute_input": "2025-04-30T17:42:43.732250Z",
     "iopub.status.busy": "2025-04-30T17:42:43.731580Z",
     "iopub.status.idle": "2025-04-30T17:42:43.761190Z",
     "shell.execute_reply": "2025-04-30T17:42:43.760224Z"
    },
    "papermill": {
     "duration": 0.039933,
     "end_time": "2025-04-30T17:42:43.763020",
     "exception": false,
     "start_time": "2025-04-30T17:42:43.723087",
     "status": "completed"
    },
    "tags": []
   },
   "outputs": [
    {
     "data": {
      "text/markdown": [
       "### 🧾 6. Handling skewed data \n",
       "- Outlier removal deals with extreme individual values, but skewness involves the overall distribution shape.\n",
       "- Log/Sqrt transformation is applied to reduce right-skewness by compressing large values, which improves model performance by making the data more symmetric and normal.\n",
       "- Right-skewed data can still be used in models, but it may introduce challenges like bias or poor fit, especially for algorithms that assume normality.\n",
       "- Transforming right-skewed data (e.g., with log or square root) can help models make better predictions, reduce bias, and meet assumptions like normality.\n",
       "- Tree-based models and robust models can handle skewed data effectively without needing transformations"
      ],
      "text/plain": [
       "<IPython.core.display.Markdown object>"
      ]
     },
     "metadata": {},
     "output_type": "display_data"
    }
   ],
   "source": [
    "display(Markdown(\"\"\"### 🧾 6. Handling skewed data \n",
    "- Outlier removal deals with extreme individual values, but skewness involves the overall distribution shape.\n",
    "- Log/Sqrt transformation is applied to reduce right-skewness by compressing large values, which improves model performance by making the data more symmetric and normal.\n",
    "- Right-skewed data can still be used in models, but it may introduce challenges like bias or poor fit, especially for algorithms that assume normality.\n",
    "- Transforming right-skewed data (e.g., with log or square root) can help models make better predictions, reduce bias, and meet assumptions like normality.\n",
    "- Tree-based models and robust models can handle skewed data effectively without needing transformations\"\"\"))\n",
    "\n",
    "df['price'] = np.log1p(df['price'])\n",
    "df['price_per_sqm'] = np.log1p(df['price_per_sqm'])\n",
    "df['floorAreaSqM'] = np.log1p(df['floorAreaSqM'])\n",
    "df['area_per_room'] = np.log1p(df['area_per_room'])\n",
    "df['bedrooms'] = np.log1p(df['bedrooms'])\n",
    "df['bathrooms'] = np.log1p(df['bathrooms'])\n",
    "df['livingRooms'] = np.log1p(df['livingRooms'])\n",
    "df['total_rooms'] = np.log1p(df['total_rooms'])\n",
    "\n",
    "\n"
   ]
  },
  {
   "cell_type": "code",
   "execution_count": 11,
   "id": "6519bc61",
   "metadata": {
    "execution": {
     "iopub.execute_input": "2025-04-30T17:42:43.778157Z",
     "iopub.status.busy": "2025-04-30T17:42:43.777862Z",
     "iopub.status.idle": "2025-04-30T17:42:43.838414Z",
     "shell.execute_reply": "2025-04-30T17:42:43.837385Z"
    },
    "papermill": {
     "duration": 0.070281,
     "end_time": "2025-04-30T17:42:43.840145",
     "exception": false,
     "start_time": "2025-04-30T17:42:43.769864",
     "status": "completed"
    },
    "tags": []
   },
   "outputs": [
    {
     "data": {
      "text/markdown": [
       "### 🧾 7. Normalize/Scale Data:\n",
       "- Purpose: To bring features onto a similar scale, avoid models being dominated by large-value features, and speed up convergence.\n",
       "- When to Scale: Use scaling when your model is sensitive to the scale of data (e.g., KNN, SVM, Neural Networks).\n",
       "- Methods: Min-Max scaling (for bounded range), Standardization (for data with normal distribution), and Robust scaling (for data with outliers).\n",
       "- Any algorithm that uses distance metrics (like KNN and K-Means) or gradient-based optimization (like Logistic Regression, Neural Networks, and SVM) \n",
       "  will be affected by unscaled features. Scaling or normalizing the data ensures that all features contribute equally, \n",
       "  helping the algorithm perform better and more efficiently."
      ],
      "text/plain": [
       "<IPython.core.display.Markdown object>"
      ]
     },
     "metadata": {},
     "output_type": "display_data"
    }
   ],
   "source": [
    "display(Markdown(\"\"\"### 🧾 7. Normalize/Scale Data:\n",
    "- Purpose: To bring features onto a similar scale, avoid models being dominated by large-value features, and speed up convergence.\n",
    "- When to Scale: Use scaling when your model is sensitive to the scale of data (e.g., KNN, SVM, Neural Networks).\n",
    "- Methods: Min-Max scaling (for bounded range), Standardization (for data with normal distribution), and Robust scaling (for data with outliers).\n",
    "- Any algorithm that uses distance metrics (like KNN and K-Means) or gradient-based optimization (like Logistic Regression, Neural Networks, and SVM) \n",
    "  will be affected by unscaled features. Scaling or normalizing the data ensures that all features contribute equally, \n",
    "  helping the algorithm perform better and more efficiently.\"\"\"))\n",
    "\n",
    "from sklearn.preprocessing import StandardScaler\n",
    "scaler = StandardScaler()\n",
    "columns_to_scale = ['latitude', 'longitude', 'bathrooms', 'bedrooms', 'floorAreaSqM', 'livingRooms', 'area_per_room', 'total_rooms']\n",
    "df[columns_to_scale] = scaler.fit_transform(df[columns_to_scale])"
   ]
  },
  {
   "cell_type": "code",
   "execution_count": 12,
   "id": "ea715c2b",
   "metadata": {
    "execution": {
     "iopub.execute_input": "2025-04-30T17:42:43.855114Z",
     "iopub.status.busy": "2025-04-30T17:42:43.854806Z",
     "iopub.status.idle": "2025-04-30T17:42:44.460453Z",
     "shell.execute_reply": "2025-04-30T17:42:44.459615Z"
    },
    "papermill": {
     "duration": 0.614805,
     "end_time": "2025-04-30T17:42:44.461931",
     "exception": false,
     "start_time": "2025-04-30T17:42:43.847126",
     "status": "completed"
    },
    "tags": []
   },
   "outputs": [
    {
     "data": {
      "text/markdown": [
       "\n",
       "### 🧾 8. Drop Duplicates:\n",
       "- **Purpose**: To remove any repeated rows in the dataset that might affect the model's performance or cause overfitting.\n",
       "- **Why It Matters**: Duplicates can distort the training process, lead to biased results, and increase computation time.\n",
       "- **How It's Done**: Identify duplicated rows using `duplicated()` and drop them using `drop_duplicates()`. This ensures data integrity and improves model accuracy.\n"
      ],
      "text/plain": [
       "<IPython.core.display.Markdown object>"
      ]
     },
     "metadata": {},
     "output_type": "display_data"
    },
    {
     "name": "stdout",
     "output_type": "stream",
     "text": [
      "Number of duplicate rows: 0\n",
      "Updated DataFrame shape after dropping duplicates:\n"
     ]
    },
    {
     "data": {
      "text/plain": [
       "(233986, 30)"
      ]
     },
     "metadata": {},
     "output_type": "display_data"
    }
   ],
   "source": [
    "display(Markdown(\"\"\"\n",
    "### 🧾 8. Drop Duplicates:\n",
    "- **Purpose**: To remove any repeated rows in the dataset that might affect the model's performance or cause overfitting.\n",
    "- **Why It Matters**: Duplicates can distort the training process, lead to biased results, and increase computation time.\n",
    "- **How It's Done**: Identify duplicated rows using `duplicated()` and drop them using `drop_duplicates()`. This ensures data integrity and improves model accuracy.\n",
    "\"\"\"))\n",
    "\n",
    "# Dropping duplicate rows from the DataFrame\n",
    "duplicate_count = df.duplicated().sum()\n",
    "print(f\"Number of duplicate rows: {duplicate_count}\")\n",
    "\n",
    "# Drop duplicates and update the DataFrame\n",
    "df = df.drop_duplicates()\n",
    "\n",
    "# Display the updated shape of the DataFrame after dropping duplicates\n",
    "print(\"Updated DataFrame shape after dropping duplicates:\")\n",
    "display(df.shape)\n",
    "\n"
   ]
  }
 ],
 "metadata": {
  "kaggle": {
   "accelerator": "none",
   "dataSources": [
    {
     "databundleVersionId": 10105526,
     "sourceId": 88312,
     "sourceType": "competition"
    }
   ],
   "dockerImageVersionId": 31012,
   "isGpuEnabled": false,
   "isInternetEnabled": false,
   "language": "python",
   "sourceType": "notebook"
  },
  "kernelspec": {
   "display_name": "Python 3",
   "language": "python",
   "name": "python3"
  },
  "language_info": {
   "codemirror_mode": {
    "name": "ipython",
    "version": 3
   },
   "file_extension": ".py",
   "mimetype": "text/x-python",
   "name": "python",
   "nbconvert_exporter": "python",
   "pygments_lexer": "ipython3",
   "version": "3.11.11"
  },
  "papermill": {
   "default_parameters": {},
   "duration": 15.112366,
   "end_time": "2025-04-30T17:42:45.189759",
   "environment_variables": {},
   "exception": null,
   "input_path": "__notebook__.ipynb",
   "output_path": "__notebook__.ipynb",
   "parameters": {},
   "start_time": "2025-04-30T17:42:30.077393",
   "version": "2.6.0"
  }
 },
 "nbformat": 4,
 "nbformat_minor": 5
}
