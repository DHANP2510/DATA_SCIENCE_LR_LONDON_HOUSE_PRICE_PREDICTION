{
 "cells": [
  {
   "cell_type": "code",
   "execution_count": 1,
   "id": "a1a86af6",
   "metadata": {
    "_cell_guid": "b1076dfc-b9ad-4769-8c92-a6c4dae69d19",
    "_uuid": "8f2839f25d086af736a60e9eeb907d3b93b6e0e5",
    "execution": {
     "iopub.execute_input": "2025-04-23T16:36:42.903353Z",
     "iopub.status.busy": "2025-04-23T16:36:42.902511Z",
     "iopub.status.idle": "2025-04-23T16:36:46.935943Z",
     "shell.execute_reply": "2025-04-23T16:36:46.935164Z"
    },
    "papermill": {
     "duration": 4.039714,
     "end_time": "2025-04-23T16:36:46.937604",
     "exception": false,
     "start_time": "2025-04-23T16:36:42.897890",
     "status": "completed"
    },
    "tags": []
   },
   "outputs": [],
   "source": [
    "from IPython.display import display, Markdown\n",
    "import numpy as np\n",
    "import pandas as pd\n",
    "import matplotlib.pyplot as plt\n",
    "import seaborn as sns\n",
    "import warnings\n",
    "import sys\n",
    "import os\n",
    "import io"
   ]
  },
  {
   "cell_type": "code",
   "execution_count": 2,
   "id": "d871de8a",
   "metadata": {
    "execution": {
     "iopub.execute_input": "2025-04-23T16:36:46.944668Z",
     "iopub.status.busy": "2025-04-23T16:36:46.944248Z",
     "iopub.status.idle": "2025-04-23T16:36:46.948842Z",
     "shell.execute_reply": "2025-04-23T16:36:46.948108Z"
    },
    "papermill": {
     "duration": 0.009503,
     "end_time": "2025-04-23T16:36:46.950297",
     "exception": false,
     "start_time": "2025-04-23T16:36:46.940794",
     "status": "completed"
    },
    "tags": []
   },
   "outputs": [],
   "source": [
    "# Set float format for display (e.g., 2 decimal places)\n",
    "pd.options.display.float_format = '{:.2f}'.format\n",
    "\n",
    "# Suppress only the specific FutureWarning from pandas\n",
    "warnings.filterwarnings(\"ignore\")"
   ]
  },
  {
   "cell_type": "code",
   "execution_count": 3,
   "id": "63bc0d96",
   "metadata": {
    "execution": {
     "iopub.execute_input": "2025-04-23T16:36:46.957114Z",
     "iopub.status.busy": "2025-04-23T16:36:46.956322Z",
     "iopub.status.idle": "2025-04-23T16:36:47.022241Z",
     "shell.execute_reply": "2025-04-23T16:36:47.021368Z"
    },
    "papermill": {
     "duration": 0.070873,
     "end_time": "2025-04-23T16:36:47.023843",
     "exception": false,
     "start_time": "2025-04-23T16:36:46.952970",
     "status": "completed"
    },
    "tags": []
   },
   "outputs": [],
   "source": [
    "#using DataCleaning Module\n",
    "\n",
    "sys.path.append('/kaggle/input/modules/pyfiles/')\n",
    "from datacleaning import DataCleaning"
   ]
  },
  {
   "cell_type": "code",
   "execution_count": 4,
   "id": "4dbbcde5",
   "metadata": {
    "execution": {
     "iopub.execute_input": "2025-04-23T16:36:47.030016Z",
     "iopub.status.busy": "2025-04-23T16:36:47.029684Z",
     "iopub.status.idle": "2025-04-23T16:36:51.556318Z",
     "shell.execute_reply": "2025-04-23T16:36:51.555405Z"
    },
    "papermill": {
     "duration": 4.531396,
     "end_time": "2025-04-23T16:36:51.557823",
     "exception": false,
     "start_time": "2025-04-23T16:36:47.026427",
     "status": "completed"
    },
    "tags": []
   },
   "outputs": [
    {
     "name": "stdout",
     "output_type": "stream",
     "text": [
      "Data Info:\n",
      "<class 'pandas.core.frame.DataFrame'>\n",
      "RangeIndex: 266325 entries, 0 to 266324\n",
      "Data columns (total 17 columns):\n",
      " #   Column               Non-Null Count   Dtype  \n",
      "---  ------               --------------   -----  \n",
      " 0   ID                   266325 non-null  int64  \n",
      " 1   fullAddress          266325 non-null  object \n",
      " 2   postcode             266325 non-null  object \n",
      " 3   country              266325 non-null  object \n",
      " 4   outcode              266325 non-null  object \n",
      " 5   latitude             266325 non-null  float64\n",
      " 6   longitude            266325 non-null  float64\n",
      " 7   bathrooms            217846 non-null  float64\n",
      " 8   bedrooms             241482 non-null  float64\n",
      " 9   floorAreaSqM         252519 non-null  float64\n",
      " 10  livingRooms          229285 non-null  float64\n",
      " 11  tenure               260604 non-null  object \n",
      " 12  propertyType         265817 non-null  object \n",
      " 13  currentEnergyRating  209511 non-null  object \n",
      " 14  sale_month           266325 non-null  int64  \n",
      " 15  sale_year            266325 non-null  int64  \n",
      " 16  price                266325 non-null  int64  \n",
      "dtypes: float64(6), int64(4), object(7)\n",
      "memory usage: 34.5+ MB\n",
      "None\n",
      "\n",
      "Missing Values:\n",
      "ID                         0\n",
      "fullAddress                0\n",
      "postcode                   0\n",
      "country                    0\n",
      "outcode                    0\n",
      "latitude                   0\n",
      "longitude                  0\n",
      "bathrooms              48479\n",
      "bedrooms               24843\n",
      "floorAreaSqM           13806\n",
      "livingRooms            37040\n",
      "tenure                  5721\n",
      "propertyType             508\n",
      "currentEnergyRating    56814\n",
      "sale_month                 0\n",
      "sale_year                  0\n",
      "price                      0\n",
      "dtype: int64\n",
      "\n",
      "Duplicate Rows: 0\n",
      "Removed 0 duplicate rows.\n",
      "Filled missing values in 'bathrooms' using strategy: median\n",
      "Filled missing values in 'bedrooms' using strategy: median\n",
      "Filled missing values in 'livingRooms' using strategy: median\n",
      "Filled missing values in 'floorAreaSqM' using strategy: median\n",
      "Filled missing values in 'tenure' using strategy: mode\n",
      "Filled missing values in 'propertyType' using strategy: mode\n",
      "Filled missing values in 'currentEnergyRating' using strategy: mode\n",
      "Removed 21280 outliers from 'price'.\n",
      "Removed 11059 outliers from 'floorAreaSqM'.\n",
      "Removed 51807 outliers from 'bathrooms'.\n",
      "Removed 1144 outliers from 'bedrooms'.\n",
      "Removed 22526 outliers from 'livingRooms'.\n",
      "Removed 4186 outliers from 'floorAreaSqM'.\n",
      "Removed 0 duplicate rows.\n",
      "Data Info:\n",
      "<class 'pandas.core.frame.DataFrame'>\n",
      "Index: 154323 entries, 0 to 266322\n",
      "Data columns (total 17 columns):\n",
      " #   Column               Non-Null Count   Dtype  \n",
      "---  ------               --------------   -----  \n",
      " 0   ID                   154323 non-null  int64  \n",
      " 1   fullAddress          154323 non-null  object \n",
      " 2   postcode             154323 non-null  object \n",
      " 3   country              154323 non-null  object \n",
      " 4   outcode              154323 non-null  object \n",
      " 5   latitude             154323 non-null  float64\n",
      " 6   longitude            154323 non-null  float64\n",
      " 7   bathrooms            154323 non-null  float64\n",
      " 8   bedrooms             154323 non-null  float64\n",
      " 9   floorAreaSqM         154323 non-null  float64\n",
      " 10  livingRooms          154323 non-null  float64\n",
      " 11  tenure               154323 non-null  object \n",
      " 12  propertyType         154323 non-null  object \n",
      " 13  currentEnergyRating  154323 non-null  object \n",
      " 14  sale_month           154323 non-null  int64  \n",
      " 15  sale_year            154323 non-null  int64  \n",
      " 16  price                154323 non-null  int64  \n",
      "dtypes: float64(6), int64(4), object(7)\n",
      "memory usage: 21.2+ MB\n",
      "None\n",
      "\n",
      "Missing Values:\n",
      "ID                     0\n",
      "fullAddress            0\n",
      "postcode               0\n",
      "country                0\n",
      "outcode                0\n",
      "latitude               0\n",
      "longitude              0\n",
      "bathrooms              0\n",
      "bedrooms               0\n",
      "floorAreaSqM           0\n",
      "livingRooms            0\n",
      "tenure                 0\n",
      "propertyType           0\n",
      "currentEnergyRating    0\n",
      "sale_month             0\n",
      "sale_year              0\n",
      "price                  0\n",
      "dtype: int64\n",
      "\n",
      "Duplicate Rows: 0\n"
     ]
    },
    {
     "data": {
      "text/html": [
       "<div>\n",
       "<style scoped>\n",
       "    .dataframe tbody tr th:only-of-type {\n",
       "        vertical-align: middle;\n",
       "    }\n",
       "\n",
       "    .dataframe tbody tr th {\n",
       "        vertical-align: top;\n",
       "    }\n",
       "\n",
       "    .dataframe thead th {\n",
       "        text-align: right;\n",
       "    }\n",
       "</style>\n",
       "<table border=\"1\" class=\"dataframe\">\n",
       "  <thead>\n",
       "    <tr style=\"text-align: right;\">\n",
       "      <th></th>\n",
       "      <th>ID</th>\n",
       "      <th>latitude</th>\n",
       "      <th>longitude</th>\n",
       "      <th>bathrooms</th>\n",
       "      <th>bedrooms</th>\n",
       "      <th>floorAreaSqM</th>\n",
       "      <th>livingRooms</th>\n",
       "      <th>sale_month</th>\n",
       "      <th>sale_year</th>\n",
       "      <th>price</th>\n",
       "    </tr>\n",
       "  </thead>\n",
       "  <tbody>\n",
       "    <tr>\n",
       "      <th>count</th>\n",
       "      <td>154323.00</td>\n",
       "      <td>154323.00</td>\n",
       "      <td>154323.00</td>\n",
       "      <td>154323.00</td>\n",
       "      <td>154323.00</td>\n",
       "      <td>154323.00</td>\n",
       "      <td>154323.00</td>\n",
       "      <td>154323.00</td>\n",
       "      <td>154323.00</td>\n",
       "      <td>154323.00</td>\n",
       "    </tr>\n",
       "    <tr>\n",
       "      <th>mean</th>\n",
       "      <td>130606.38</td>\n",
       "      <td>51.51</td>\n",
       "      <td>-0.10</td>\n",
       "      <td>1.00</td>\n",
       "      <td>1.90</td>\n",
       "      <td>70.81</td>\n",
       "      <td>1.00</td>\n",
       "      <td>6.80</td>\n",
       "      <td>2011.92</td>\n",
       "      <td>343903.89</td>\n",
       "    </tr>\n",
       "    <tr>\n",
       "      <th>std</th>\n",
       "      <td>76425.08</td>\n",
       "      <td>0.06</td>\n",
       "      <td>0.09</td>\n",
       "      <td>0.00</td>\n",
       "      <td>0.71</td>\n",
       "      <td>21.12</td>\n",
       "      <td>0.00</td>\n",
       "      <td>3.37</td>\n",
       "      <td>9.12</td>\n",
       "      <td>224740.49</td>\n",
       "    </tr>\n",
       "    <tr>\n",
       "      <th>min</th>\n",
       "      <td>0.00</td>\n",
       "      <td>51.39</td>\n",
       "      <td>-0.35</td>\n",
       "      <td>1.00</td>\n",
       "      <td>1.00</td>\n",
       "      <td>10.00</td>\n",
       "      <td>1.00</td>\n",
       "      <td>1.00</td>\n",
       "      <td>1995.00</td>\n",
       "      <td>10000.00</td>\n",
       "    </tr>\n",
       "    <tr>\n",
       "      <th>25%</th>\n",
       "      <td>64512.50</td>\n",
       "      <td>51.47</td>\n",
       "      <td>-0.15</td>\n",
       "      <td>1.00</td>\n",
       "      <td>1.00</td>\n",
       "      <td>55.00</td>\n",
       "      <td>1.00</td>\n",
       "      <td>4.00</td>\n",
       "      <td>2004.00</td>\n",
       "      <td>175000.00</td>\n",
       "    </tr>\n",
       "    <tr>\n",
       "      <th>50%</th>\n",
       "      <td>128918.00</td>\n",
       "      <td>51.51</td>\n",
       "      <td>-0.10</td>\n",
       "      <td>1.00</td>\n",
       "      <td>2.00</td>\n",
       "      <td>69.00</td>\n",
       "      <td>1.00</td>\n",
       "      <td>7.00</td>\n",
       "      <td>2014.00</td>\n",
       "      <td>305000.00</td>\n",
       "    </tr>\n",
       "    <tr>\n",
       "      <th>75%</th>\n",
       "      <td>196469.00</td>\n",
       "      <td>51.55</td>\n",
       "      <td>-0.04</td>\n",
       "      <td>1.00</td>\n",
       "      <td>2.00</td>\n",
       "      <td>85.00</td>\n",
       "      <td>1.00</td>\n",
       "      <td>10.00</td>\n",
       "      <td>2021.00</td>\n",
       "      <td>455000.00</td>\n",
       "    </tr>\n",
       "    <tr>\n",
       "      <th>max</th>\n",
       "      <td>266322.00</td>\n",
       "      <td>51.66</td>\n",
       "      <td>0.14</td>\n",
       "      <td>1.00</td>\n",
       "      <td>4.00</td>\n",
       "      <td>130.00</td>\n",
       "      <td>1.00</td>\n",
       "      <td>12.00</td>\n",
       "      <td>2023.00</td>\n",
       "      <td>1300000.00</td>\n",
       "    </tr>\n",
       "  </tbody>\n",
       "</table>\n",
       "</div>"
      ],
      "text/plain": [
       "             ID  latitude  longitude  bathrooms  bedrooms  floorAreaSqM  \\\n",
       "count 154323.00 154323.00  154323.00  154323.00 154323.00     154323.00   \n",
       "mean  130606.38     51.51      -0.10       1.00      1.90         70.81   \n",
       "std    76425.08      0.06       0.09       0.00      0.71         21.12   \n",
       "min        0.00     51.39      -0.35       1.00      1.00         10.00   \n",
       "25%    64512.50     51.47      -0.15       1.00      1.00         55.00   \n",
       "50%   128918.00     51.51      -0.10       1.00      2.00         69.00   \n",
       "75%   196469.00     51.55      -0.04       1.00      2.00         85.00   \n",
       "max   266322.00     51.66       0.14       1.00      4.00        130.00   \n",
       "\n",
       "       livingRooms  sale_month  sale_year      price  \n",
       "count    154323.00   154323.00  154323.00  154323.00  \n",
       "mean          1.00        6.80    2011.92  343903.89  \n",
       "std           0.00        3.37       9.12  224740.49  \n",
       "min           1.00        1.00    1995.00   10000.00  \n",
       "25%           1.00        4.00    2004.00  175000.00  \n",
       "50%           1.00        7.00    2014.00  305000.00  \n",
       "75%           1.00       10.00    2021.00  455000.00  \n",
       "max           1.00       12.00    2023.00 1300000.00  "
      ]
     },
     "execution_count": 4,
     "metadata": {},
     "output_type": "execute_result"
    }
   ],
   "source": [
    "data = pd.read_csv(\"/kaggle/input/london-house-price-prediction-advanced-techniques/train.csv\")\n",
    "\n",
    "# Use the class\n",
    "cleaner = DataCleaning(data)\n",
    "cleaner.show_info()\n",
    "cleaner.drop_duplicates()\n",
    "cleaner.fill_missing(strategy='median', columns=['bathrooms', 'bedrooms', 'livingRooms', 'floorAreaSqM'])\n",
    "cleaner.fill_missing(strategy='mode', columns=['tenure', 'propertyType', 'currentEnergyRating'])\n",
    "cleaner.remove_outliers(columns=['price', 'floorAreaSqM', 'bathrooms', 'bedrooms', 'livingRooms', 'floorAreaSqM'])\n",
    "cleaner.drop_duplicates()\n",
    "cleaner.show_info()\n",
    "\n",
    "# Get the cleaned data\n",
    "df = cleaner.get_clean_data()\n",
    "df.replace([np.inf, -np.inf], np.nan, inplace=True)\n",
    "df.describe()"
   ]
  },
  {
   "cell_type": "code",
   "execution_count": 5,
   "id": "3be2f8c5",
   "metadata": {
    "execution": {
     "iopub.execute_input": "2025-04-23T16:36:51.566015Z",
     "iopub.status.busy": "2025-04-23T16:36:51.565689Z",
     "iopub.status.idle": "2025-04-23T16:36:51.572441Z",
     "shell.execute_reply": "2025-04-23T16:36:51.571589Z"
    },
    "papermill": {
     "duration": 0.012303,
     "end_time": "2025-04-23T16:36:51.573841",
     "exception": false,
     "start_time": "2025-04-23T16:36:51.561538",
     "status": "completed"
    },
    "tags": []
   },
   "outputs": [
    {
     "data": {
      "text/markdown": [
       "\n",
       "1. How has the average price changed yearly/monthly? Are there cyclical patterns (e.g., post-2008 crash, Brexit, COVID)?  \n",
       "2. Which years had the highest price variance (e.g., economic shocks)?  \n",
       "3. Do prices in certain areas (`outcode`) lag/lead others in trends?  \n",
       "4. Are there statistically significant spatial clusters (e.g., high-price zones in Kensington)?  \n",
       "5. Does proximity to central London (e.g., Charing Cross) correlate with price?  \n",
       "6. Do prices near borough boundaries differ significantly?  \n",
       "7. Does `price / floorAreaSqM` reveal undervalued/overvalued properties?  \n",
       "8. Does `bathrooms / bedrooms` impact price (luxury effect)?  \n",
       "9. Do higher `currentEnergyRating` homes sell faster or at a premium?  \n",
       "10. Are leasehold flats cheaper than freehold houses?  \n",
       "11. Do rare `propertyType` (e.g., \"mansion\") have outlier prices?  \n",
       "12. Do certain `outcode` prefixes (e.g., \"SW1\") command higher prices?  \n",
       "13. Are there suspiciously low prices (e.g., right-to-buy sales)?  \n",
       "14. Do homes with abnormally high `floorAreaSqM` but few rooms exist?  \n",
       "15. Are there properties with mismatched `latitude/longitude` (e.g., outside London)?  \n",
       "16. Does the price increase per bedroom vary by `outcode`?  \n",
       "17. Do features like `floorAreaSqM` show diminishing returns on price?  \n",
       "18. Does `propertyType × tenure` explain price better than either alone?  \n",
       "19. Are recent sales (`sale_year=2023`) structurally different?  \n",
       "20. Do prices correlate with external data (e.g., income by postcode)?\n"
      ],
      "text/plain": [
       "<IPython.core.display.Markdown object>"
      ]
     },
     "metadata": {},
     "output_type": "display_data"
    }
   ],
   "source": [
    "questions = \"\"\"\n",
    "1. How has the average price changed yearly/monthly? Are there cyclical patterns (e.g., post-2008 crash, Brexit, COVID)?  \n",
    "2. Which years had the highest price variance (e.g., economic shocks)?  \n",
    "3. Do prices in certain areas (`outcode`) lag/lead others in trends?  \n",
    "4. Are there statistically significant spatial clusters (e.g., high-price zones in Kensington)?  \n",
    "5. Does proximity to central London (e.g., Charing Cross) correlate with price?  \n",
    "6. Do prices near borough boundaries differ significantly?  \n",
    "7. Does `price / floorAreaSqM` reveal undervalued/overvalued properties?  \n",
    "8. Does `bathrooms / bedrooms` impact price (luxury effect)?  \n",
    "9. Do higher `currentEnergyRating` homes sell faster or at a premium?  \n",
    "10. Are leasehold flats cheaper than freehold houses?  \n",
    "11. Do rare `propertyType` (e.g., \"mansion\") have outlier prices?  \n",
    "12. Do certain `outcode` prefixes (e.g., \"SW1\") command higher prices?  \n",
    "13. Are there suspiciously low prices (e.g., right-to-buy sales)?  \n",
    "14. Do homes with abnormally high `floorAreaSqM` but few rooms exist?  \n",
    "15. Are there properties with mismatched `latitude/longitude` (e.g., outside London)?  \n",
    "16. Does the price increase per bedroom vary by `outcode`?  \n",
    "17. Do features like `floorAreaSqM` show diminishing returns on price?  \n",
    "18. Does `propertyType × tenure` explain price better than either alone?  \n",
    "19. Are recent sales (`sale_year=2023`) structurally different?  \n",
    "20. Do prices correlate with external data (e.g., income by postcode)?\n",
    "\"\"\"\n",
    "display(Markdown(questions))"
   ]
  },
  {
   "cell_type": "code",
   "execution_count": 6,
   "id": "a96b9c62",
   "metadata": {
    "execution": {
     "iopub.execute_input": "2025-04-23T16:36:51.582113Z",
     "iopub.status.busy": "2025-04-23T16:36:51.581728Z",
     "iopub.status.idle": "2025-04-23T16:36:59.901658Z",
     "shell.execute_reply": "2025-04-23T16:36:59.900775Z"
    },
    "papermill": {
     "duration": 8.325787,
     "end_time": "2025-04-23T16:36:59.903192",
     "exception": false,
     "start_time": "2025-04-23T16:36:51.577405",
     "status": "completed"
    },
    "tags": []
   },
   "outputs": [
    {
     "data": {
      "text/markdown": [
       "How has the average price changed yearly/monthly? Are there cyclical patterns (e.g., post-2008 crash, Brexit, COVID)?"
      ],
      "text/plain": [
       "<IPython.core.display.Markdown object>"
      ]
     },
     "metadata": {},
     "output_type": "display_data"
    },
    {
     "data": {
      "image/png": "[encoded data removed]",
      "text/plain": [
       "<Figure size 1200x300 with 1 Axes>"
      ]
     },
     "metadata": {},
     "output_type": "display_data"
    },
    {
     "data": {
      "text/markdown": [
       " \n",
       "- The yearly trend reveals strong housing market recovery post-2008, a Brexit-induced plateau around 2016, \n",
       "  and a COVID dip in 2020 followed by a sharp rebound. \n",
       "- External economic and political events significantly influenced the London housing market."
      ],
      "text/plain": [
       "<IPython.core.display.Markdown object>"
      ]
     },
     "metadata": {},
     "output_type": "display_data"
    },
    {
     "data": {
      "image/png": "[encoded data removed]",
      "text/plain": [
       "<Figure size 1200x300 with 1 Axes>"
      ]
     },
     "metadata": {},
     "output_type": "display_data"
    },
    {
     "data": {
      "text/markdown": [
       " \n",
       "- Over the last 5 years, while seasonal peaks and troughs persist,\n",
       "larger economic events—COVID, fiscal policy changes, and inflation—have caused significant year-over-year variations in price trends, especially around 2020–2022. \n",
       "- The market is showing signs of cooling or stabilizing in the most recent year."
      ],
      "text/plain": [
       "<IPython.core.display.Markdown object>"
      ]
     },
     "metadata": {},
     "output_type": "display_data"
    }
   ],
   "source": [
    "question = \"How has the average price changed yearly/monthly? Are there cyclical patterns (e.g., post-2008 crash, Brexit, COVID)?\"\n",
    "display(Markdown(question))\n",
    "\n",
    "# Yearly average price\n",
    "yearly_avg = df.groupby('sale_year')['price'].mean().reset_index()\n",
    "\n",
    "# Plot\n",
    "plt.figure(figsize=(12, 3))\n",
    "sns.lineplot(data=yearly_avg, x='sale_year', y='price', marker='o', linewidth=2)\n",
    "plt.title('Average House Price per Year in London', fontsize=16)\n",
    "plt.xlabel('Year')\n",
    "plt.ylabel('Average Price (£)')\n",
    "plt.grid(False)\n",
    "\n",
    "# Highlight major events\n",
    "important_years = {\n",
    "    '2008 Crash': 2008,\n",
    "    'Brexit Vote': 2016,\n",
    "    'COVID Start': 2020\n",
    "}\n",
    "\n",
    "for label, year in important_years.items():\n",
    "    plt.axvline(x=year, color='red', linestyle='--')\n",
    "    plt.text(year, plt.ylim()[1]*0.90, label, rotation=90, verticalalignment='top', color='red')\n",
    "\n",
    "plt.tight_layout()\n",
    "plt.show()\n",
    "\n",
    "display(Markdown(\"\"\" \n",
    "- The yearly trend reveals strong housing market recovery post-2008, a Brexit-induced plateau around 2016, \n",
    "  and a COVID dip in 2020 followed by a sharp rebound. \n",
    "- External economic and political events significantly influenced the London housing market.\"\"\"))\n",
    "\n",
    "\n",
    "# Monthly average across all years\n",
    "# Define the years you want to filter (e.g., 2019, 2020, etc.)\n",
    "filter_years = [2019, 2020, 2021]  # Modify as needed\n",
    "\n",
    "# Filter the DataFrame by the selected years\n",
    "filtered_df = df[df['sale_year'].isin(filter_years)]\n",
    "\n",
    "# Create a new column 'month_year' in 'Mon-YY' format (e.g., 'Jan-20')\n",
    "filtered_df['month_year'] = filtered_df['sale_month'].apply(lambda x: pd.to_datetime(f'{x}-01-2000').strftime('%b-%y'))\n",
    "\n",
    "# Group by 'month_year' and calculate the mean price for each month\n",
    "monthly_trend = filtered_df.groupby('month_year')['price'].mean().reset_index()\n",
    "\n",
    "# Sort by 'month_year' to ensure chronological order\n",
    "monthly_trend['month_year'] = pd.to_datetime(monthly_trend['month_year'], format='%b-%y')\n",
    "monthly_trend = monthly_trend.sort_values('month_year')\n",
    "\n",
    "# Plot\n",
    "plt.figure(figsize=(12, 3))\n",
    "sns.lineplot(data=monthly_trend, x='month_year', y='price', marker='o', linewidth=2)\n",
    "plt.title(f'Monthly Average House Price in London (Filtered: {filter_years})', fontsize=16)\n",
    "plt.xlabel('Month-Year')\n",
    "plt.ylabel('Average Price (£)')\n",
    "plt.xticks(rotation=45)\n",
    "plt.grid(False)\n",
    "plt.tight_layout()\n",
    "plt.show()\n",
    "\n",
    "display(Markdown(\"\"\" \n",
    "- Over the last 5 years, while seasonal peaks and troughs persist,\n",
    "larger economic events—COVID, fiscal policy changes, and inflation—have caused significant year-over-year variations in price trends, especially around 2020–2022. \n",
    "- The market is showing signs of cooling or stabilizing in the most recent year.\"\"\"))"
   ]
  },
  {
   "cell_type": "code",
   "execution_count": 7,
   "id": "d7b90a7c",
   "metadata": {
    "execution": {
     "iopub.execute_input": "2025-04-23T16:36:59.917661Z",
     "iopub.status.busy": "2025-04-23T16:36:59.916836Z",
     "iopub.status.idle": "2025-04-23T16:36:59.923016Z",
     "shell.execute_reply": "2025-04-23T16:36:59.922148Z"
    },
    "papermill": {
     "duration": 0.015189,
     "end_time": "2025-04-23T16:36:59.924460",
     "exception": false,
     "start_time": "2025-04-23T16:36:59.909271",
     "status": "completed"
    },
    "tags": []
   },
   "outputs": [
    {
     "data": {
      "text/plain": [
       "Index(['ID', 'fullAddress', 'postcode', 'country', 'outcode', 'latitude',\n",
       "       'longitude', 'bathrooms', 'bedrooms', 'floorAreaSqM', 'livingRooms',\n",
       "       'tenure', 'propertyType', 'currentEnergyRating', 'sale_month',\n",
       "       'sale_year', 'price'],\n",
       "      dtype='object')"
      ]
     },
     "execution_count": 7,
     "metadata": {},
     "output_type": "execute_result"
    }
   ],
   "source": [
    "df.columns"
   ]
  },
  {
   "cell_type": "code",
   "execution_count": null,
   "id": "513a871c",
   "metadata": {
    "papermill": {
     "duration": 0.00535,
     "end_time": "2025-04-23T16:36:59.935555",
     "exception": false,
     "start_time": "2025-04-23T16:36:59.930205",
     "status": "completed"
    },
    "tags": []
   },
   "outputs": [],
   "source": []
  }
 ],
 "metadata": {
  "kaggle": {
   "accelerator": "none",
   "dataSources": [
    {
     "databundleVersionId": 10105526,
     "sourceId": 88312,
     "sourceType": "competition"
    },
    {
     "datasetId": 7212885,
     "sourceId": 11504291,
     "sourceType": "datasetVersion"
    }
   ],
   "dockerImageVersionId": 31012,
   "isGpuEnabled": false,
   "isInternetEnabled": false,
   "language": "python",
   "sourceType": "notebook"
  },
  "kernelspec": {
   "display_name": "Python 3",
   "language": "python",
   "name": "python3"
  },
  "language_info": {
   "codemirror_mode": {
    "name": "ipython",
    "version": 3
   },
   "file_extension": ".py",
   "mimetype": "text/x-python",
   "name": "python",
   "nbconvert_exporter": "python",
   "pygments_lexer": "ipython3",
   "version": "3.11.11"
  },
  "papermill": {
   "default_parameters": {},
   "duration": 22.966656,
   "end_time": "2025-04-23T16:37:00.560396",
   "environment_variables": {},
   "exception": null,
   "input_path": "__notebook__.ipynb",
   "output_path": "__notebook__.ipynb",
   "parameters": {},
   "start_time": "2025-04-23T16:36:37.593740",
   "version": "2.6.0"
  }
 },
 "nbformat": 4,
 "nbformat_minor": 5
}
