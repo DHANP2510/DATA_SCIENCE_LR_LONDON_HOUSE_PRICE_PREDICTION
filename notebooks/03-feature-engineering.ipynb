{
 "cells": [
  {
   "cell_type": "code",
   "execution_count": 1,
   "id": "6b947feb",
   "metadata": {
    "_cell_guid": "b1076dfc-b9ad-4769-8c92-a6c4dae69d19",
    "_uuid": "8f2839f25d086af736a60e9eeb907d3b93b6e0e5",
    "execution": {
     "iopub.execute_input": "2025-05-07T18:22:28.023476Z",
     "iopub.status.busy": "2025-05-07T18:22:28.023044Z",
     "iopub.status.idle": "2025-05-07T18:22:32.779417Z",
     "shell.execute_reply": "2025-05-07T18:22:32.778354Z"
    },
    "papermill": {
     "duration": 4.763315,
     "end_time": "2025-05-07T18:22:32.781233",
     "exception": false,
     "start_time": "2025-05-07T18:22:28.017918",
     "status": "completed"
    },
    "tags": []
   },
   "outputs": [],
   "source": [
    "from sklearn.metrics import mean_squared_error, r2_score\n",
    "from statsmodels.tsa.deterministic import DeterministicProcess, CalendarFourier\n",
    "from IPython.display import display, Markdown\n",
    "from sklearn.linear_model import Ridge\n",
    "import numpy as np\n",
    "import pandas as pd\n",
    "import seaborn as sns\n",
    "import warnings\n",
    "import sys"
   ]
  },
  {
   "cell_type": "code",
   "execution_count": 2,
   "id": "3083def2",
   "metadata": {
    "execution": {
     "iopub.execute_input": "2025-05-07T18:22:32.789128Z",
     "iopub.status.busy": "2025-05-07T18:22:32.788536Z",
     "iopub.status.idle": "2025-05-07T18:22:32.794518Z",
     "shell.execute_reply": "2025-05-07T18:22:32.793506Z"
    },
    "papermill": {
     "duration": 0.011502,
     "end_time": "2025-05-07T18:22:32.796114",
     "exception": false,
     "start_time": "2025-05-07T18:22:32.784612",
     "status": "completed"
    },
    "tags": []
   },
   "outputs": [],
   "source": [
    "# Set float format for display (e.g., 2 decimal places)\n",
    "pd.options.display.float_format = '{:.2f}'.format\n",
    "\n",
    "# Suppress only the specific FutureWarning from pandas\n",
    "warnings.filterwarnings(\"ignore\")"
   ]
  },
  {
   "cell_type": "code",
   "execution_count": 3,
   "id": "a1562940",
   "metadata": {
    "execution": {
     "iopub.execute_input": "2025-05-07T18:22:32.803737Z",
     "iopub.status.busy": "2025-05-07T18:22:32.802967Z",
     "iopub.status.idle": "2025-05-07T18:22:32.822805Z",
     "shell.execute_reply": "2025-05-07T18:22:32.821763Z"
    },
    "papermill": {
     "duration": 0.025602,
     "end_time": "2025-05-07T18:22:32.824729",
     "exception": false,
     "start_time": "2025-05-07T18:22:32.799127",
     "status": "completed"
    },
    "tags": []
   },
   "outputs": [],
   "source": [
    "#using DataCleaning Module\n",
    "\n",
    "sys.path.append('/kaggle/input/modules/pyfiles')\n",
    "from datacleaning import DataCleaning"
   ]
  },
  {
   "cell_type": "code",
   "execution_count": 4,
   "id": "b2f4c437",
   "metadata": {
    "execution": {
     "iopub.execute_input": "2025-05-07T18:22:32.832048Z",
     "iopub.status.busy": "2025-05-07T18:22:32.831699Z",
     "iopub.status.idle": "2025-05-07T18:22:34.793668Z",
     "shell.execute_reply": "2025-05-07T18:22:34.792482Z"
    },
    "papermill": {
     "duration": 1.969991,
     "end_time": "2025-05-07T18:22:34.797703",
     "exception": false,
     "start_time": "2025-05-07T18:22:32.827712",
     "status": "completed"
    },
    "tags": []
   },
   "outputs": [
    {
     "data": {
      "text/html": [
       "<div>\n",
       "<style scoped>\n",
       "    .dataframe tbody tr th:only-of-type {\n",
       "        vertical-align: middle;\n",
       "    }\n",
       "\n",
       "    .dataframe tbody tr th {\n",
       "        vertical-align: top;\n",
       "    }\n",
       "\n",
       "    .dataframe thead th {\n",
       "        text-align: right;\n",
       "    }\n",
       "</style>\n",
       "<table border=\"1\" class=\"dataframe\">\n",
       "  <thead>\n",
       "    <tr style=\"text-align: right;\">\n",
       "      <th></th>\n",
       "      <th>ID</th>\n",
       "      <th>latitude</th>\n",
       "      <th>longitude</th>\n",
       "      <th>bathrooms</th>\n",
       "      <th>bedrooms</th>\n",
       "      <th>floorAreaSqM</th>\n",
       "      <th>livingRooms</th>\n",
       "      <th>sale_month</th>\n",
       "      <th>sale_year</th>\n",
       "      <th>price</th>\n",
       "    </tr>\n",
       "  </thead>\n",
       "  <tbody>\n",
       "    <tr>\n",
       "      <th>count</th>\n",
       "      <td>266325.00</td>\n",
       "      <td>266325.00</td>\n",
       "      <td>266325.00</td>\n",
       "      <td>217846.00</td>\n",
       "      <td>241482.00</td>\n",
       "      <td>252519.00</td>\n",
       "      <td>229285.00</td>\n",
       "      <td>266325.00</td>\n",
       "      <td>266325.00</td>\n",
       "      <td>266325.00</td>\n",
       "    </tr>\n",
       "    <tr>\n",
       "      <th>mean</th>\n",
       "      <td>133162.00</td>\n",
       "      <td>51.51</td>\n",
       "      <td>-0.10</td>\n",
       "      <td>1.44</td>\n",
       "      <td>2.50</td>\n",
       "      <td>99.62</td>\n",
       "      <td>1.29</td>\n",
       "      <td>6.81</td>\n",
       "      <td>2012.21</td>\n",
       "      <td>0.62</td>\n",
       "    </tr>\n",
       "    <tr>\n",
       "      <th>std</th>\n",
       "      <td>76881.55</td>\n",
       "      <td>0.06</td>\n",
       "      <td>0.09</td>\n",
       "      <td>0.72</td>\n",
       "      <td>1.17</td>\n",
       "      <td>56.45</td>\n",
       "      <td>0.58</td>\n",
       "      <td>3.36</td>\n",
       "      <td>9.14</td>\n",
       "      <td>1.27</td>\n",
       "    </tr>\n",
       "    <tr>\n",
       "      <th>min</th>\n",
       "      <td>0.00</td>\n",
       "      <td>51.39</td>\n",
       "      <td>-0.35</td>\n",
       "      <td>1.00</td>\n",
       "      <td>1.00</td>\n",
       "      <td>10.00</td>\n",
       "      <td>1.00</td>\n",
       "      <td>1.00</td>\n",
       "      <td>1995.00</td>\n",
       "      <td>0.01</td>\n",
       "    </tr>\n",
       "    <tr>\n",
       "      <th>25%</th>\n",
       "      <td>66581.00</td>\n",
       "      <td>51.47</td>\n",
       "      <td>-0.16</td>\n",
       "      <td>1.00</td>\n",
       "      <td>2.00</td>\n",
       "      <td>63.00</td>\n",
       "      <td>1.00</td>\n",
       "      <td>4.00</td>\n",
       "      <td>2004.00</td>\n",
       "      <td>0.22</td>\n",
       "    </tr>\n",
       "    <tr>\n",
       "      <th>50%</th>\n",
       "      <td>133162.00</td>\n",
       "      <td>51.51</td>\n",
       "      <td>-0.11</td>\n",
       "      <td>1.00</td>\n",
       "      <td>2.00</td>\n",
       "      <td>85.00</td>\n",
       "      <td>1.00</td>\n",
       "      <td>7.00</td>\n",
       "      <td>2014.00</td>\n",
       "      <td>0.39</td>\n",
       "    </tr>\n",
       "    <tr>\n",
       "      <th>75%</th>\n",
       "      <td>199743.00</td>\n",
       "      <td>51.55</td>\n",
       "      <td>-0.05</td>\n",
       "      <td>2.00</td>\n",
       "      <td>3.00</td>\n",
       "      <td>118.00</td>\n",
       "      <td>1.00</td>\n",
       "      <td>10.00</td>\n",
       "      <td>2021.00</td>\n",
       "      <td>0.65</td>\n",
       "    </tr>\n",
       "    <tr>\n",
       "      <th>max</th>\n",
       "      <td>266324.00</td>\n",
       "      <td>51.67</td>\n",
       "      <td>0.14</td>\n",
       "      <td>9.00</td>\n",
       "      <td>9.00</td>\n",
       "      <td>500.00</td>\n",
       "      <td>9.00</td>\n",
       "      <td>12.00</td>\n",
       "      <td>2023.00</td>\n",
       "      <td>100.00</td>\n",
       "    </tr>\n",
       "  </tbody>\n",
       "</table>\n",
       "</div>"
      ],
      "text/plain": [
       "             ID  latitude  longitude  bathrooms  bedrooms  floorAreaSqM  \\\n",
       "count 266325.00 266325.00  266325.00  217846.00 241482.00     252519.00   \n",
       "mean  133162.00     51.51      -0.10       1.44      2.50         99.62   \n",
       "std    76881.55      0.06       0.09       0.72      1.17         56.45   \n",
       "min        0.00     51.39      -0.35       1.00      1.00         10.00   \n",
       "25%    66581.00     51.47      -0.16       1.00      2.00         63.00   \n",
       "50%   133162.00     51.51      -0.11       1.00      2.00         85.00   \n",
       "75%   199743.00     51.55      -0.05       2.00      3.00        118.00   \n",
       "max   266324.00     51.67       0.14       9.00      9.00        500.00   \n",
       "\n",
       "       livingRooms  sale_month  sale_year     price  \n",
       "count    229285.00   266325.00  266325.00 266325.00  \n",
       "mean          1.29        6.81    2012.21      0.62  \n",
       "std           0.58        3.36       9.14      1.27  \n",
       "min           1.00        1.00    1995.00      0.01  \n",
       "25%           1.00        4.00    2004.00      0.22  \n",
       "50%           1.00        7.00    2014.00      0.39  \n",
       "75%           1.00       10.00    2021.00      0.65  \n",
       "max           9.00       12.00    2023.00    100.00  "
      ]
     },
     "metadata": {},
     "output_type": "display_data"
    },
    {
     "name": "stdout",
     "output_type": "stream",
     "text": [
      "<class 'pandas.core.frame.DataFrame'>\n",
      "RangeIndex: 266325 entries, 0 to 266324\n",
      "Data columns (total 17 columns):\n",
      " #   Column               Non-Null Count   Dtype  \n",
      "---  ------               --------------   -----  \n",
      " 0   ID                   266325 non-null  int64  \n",
      " 1   fullAddress          266325 non-null  object \n",
      " 2   postcode             266325 non-null  object \n",
      " 3   country              266325 non-null  object \n",
      " 4   outcode              266325 non-null  object \n",
      " 5   latitude             266325 non-null  float64\n",
      " 6   longitude            266325 non-null  float64\n",
      " 7   bathrooms            217846 non-null  float64\n",
      " 8   bedrooms             241482 non-null  float64\n",
      " 9   floorAreaSqM         252519 non-null  float64\n",
      " 10  livingRooms          229285 non-null  float64\n",
      " 11  tenure               260604 non-null  object \n",
      " 12  propertyType         265817 non-null  object \n",
      " 13  currentEnergyRating  209511 non-null  object \n",
      " 14  sale_month           266325 non-null  int64  \n",
      " 15  sale_year            266325 non-null  int64  \n",
      " 16  price                266325 non-null  float64\n",
      "dtypes: float64(7), int64(3), object(7)\n",
      "memory usage: 34.5+ MB\n"
     ]
    },
    {
     "data": {
      "text/plain": [
       "None"
      ]
     },
     "metadata": {},
     "output_type": "display_data"
    }
   ],
   "source": [
    "df = pd.read_csv(\"/kaggle/input/london-house-price-prediction-advanced-techniques/train.csv\")\n",
    "\n",
    "# Use the class\n",
    "#cleaner = DataCleaning(data)\n",
    "#cleaner.show_info()\n",
    "#cleaner.drop_duplicates()\n",
    "#cleaner.fill_missing(strategy='median', columns=['bathrooms', 'bedrooms', 'livingRooms', 'floorAreaSqM'])\n",
    "#cleaner.fill_missing(strategy='mode', columns=['tenure', 'propertyType', 'currentEnergyRating'])\n",
    "#cleaner.remove_outliers(columns=['price','floorAreaSqM', 'bathrooms', 'bedrooms', 'livingRooms']) \n",
    "#cleaner.drop_duplicates()\n",
    "#cleaner.show_info()\n",
    "\n",
    "# Get the cleaned data\n",
    "#df = cleaner.get_clean_data()\n",
    "df[\"price\"] = df[\"price\"]*(10**-6)   \n",
    "#df.replace([np.inf, -np.inf], np.nan, inplace=True)\n",
    "display(df.describe())\n",
    "display(df.info())"
   ]
  },
  {
   "cell_type": "code",
   "execution_count": 5,
   "id": "cc81daa9",
   "metadata": {
    "execution": {
     "iopub.execute_input": "2025-05-07T18:22:34.807873Z",
     "iopub.status.busy": "2025-05-07T18:22:34.807519Z",
     "iopub.status.idle": "2025-05-07T18:22:34.815019Z",
     "shell.execute_reply": "2025-05-07T18:22:34.814016Z"
    },
    "papermill": {
     "duration": 0.014433,
     "end_time": "2025-05-07T18:22:34.816632",
     "exception": false,
     "start_time": "2025-05-07T18:22:34.802199",
     "status": "completed"
    },
    "tags": []
   },
   "outputs": [
    {
     "data": {
      "text/markdown": [
       "\n",
       "Startegy to (1) wrangle data (1.1 data completeness)(check for each columns):\n",
       "1. ✅ `fullAddress` - No change required.\n",
       "2. ✅ To extract incode from `postcode`.\n",
       "3. ✅ To drop `country` column. \n",
       "4. ✅ `Latitude`/`Logitude` - No change required.\n",
       "5. ✅ To impute `floorAreaSqM` with most frequent values (mode).\n",
       "6. ✅ To impute `bathrooms`/`bedrooms`/`living_room`/`tenure`/`property_type`/`currentEnergyRating` with most frequent values (mode).\n",
       "7. ✅ To generate time features from sale_year+sale_month using DeterministicProcess and merge\n"
      ],
      "text/plain": [
       "<IPython.core.display.Markdown object>"
      ]
     },
     "metadata": {},
     "output_type": "display_data"
    }
   ],
   "source": [
    "questions = \"\"\"\n",
    "Startegy to (1) wrangle data (1.1 data completeness)(check for each columns):\n",
    "1. ✅ `fullAddress` - No change required.\n",
    "2. ✅ To extract incode from `postcode`.\n",
    "3. ✅ To drop `country` column. \n",
    "4. ✅ `Latitude`/`Logitude` - No change required.\n",
    "5. ✅ To impute `floorAreaSqM` with most frequent values (mode).\n",
    "6. ✅ To impute `bathrooms`/`bedrooms`/`living_room`/`tenure`/`property_type`/`currentEnergyRating` with most frequent values (mode).\n",
    "7. ✅ To generate time features from sale_year+sale_month using DeterministicProcess and merge\n",
    "\"\"\"\n",
    "display(Markdown(questions))"
   ]
  },
  {
   "cell_type": "code",
   "execution_count": 6,
   "id": "6cbff846",
   "metadata": {
    "execution": {
     "iopub.execute_input": "2025-05-07T18:22:34.825195Z",
     "iopub.status.busy": "2025-05-07T18:22:34.824839Z",
     "iopub.status.idle": "2025-05-07T18:22:34.927491Z",
     "shell.execute_reply": "2025-05-07T18:22:34.926419Z"
    },
    "papermill": {
     "duration": 0.109035,
     "end_time": "2025-05-07T18:22:34.929278",
     "exception": false,
     "start_time": "2025-05-07T18:22:34.820243",
     "status": "completed"
    },
    "tags": []
   },
   "outputs": [],
   "source": [
    "# To extract incode from `postcode`\n",
    "df['postcode'] = df['postcode'].apply(lambda x: x.split(\" \")[1])"
   ]
  },
  {
   "cell_type": "code",
   "execution_count": 7,
   "id": "751e9fb4",
   "metadata": {
    "execution": {
     "iopub.execute_input": "2025-05-07T18:22:34.939149Z",
     "iopub.status.busy": "2025-05-07T18:22:34.938541Z",
     "iopub.status.idle": "2025-05-07T18:22:35.041794Z",
     "shell.execute_reply": "2025-05-07T18:22:35.040699Z"
    },
    "papermill": {
     "duration": 0.109302,
     "end_time": "2025-05-07T18:22:35.043491",
     "exception": false,
     "start_time": "2025-05-07T18:22:34.934189",
     "status": "completed"
    },
    "tags": []
   },
   "outputs": [],
   "source": [
    "# To impute `floorAreaSqM` with most frequent values (mode). \n",
    "def mode_func(x):\n",
    "    return x.mode().iloc[0] if not x.mode().empty else np.nan\n",
    "    \n",
    "temp_df = df.groupby('outcode')['floorAreaSqM'].agg(\n",
    "    min='min',\n",
    "    max='max',\n",
    "    mode=mode_func,\n",
    "    median='median',\n",
    "    mean='mean',\n",
    "    count='count'\n",
    ").reset_index()\n",
    "\n",
    "df['floorAreaSqM'].fillna(temp_df['mode'].mode().iloc[0], inplace=True)\n"
   ]
  },
  {
   "cell_type": "code",
   "execution_count": 8,
   "id": "4b65a542",
   "metadata": {
    "execution": {
     "iopub.execute_input": "2025-05-07T18:22:35.051470Z",
     "iopub.status.busy": "2025-05-07T18:22:35.051123Z",
     "iopub.status.idle": "2025-05-07T18:22:35.095928Z",
     "shell.execute_reply": "2025-05-07T18:22:35.094946Z"
    },
    "papermill": {
     "duration": 0.050843,
     "end_time": "2025-05-07T18:22:35.097741",
     "exception": false,
     "start_time": "2025-05-07T18:22:35.046898",
     "status": "completed"
    },
    "tags": []
   },
   "outputs": [],
   "source": [
    "# To drop `country` column\n",
    "df.drop('country', inplace=True, axis = 1)"
   ]
  },
  {
   "cell_type": "code",
   "execution_count": 9,
   "id": "2859d528",
   "metadata": {
    "execution": {
     "iopub.execute_input": "2025-05-07T18:22:35.105775Z",
     "iopub.status.busy": "2025-05-07T18:22:35.105479Z",
     "iopub.status.idle": "2025-05-07T18:22:35.110199Z",
     "shell.execute_reply": "2025-05-07T18:22:35.109107Z"
    },
    "papermill": {
     "duration": 0.01045,
     "end_time": "2025-05-07T18:22:35.111658",
     "exception": false,
     "start_time": "2025-05-07T18:22:35.101208",
     "status": "completed"
    },
    "tags": []
   },
   "outputs": [],
   "source": [
    "# To impute `bathrooms`/`bedrooms`/`living_room`/`tenure`/`property_type`/`currentEnergyRating` with most frequent values (mode). (Function already created)"
   ]
  },
  {
   "cell_type": "code",
   "execution_count": 10,
   "id": "7c865c0d",
   "metadata": {
    "execution": {
     "iopub.execute_input": "2025-05-07T18:22:35.119782Z",
     "iopub.status.busy": "2025-05-07T18:22:35.119021Z",
     "iopub.status.idle": "2025-05-07T18:22:35.123619Z",
     "shell.execute_reply": "2025-05-07T18:22:35.122643Z"
    },
    "papermill": {
     "duration": 0.010061,
     "end_time": "2025-05-07T18:22:35.125020",
     "exception": false,
     "start_time": "2025-05-07T18:22:35.114959",
     "status": "completed"
    },
    "tags": []
   },
   "outputs": [],
   "source": [
    "# # 1. Create temporary datetime for feature generation\n",
    "# df['temp_date'] = pd.to_datetime(\n",
    "#     df['sale_year'].astype(str) + '-' + df['sale_month'].astype(str)\n",
    "# )\n",
    "\n",
    "# # 2. Initialize DeterministicProcess (uses temp_date internally)\n",
    "# dp = DeterministicProcess(\n",
    "#     index=df['temp_date'],  # Pass dates as Series\n",
    "#     constant=True,\n",
    "#     seasonal=True,\n",
    "#     order=12,\n",
    "#     drop=True,\n",
    "#     additional_terms=[CalendarFourier(freq='QE', order=2)]\n",
    "# )\n",
    "\n",
    "# # 3. Generate features for existing data\n",
    "# time_features = dp.in_sample()\n",
    "# df = pd.concat([df, time_features], axis=1)\n",
    "\n",
    "# # 4. Generate features for next 7 months\n",
    "# last_date = df['temp_date'].max()\n",
    "# future_dates = pd.date_range(\n",
    "#     start=last_date + pd.offsets.MonthBegin(1),\n",
    "#     periods=7,\n",
    "#     freq='M'\n",
    "# )\n",
    "# future_features = dp.out_of_sample(steps=7, dates=future_dates)\n",
    "\n",
    "# # 5. Cleanup (remove temp column if needed)\n",
    "# df = df.drop(columns=['temp_date'])\n",
    "\n",
    "# # 3. Generate features for testing data\n",
    "# df = pd.concat([df, future_features], axis=1)"
   ]
  },
  {
   "cell_type": "code",
   "execution_count": 11,
   "id": "b0437aff",
   "metadata": {
    "execution": {
     "iopub.execute_input": "2025-05-07T18:22:35.133222Z",
     "iopub.status.busy": "2025-05-07T18:22:35.132283Z",
     "iopub.status.idle": "2025-05-07T18:22:35.136868Z",
     "shell.execute_reply": "2025-05-07T18:22:35.135881Z"
    },
    "papermill": {
     "duration": 0.010166,
     "end_time": "2025-05-07T18:22:35.138449",
     "exception": false,
     "start_time": "2025-05-07T18:22:35.128283",
     "status": "completed"
    },
    "tags": []
   },
   "outputs": [],
   "source": [
    "# questions = \"\"\"\n",
    "# Startegy to (1) wrangle data (1.2 data encoding)(check for each columns):\n",
    "# 1. ✅ `fullAddress` - No change required.\n",
    "# 2. ✅ To extract incode from `postcode`.\n",
    "# 3. ✅ To drop `country` column. \n",
    "# 4. ✅ `Latitude`/`Logitude` - No change required.\n",
    "# 5. ✅ To impute `floorAreaSqM` with most frequent values (mode).\n",
    "# 6. ✅ To impute `bathrooms`/`bedrooms`/`living_room`/`tenure`/`property_type`/`currentEnergyRating` with most frequent values (mode).\n",
    "# 7. ✅ To generate time features from sale_year+sale_month using DeterministicProcess and merge\n",
    "# \"\"\"\n",
    "# display(Markdown(questions))"
   ]
  }
 ],
 "metadata": {
  "kaggle": {
   "accelerator": "none",
   "dataSources": [
    {
     "databundleVersionId": 10105526,
     "sourceId": 88312,
     "sourceType": "competition"
    },
    {
     "datasetId": 7212885,
     "sourceId": 11504291,
     "sourceType": "datasetVersion"
    }
   ],
   "dockerImageVersionId": 31012,
   "isGpuEnabled": false,
   "isInternetEnabled": false,
   "language": "python",
   "sourceType": "notebook"
  },
  "kernelspec": {
   "display_name": "Python 3",
   "language": "python",
   "name": "python3"
  },
  "language_info": {
   "codemirror_mode": {
    "name": "ipython",
    "version": 3
   },
   "file_extension": ".py",
   "mimetype": "text/x-python",
   "name": "python",
   "nbconvert_exporter": "python",
   "pygments_lexer": "ipython3",
   "version": "3.11.11"
  },
  "papermill": {
   "default_parameters": {},
   "duration": 13.173362,
   "end_time": "2025-05-07T18:22:35.862935",
   "environment_variables": {},
   "exception": null,
   "input_path": "__notebook__.ipynb",
   "output_path": "__notebook__.ipynb",
   "parameters": {},
   "start_time": "2025-05-07T18:22:22.689573",
   "version": "2.6.0"
  }
 },
 "nbformat": 4,
 "nbformat_minor": 5
}
