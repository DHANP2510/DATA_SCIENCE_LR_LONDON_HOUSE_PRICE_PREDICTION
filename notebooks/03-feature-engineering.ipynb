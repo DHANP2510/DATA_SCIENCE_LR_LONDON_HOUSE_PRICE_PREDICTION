{
 "cells": [
  {
   "cell_type": "code",
   "execution_count": 1,
   "id": "40811d8c",
   "metadata": {
    "_cell_guid": "b1076dfc-b9ad-4769-8c92-a6c4dae69d19",
    "_uuid": "8f2839f25d086af736a60e9eeb907d3b93b6e0e5",
    "execution": {
     "iopub.execute_input": "2025-05-13T07:43:02.076375Z",
     "iopub.status.busy": "2025-05-13T07:43:02.076031Z",
     "iopub.status.idle": "2025-05-13T07:43:13.529383Z",
     "shell.execute_reply": "2025-05-13T07:43:13.528397Z"
    },
    "papermill": {
     "duration": 11.459981,
     "end_time": "2025-05-13T07:43:13.531323",
     "exception": false,
     "start_time": "2025-05-13T07:43:02.071342",
     "status": "completed"
    },
    "tags": []
   },
   "outputs": [],
   "source": [
    "from sklearn.metrics import mean_squared_error, r2_score\n",
    "from statsmodels.tsa.deterministic import DeterministicProcess, CalendarFourier\n",
    "from sklearn.preprocessing import PolynomialFeatures, FunctionTransformer\n",
    "from sklearn.model_selection import train_test_split\n",
    "from sklearn.metrics import mean_squared_error\n",
    "from IPython.display import display, Markdown\n",
    "from sklearn.linear_model import Ridge\n",
    "from xgboost import XGBRegressor\n",
    "import lightgbm as lgb\n",
    "import xgboost as xgb\n",
    "import seaborn as sns\n",
    "import numpy as np\n",
    "import pandas as pd\n",
    "import warnings\n",
    "import sys"
   ]
  },
  {
   "cell_type": "code",
   "execution_count": 2,
   "id": "c649c859",
   "metadata": {
    "execution": {
     "iopub.execute_input": "2025-05-13T07:43:13.539017Z",
     "iopub.status.busy": "2025-05-13T07:43:13.538459Z",
     "iopub.status.idle": "2025-05-13T07:43:13.543659Z",
     "shell.execute_reply": "2025-05-13T07:43:13.542673Z"
    },
    "papermill": {
     "duration": 0.010548,
     "end_time": "2025-05-13T07:43:13.545203",
     "exception": false,
     "start_time": "2025-05-13T07:43:13.534655",
     "status": "completed"
    },
    "tags": []
   },
   "outputs": [],
   "source": [
    "# Set float format for display (e.g., 2 decimal places)\n",
    "pd.options.display.float_format = '{:.2f}'.format\n",
    "\n",
    "# Suppress only the specific FutureWarning from pandas\n",
    "warnings.filterwarnings(\"ignore\")"
   ]
  },
  {
   "cell_type": "code",
   "execution_count": 3,
   "id": "bd5373e8",
   "metadata": {
    "execution": {
     "iopub.execute_input": "2025-05-13T07:43:13.552351Z",
     "iopub.status.busy": "2025-05-13T07:43:13.551992Z",
     "iopub.status.idle": "2025-05-13T07:43:13.579821Z",
     "shell.execute_reply": "2025-05-13T07:43:13.578665Z"
    },
    "papermill": {
     "duration": 0.034039,
     "end_time": "2025-05-13T07:43:13.582226",
     "exception": false,
     "start_time": "2025-05-13T07:43:13.548187",
     "status": "completed"
    },
    "tags": []
   },
   "outputs": [],
   "source": [
    "#using DataCleaning Module\n",
    "\n",
    "sys.path.append('/kaggle/input/modules/pyfiles')\n",
    "from datacleaning import DataCleaner"
   ]
  },
  {
   "cell_type": "code",
   "execution_count": 4,
   "id": "ba11beb3",
   "metadata": {
    "execution": {
     "iopub.execute_input": "2025-05-13T07:43:13.589553Z",
     "iopub.status.busy": "2025-05-13T07:43:13.589220Z",
     "iopub.status.idle": "2025-05-13T07:43:15.190427Z",
     "shell.execute_reply": "2025-05-13T07:43:15.189319Z"
    },
    "papermill": {
     "duration": 1.606837,
     "end_time": "2025-05-13T07:43:15.192188",
     "exception": false,
     "start_time": "2025-05-13T07:43:13.585351",
     "status": "completed"
    },
    "tags": []
   },
   "outputs": [],
   "source": [
    "df = pd.read_csv(\"/kaggle/input/london-house-price-prediction-advanced-techniques/train.csv\")\n",
    "df[\"price\"] = df[\"price\"]*(10**-6)"
   ]
  },
  {
   "cell_type": "code",
   "execution_count": 5,
   "id": "ba23c483",
   "metadata": {
    "execution": {
     "iopub.execute_input": "2025-05-13T07:43:15.199471Z",
     "iopub.status.busy": "2025-05-13T07:43:15.199164Z",
     "iopub.status.idle": "2025-05-13T07:43:15.207011Z",
     "shell.execute_reply": "2025-05-13T07:43:15.206181Z"
    },
    "papermill": {
     "duration": 0.013664,
     "end_time": "2025-05-13T07:43:15.208858",
     "exception": false,
     "start_time": "2025-05-13T07:43:15.195194",
     "status": "completed"
    },
    "tags": []
   },
   "outputs": [
    {
     "data": {
      "text/markdown": [
       "\n",
       "Startegy to (1) wrangle data (1.1 data completeness)(check for each columns):\n",
       "1. ✅ `fullAddress` - No change required.\n",
       "2. ✅ To extract incode from `postcode`.\n",
       "3. ✅ To drop `country` column. \n",
       "4. ✅ `Latitude`/`Logitude` - No change required.\n",
       "5. ✅ To impute `floorAreaSqM` with most frequent values (mode).\n",
       "6. ✅ To impute `bathrooms`/`bedrooms`/`living_room`/`tenure`/`property_type`/`currentEnergyRating` with most frequent values (mode).\n",
       "7. ✅ To generate time features from sale_year+sale_month using DeterministicProcess and merge\n",
       "8. ✅ To encode columns w.r.t mean/bins - street, postcode, outcode, tenure, latitudeBins, longitudeBins, propertyType, currentEnergyRating\n"
      ],
      "text/plain": [
       "<IPython.core.display.Markdown object>"
      ]
     },
     "metadata": {},
     "output_type": "display_data"
    }
   ],
   "source": [
    "questions = \"\"\"\n",
    "Startegy to (1) wrangle data (1.1 data completeness)(check for each columns):\n",
    "1. ✅ `fullAddress` - No change required.\n",
    "2. ✅ To extract incode from `postcode`.\n",
    "3. ✅ To drop `country` column. \n",
    "4. ✅ `Latitude`/`Logitude` - No change required.\n",
    "5. ✅ To impute `floorAreaSqM` with most frequent values (mode).\n",
    "6. ✅ To impute `bathrooms`/`bedrooms`/`living_room`/`tenure`/`property_type`/`currentEnergyRating` with most frequent values (mode).\n",
    "7. ✅ To generate time features from sale_year+sale_month using DeterministicProcess and merge\n",
    "8. ✅ To encode columns w.r.t mean/bins - street, postcode, outcode, tenure, latitudeBins, longitudeBins, propertyType, currentEnergyRating\n",
    "\"\"\"\n",
    "display(Markdown(questions))"
   ]
  },
  {
   "cell_type": "markdown",
   "id": "ed29ef6d",
   "metadata": {
    "papermill": {
     "duration": 0.002566,
     "end_time": "2025-05-13T07:43:15.214352",
     "exception": false,
     "start_time": "2025-05-13T07:43:15.211786",
     "status": "completed"
    },
    "tags": []
   },
   "source": [
    "### Feature Selection and Modelling"
   ]
  },
  {
   "cell_type": "code",
   "execution_count": 6,
   "id": "25cc6d45",
   "metadata": {
    "execution": {
     "iopub.execute_input": "2025-05-13T07:43:15.220998Z",
     "iopub.status.busy": "2025-05-13T07:43:15.220701Z",
     "iopub.status.idle": "2025-05-13T07:43:20.428157Z",
     "shell.execute_reply": "2025-05-13T07:43:20.427119Z"
    },
    "papermill": {
     "duration": 5.213595,
     "end_time": "2025-05-13T07:43:20.430634",
     "exception": false,
     "start_time": "2025-05-13T07:43:15.217039",
     "status": "completed"
    },
    "tags": []
   },
   "outputs": [
    {
     "name": "stdout",
     "output_type": "stream",
     "text": [
      "Imputed 'bathrooms' with mode: 1.0\n",
      "Imputed 'bedrooms' with mode: 2.0\n",
      "Imputed 'floorAreaSqM' with mode: 55.0\n",
      "Imputed 'livingRooms' with mode: 1.0\n",
      "Imputed 'tenure' with mode: Leasehold\n",
      "Imputed 'propertyType' with mode: Purpose Built Flat\n",
      "Imputed 'currentEnergyRating' with mode: D\n",
      "Imputed 'bathrooms' with mode: 1.0\n",
      "Imputed 'bedrooms' with mode: 2.0\n",
      "Imputed 'floorAreaSqM' with mode: 55.0\n",
      "Imputed 'livingRooms' with mode: 1.0\n",
      "Imputed 'tenure' with mode: Leasehold\n",
      "Imputed 'propertyType' with mode: Purpose Built Flat\n",
      "Imputed 'currentEnergyRating' with mode: D\n"
     ]
    }
   ],
   "source": [
    "train_df = pd.read_csv(\"/kaggle/input/london-house-price-prediction-advanced-techniques/train.csv\")\n",
    "test_df = pd.read_csv(\"/kaggle/input/london-house-price-prediction-advanced-techniques/test.csv\")\n",
    "\n",
    "train_df['sale_date'] = pd.to_datetime({\n",
    "    'year': train_df['sale_year'],\n",
    "    'month': train_df['sale_month'],\n",
    "    'day': 1\n",
    "})\n",
    "\n",
    "test_df['sale_date'] = pd.to_datetime({\n",
    "    'year': test_df['sale_year'],\n",
    "    'month': test_df['sale_month'],\n",
    "    'day': 1\n",
    "})\n",
    "\n",
    "sale_dates = pd.to_datetime(train_df['sale_date'].sort_values().unique())\n",
    "sale_index = pd.date_range(start=sale_dates.min(), end=sale_dates.max(), freq='MS')  # 'MS' = Month Start\n",
    "\n",
    "# TRAINING\n",
    "train_cleaner = DataCleaner(train_df)\n",
    "train_cleaner.extract_incode()\n",
    "train_cleaner.impute_with_mode()\n",
    "train_cleaner.generate_time_features(index=sale_index, fit=False)\n",
    "train_cleaner.encode_features(target_col='price', fit=True)\n",
    "\n",
    "train_data_final = train_cleaner.df\n",
    "\n",
    "# TESTING\n",
    "test_cleaner = DataCleaner(test_df)\n",
    "test_cleaner.dp = train_cleaner.dp  # share fitted DP\n",
    "test_cleaner.mean_encoders = train_cleaner.mean_encoders\n",
    "test_cleaner.global_means = train_cleaner.global_means\n",
    "test_cleaner.bin_edges = train_cleaner.bin_edges\n",
    "test_cleaner.label_encoders = train_cleaner.label_encoders\n",
    "test_cleaner.energy_encoder = train_cleaner.energy_encoder\n",
    "\n",
    "test_cleaner.extract_incode()\n",
    "test_cleaner.impute_with_mode()\n",
    "test_cleaner.generate_time_features(index=sale_index, fit=True)  # use same DP\n",
    "test_cleaner.encode_features(fit=False)\n",
    "\n",
    "test_data_final = test_cleaner.df"
   ]
  },
  {
   "cell_type": "code",
   "execution_count": 7,
   "id": "522f027d",
   "metadata": {
    "execution": {
     "iopub.execute_input": "2025-05-13T07:43:20.438063Z",
     "iopub.status.busy": "2025-05-13T07:43:20.437761Z",
     "iopub.status.idle": "2025-05-13T07:43:20.536152Z",
     "shell.execute_reply": "2025-05-13T07:43:20.535167Z"
    },
    "papermill": {
     "duration": 0.104079,
     "end_time": "2025-05-13T07:43:20.537816",
     "exception": false,
     "start_time": "2025-05-13T07:43:20.433737",
     "status": "completed"
    },
    "tags": []
   },
   "outputs": [],
   "source": [
    "X_train = train_data_final[['incode', 'outcode', 'latitude', 'longitude', 'bathrooms', 'bedrooms', 'floorAreaSqM',\n",
    "    'livingRooms', 'tenure', 'propertyType', 'currentEnergyRating', 'sale_month', 'sale_year', \n",
    "    'const', 'trend', 'trend_squared', 'trend_cubed', 'trend**4', 'latitudeBins', 'longitudeBins']]\n",
    "\n",
    "y_train = train_data_final[['price']]\n",
    "\n",
    "# Split into training and validation\n",
    "X_train, X_test, y_train, y_test = train_test_split(\n",
    "    X_train, y_train, test_size=0.10, random_state=42\n",
    ")"
   ]
  },
  {
   "cell_type": "code",
   "execution_count": 8,
   "id": "99c6e713",
   "metadata": {
    "execution": {
     "iopub.execute_input": "2025-05-13T07:43:20.545542Z",
     "iopub.status.busy": "2025-05-13T07:43:20.545194Z",
     "iopub.status.idle": "2025-05-13T07:44:46.494597Z",
     "shell.execute_reply": "2025-05-13T07:44:46.493384Z"
    },
    "papermill": {
     "duration": 85.957975,
     "end_time": "2025-05-13T07:44:46.498874",
     "exception": false,
     "start_time": "2025-05-13T07:43:20.540899",
     "status": "completed"
    },
    "tags": []
   },
   "outputs": [
    {
     "name": "stdout",
     "output_type": "stream",
     "text": [
      "Fitting 3 folds for each of 24 candidates, totalling 72 fits\n",
      "Best Parameters: {'HybridModel__depth': 6, 'HybridModel__iterations': 500, 'HybridModel__learning_rate': 0.01}\n",
      "Mean Absolute Error: 214148.13253983043\n"
     ]
    }
   ],
   "source": [
    "import pandas as pd\n",
    "import numpy as np\n",
    "from catboost import CatBoostRegressor\n",
    "from sklearn.pipeline import Pipeline\n",
    "from sklearn.compose import ColumnTransformer\n",
    "from sklearn.preprocessing import StandardScaler\n",
    "from sklearn.model_selection import train_test_split, GridSearchCV\n",
    "from sklearn.metrics import mean_absolute_error\n",
    "\n",
    "# Example feature set (adjust these as per your dataset)\n",
    "X1_feature = ['trend', 'trend_squared', 'trend_cubed']  # Linear features\n",
    "X2_feature = ['bathrooms', 'bedrooms', 'floorAreaSqM', 'livingRooms', 'latitude', 'longitude']  # Non-linear features\n",
    "\n",
    "# Preprocessor for X2 (non-linear features, using scaling)\n",
    "X2_preprocessor = ColumnTransformer([\n",
    "    ('num', StandardScaler(), X2_feature),\n",
    "])\n",
    "\n",
    "# Preprocessor for X1 (trend features, no polynomial features for now)\n",
    "X1_preprocessor = ColumnTransformer([\n",
    "    ('num', StandardScaler(), X1_feature)\n",
    "])\n",
    "\n",
    "# Define the CatBoost model\n",
    "catboost_model = CatBoostRegressor(iterations=1000, depth=6, learning_rate=0.1, verbose=0)\n",
    "\n",
    "# Combine everything in a pipeline\n",
    "model = Pipeline([\n",
    "    ('X2_preprocessor', X2_preprocessor),\n",
    "    ('HybridModel', CatBoostRegressor(iterations=1000, depth=6, learning_rate=0.1, verbose=0))\n",
    "])\n",
    "\n",
    "# Example data (replace with actual data)\n",
    "X = pd.DataFrame({\n",
    "    'trend': np.linspace(1, 100, 1000),\n",
    "    'trend_squared': np.linspace(1, 100, 1000)**2,\n",
    "    'trend_cubed': np.linspace(1, 100, 1000)**3,\n",
    "    'bathrooms': np.random.randint(1, 5, 1000),\n",
    "    'bedrooms': np.random.randint(1, 7, 1000),\n",
    "    'floorAreaSqM': np.random.uniform(30, 200, 1000),\n",
    "    'livingRooms': np.random.randint(1, 5, 1000),\n",
    "    'latitude': np.random.uniform(51, 52, 1000),\n",
    "    'longitude': np.random.uniform(-0.5, 0.5, 1000),\n",
    "})\n",
    "\n",
    "# Simulated target variable (price)\n",
    "y = np.random.uniform(100000, 1000000, 1000)\n",
    "\n",
    "# Split data into training and testing sets\n",
    "X_train, X_test, y_train, y_test = train_test_split(X, y, test_size=0.2, random_state=42)\n",
    "\n",
    "# Use GridSearchCV for tuning CatBoost parameters (simplified)\n",
    "param_grid = {\n",
    "    'HybridModel__iterations': [500, 1500],\n",
    "    'HybridModel__depth': [4, 6, 8],\n",
    "    'HybridModel__learning_rate': [0.01, 0.05, 0.1, 0.07]\n",
    "}\n",
    "\n",
    "# Hyperparameter tuning using GridSearchCV\n",
    "grid_search = GridSearchCV(model, param_grid, cv=3, n_jobs=-1, scoring='neg_mean_absolute_error', verbose=2)\n",
    "grid_search.fit(X_train, y_train)\n",
    "\n",
    "# Best parameters from grid search\n",
    "print(f\"Best Parameters: {grid_search.best_params_}\")\n",
    "\n",
    "# Make predictions on test data\n",
    "y_pred = grid_search.best_estimator_.predict(X_test)\n",
    "\n",
    "# Evaluate the model using Mean Absolute Error\n",
    "mae = mean_absolute_error(y_test, y_pred)\n",
    "print(f'Mean Absolute Error: {mae}')"
   ]
  },
  {
   "cell_type": "code",
   "execution_count": 9,
   "id": "3aa2af05",
   "metadata": {
    "execution": {
     "iopub.execute_input": "2025-05-13T07:44:46.506475Z",
     "iopub.status.busy": "2025-05-13T07:44:46.506156Z",
     "iopub.status.idle": "2025-05-13T07:44:47.515915Z",
     "shell.execute_reply": "2025-05-13T07:44:47.514864Z"
    },
    "papermill": {
     "duration": 1.015727,
     "end_time": "2025-05-13T07:44:47.517731",
     "exception": false,
     "start_time": "2025-05-13T07:44:46.502004",
     "status": "completed"
    },
    "tags": []
   },
   "outputs": [],
   "source": [
    "val_df = test_data_final[['incode', 'outcode',\n",
    "    'latitude', 'longitude', 'bathrooms', 'bedrooms', 'floorAreaSqM',\n",
    "    'livingRooms', 'tenure', 'propertyType', 'currentEnergyRating','sale_month', 'sale_year', \n",
    "    'const', 'trend', 'trend_squared', 'trend_cubed', 'trend**4', 'latitudeBins', 'longitudeBins']]\n",
    "\n",
    "submission = pd.read_csv('/kaggle/input/london-house-price-prediction-advanced-techniques/sample_submission.csv')\n",
    "\n",
    "# 💡 Hybrid Prediction (change weights if needed)\n",
    "model.fit(X_train, y_train)\n",
    "submission['price'] = model.predict(val_df)\n",
    "\n",
    "submission.to_csv('submission.csv', index=False)"
   ]
  }
 ],
 "metadata": {
  "kaggle": {
   "accelerator": "none",
   "dataSources": [
    {
     "databundleVersionId": 10105526,
     "sourceId": 88312,
     "sourceType": "competition"
    },
    {
     "datasetId": 7212885,
     "sourceId": 11783954,
     "sourceType": "datasetVersion"
    }
   ],
   "dockerImageVersionId": 31012,
   "isGpuEnabled": false,
   "isInternetEnabled": false,
   "language": "python",
   "sourceType": "notebook"
  },
  "kernelspec": {
   "display_name": "Python 3",
   "language": "python",
   "name": "python3"
  },
  "language_info": {
   "codemirror_mode": {
    "name": "ipython",
    "version": 3
   },
   "file_extension": ".py",
   "mimetype": "text/x-python",
   "name": "python",
   "nbconvert_exporter": "python",
   "pygments_lexer": "ipython3",
   "version": "3.11.11"
  },
  "papermill": {
   "default_parameters": {},
   "duration": 114.051226,
   "end_time": "2025-05-13T07:44:50.142680",
   "environment_variables": {},
   "exception": null,
   "input_path": "__notebook__.ipynb",
   "output_path": "__notebook__.ipynb",
   "parameters": {},
   "start_time": "2025-05-13T07:42:56.091454",
   "version": "2.6.0"
  }
 },
 "nbformat": 4,
 "nbformat_minor": 5
}
