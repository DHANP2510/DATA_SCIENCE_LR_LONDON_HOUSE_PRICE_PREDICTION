{
 "cells": [
  {
   "cell_type": "code",
   "execution_count": 1,
   "id": "b324c104",
   "metadata": {
    "_cell_guid": "b1076dfc-b9ad-4769-8c92-a6c4dae69d19",
    "_uuid": "8f2839f25d086af736a60e9eeb907d3b93b6e0e5",
    "execution": {
     "iopub.execute_input": "2025-05-06T18:44:56.423049Z",
     "iopub.status.busy": "2025-05-06T18:44:56.422574Z",
     "iopub.status.idle": "2025-05-06T18:45:00.746020Z",
     "shell.execute_reply": "2025-05-06T18:45:00.744676Z"
    },
    "papermill": {
     "duration": 4.330581,
     "end_time": "2025-05-06T18:45:00.748131",
     "exception": false,
     "start_time": "2025-05-06T18:44:56.417550",
     "status": "completed"
    },
    "tags": []
   },
   "outputs": [],
   "source": [
    "from sklearn.metrics import mean_squared_error, r2_score\n",
    "from IPython.display import display, Markdown\n",
    "from sklearn.linear_model import Ridge\n",
    "import numpy as np\n",
    "import pandas as pd\n",
    "import warnings\n",
    "import sys"
   ]
  },
  {
   "cell_type": "code",
   "execution_count": 2,
   "id": "816fdc19",
   "metadata": {
    "execution": {
     "iopub.execute_input": "2025-05-06T18:45:00.755844Z",
     "iopub.status.busy": "2025-05-06T18:45:00.755237Z",
     "iopub.status.idle": "2025-05-06T18:45:00.761205Z",
     "shell.execute_reply": "2025-05-06T18:45:00.759958Z"
    },
    "papermill": {
     "duration": 0.011577,
     "end_time": "2025-05-06T18:45:00.763070",
     "exception": false,
     "start_time": "2025-05-06T18:45:00.751493",
     "status": "completed"
    },
    "tags": []
   },
   "outputs": [],
   "source": [
    "# Set float format for display (e.g., 2 decimal places)\n",
    "pd.options.display.float_format = '{:.2f}'.format\n",
    "\n",
    "# Suppress only the specific FutureWarning from pandas\n",
    "warnings.filterwarnings(\"ignore\")"
   ]
  },
  {
   "cell_type": "code",
   "execution_count": 3,
   "id": "afdfd75f",
   "metadata": {
    "execution": {
     "iopub.execute_input": "2025-05-06T18:45:00.770289Z",
     "iopub.status.busy": "2025-05-06T18:45:00.769929Z",
     "iopub.status.idle": "2025-05-06T18:45:00.787181Z",
     "shell.execute_reply": "2025-05-06T18:45:00.785813Z"
    },
    "papermill": {
     "duration": 0.023194,
     "end_time": "2025-05-06T18:45:00.789312",
     "exception": false,
     "start_time": "2025-05-06T18:45:00.766118",
     "status": "completed"
    },
    "tags": []
   },
   "outputs": [],
   "source": [
    "#using DataCleaning Module\n",
    "\n",
    "sys.path.append('/kaggle/input/modules/pyfiles')\n",
    "from datacleaning import DataCleaning"
   ]
  },
  {
   "cell_type": "code",
   "execution_count": 4,
   "id": "53e167bf",
   "metadata": {
    "execution": {
     "iopub.execute_input": "2025-05-06T18:45:00.796948Z",
     "iopub.status.busy": "2025-05-06T18:45:00.796574Z",
     "iopub.status.idle": "2025-05-06T18:45:04.865153Z",
     "shell.execute_reply": "2025-05-06T18:45:04.864000Z"
    },
    "papermill": {
     "duration": 4.074646,
     "end_time": "2025-05-06T18:45:04.867325",
     "exception": false,
     "start_time": "2025-05-06T18:45:00.792679",
     "status": "completed"
    },
    "tags": []
   },
   "outputs": [
    {
     "name": "stdout",
     "output_type": "stream",
     "text": [
      "Data Info:\n",
      "<class 'pandas.core.frame.DataFrame'>\n",
      "RangeIndex: 266325 entries, 0 to 266324\n",
      "Data columns (total 17 columns):\n",
      " #   Column               Non-Null Count   Dtype  \n",
      "---  ------               --------------   -----  \n",
      " 0   ID                   266325 non-null  int64  \n",
      " 1   fullAddress          266325 non-null  object \n",
      " 2   postcode             266325 non-null  object \n",
      " 3   country              266325 non-null  object \n",
      " 4   outcode              266325 non-null  object \n",
      " 5   latitude             266325 non-null  float64\n",
      " 6   longitude            266325 non-null  float64\n",
      " 7   bathrooms            217846 non-null  float64\n",
      " 8   bedrooms             241482 non-null  float64\n",
      " 9   floorAreaSqM         252519 non-null  float64\n",
      " 10  livingRooms          229285 non-null  float64\n",
      " 11  tenure               260604 non-null  object \n",
      " 12  propertyType         265817 non-null  object \n",
      " 13  currentEnergyRating  209511 non-null  object \n",
      " 14  sale_month           266325 non-null  int64  \n",
      " 15  sale_year            266325 non-null  int64  \n",
      " 16  price                266325 non-null  int64  \n",
      "dtypes: float64(6), int64(4), object(7)\n",
      "memory usage: 34.5+ MB\n",
      "None\n",
      "\n",
      "Missing Values:\n",
      "ID                         0\n",
      "fullAddress                0\n",
      "postcode                   0\n",
      "country                    0\n",
      "outcode                    0\n",
      "latitude                   0\n",
      "longitude                  0\n",
      "bathrooms              48479\n",
      "bedrooms               24843\n",
      "floorAreaSqM           13806\n",
      "livingRooms            37040\n",
      "tenure                  5721\n",
      "propertyType             508\n",
      "currentEnergyRating    56814\n",
      "sale_month                 0\n",
      "sale_year                  0\n",
      "price                      0\n",
      "dtype: int64\n",
      "\n",
      "Duplicate Rows: 0\n",
      "Removed 0 duplicate rows.\n",
      "Filled missing values in 'bathrooms' using strategy: median\n",
      "Filled missing values in 'bedrooms' using strategy: median\n",
      "Filled missing values in 'livingRooms' using strategy: median\n",
      "Filled missing values in 'floorAreaSqM' using strategy: median\n",
      "Filled missing values in 'tenure' using strategy: mode\n",
      "Filled missing values in 'propertyType' using strategy: mode\n",
      "Filled missing values in 'currentEnergyRating' using strategy: mode\n",
      "Removed 0 duplicate rows.\n",
      "Data Info:\n",
      "<class 'pandas.core.frame.DataFrame'>\n",
      "RangeIndex: 266325 entries, 0 to 266324\n",
      "Data columns (total 17 columns):\n",
      " #   Column               Non-Null Count   Dtype  \n",
      "---  ------               --------------   -----  \n",
      " 0   ID                   266325 non-null  int64  \n",
      " 1   fullAddress          266325 non-null  object \n",
      " 2   postcode             266325 non-null  object \n",
      " 3   country              266325 non-null  object \n",
      " 4   outcode              266325 non-null  object \n",
      " 5   latitude             266325 non-null  float64\n",
      " 6   longitude            266325 non-null  float64\n",
      " 7   bathrooms            266325 non-null  float64\n",
      " 8   bedrooms             266325 non-null  float64\n",
      " 9   floorAreaSqM         266325 non-null  float64\n",
      " 10  livingRooms          266325 non-null  float64\n",
      " 11  tenure               266325 non-null  object \n",
      " 12  propertyType         266325 non-null  object \n",
      " 13  currentEnergyRating  266325 non-null  object \n",
      " 14  sale_month           266325 non-null  int64  \n",
      " 15  sale_year            266325 non-null  int64  \n",
      " 16  price                266325 non-null  int64  \n",
      "dtypes: float64(6), int64(4), object(7)\n",
      "memory usage: 34.5+ MB\n",
      "None\n",
      "\n",
      "Missing Values:\n",
      "ID                     0\n",
      "fullAddress            0\n",
      "postcode               0\n",
      "country                0\n",
      "outcode                0\n",
      "latitude               0\n",
      "longitude              0\n",
      "bathrooms              0\n",
      "bedrooms               0\n",
      "floorAreaSqM           0\n",
      "livingRooms            0\n",
      "tenure                 0\n",
      "propertyType           0\n",
      "currentEnergyRating    0\n",
      "sale_month             0\n",
      "sale_year              0\n",
      "price                  0\n",
      "dtype: int64\n",
      "\n",
      "Duplicate Rows: 0\n"
     ]
    },
    {
     "data": {
      "text/html": [
       "<div>\n",
       "<style scoped>\n",
       "    .dataframe tbody tr th:only-of-type {\n",
       "        vertical-align: middle;\n",
       "    }\n",
       "\n",
       "    .dataframe tbody tr th {\n",
       "        vertical-align: top;\n",
       "    }\n",
       "\n",
       "    .dataframe thead th {\n",
       "        text-align: right;\n",
       "    }\n",
       "</style>\n",
       "<table border=\"1\" class=\"dataframe\">\n",
       "  <thead>\n",
       "    <tr style=\"text-align: right;\">\n",
       "      <th></th>\n",
       "      <th>ID</th>\n",
       "      <th>latitude</th>\n",
       "      <th>longitude</th>\n",
       "      <th>bathrooms</th>\n",
       "      <th>bedrooms</th>\n",
       "      <th>floorAreaSqM</th>\n",
       "      <th>livingRooms</th>\n",
       "      <th>sale_month</th>\n",
       "      <th>sale_year</th>\n",
       "      <th>price</th>\n",
       "    </tr>\n",
       "  </thead>\n",
       "  <tbody>\n",
       "    <tr>\n",
       "      <th>count</th>\n",
       "      <td>266325.00</td>\n",
       "      <td>266325.00</td>\n",
       "      <td>266325.00</td>\n",
       "      <td>266325.00</td>\n",
       "      <td>266325.00</td>\n",
       "      <td>266325.00</td>\n",
       "      <td>266325.00</td>\n",
       "      <td>266325.00</td>\n",
       "      <td>266325.00</td>\n",
       "      <td>266325.00</td>\n",
       "    </tr>\n",
       "    <tr>\n",
       "      <th>mean</th>\n",
       "      <td>133162.00</td>\n",
       "      <td>51.51</td>\n",
       "      <td>-0.10</td>\n",
       "      <td>1.36</td>\n",
       "      <td>2.45</td>\n",
       "      <td>98.87</td>\n",
       "      <td>1.25</td>\n",
       "      <td>6.81</td>\n",
       "      <td>2012.21</td>\n",
       "      <td>0.62</td>\n",
       "    </tr>\n",
       "    <tr>\n",
       "      <th>std</th>\n",
       "      <td>76881.55</td>\n",
       "      <td>0.06</td>\n",
       "      <td>0.09</td>\n",
       "      <td>0.67</td>\n",
       "      <td>1.13</td>\n",
       "      <td>55.07</td>\n",
       "      <td>0.55</td>\n",
       "      <td>3.36</td>\n",
       "      <td>9.14</td>\n",
       "      <td>1.27</td>\n",
       "    </tr>\n",
       "    <tr>\n",
       "      <th>min</th>\n",
       "      <td>0.00</td>\n",
       "      <td>51.39</td>\n",
       "      <td>-0.35</td>\n",
       "      <td>1.00</td>\n",
       "      <td>1.00</td>\n",
       "      <td>10.00</td>\n",
       "      <td>1.00</td>\n",
       "      <td>1.00</td>\n",
       "      <td>1995.00</td>\n",
       "      <td>0.01</td>\n",
       "    </tr>\n",
       "    <tr>\n",
       "      <th>25%</th>\n",
       "      <td>66581.00</td>\n",
       "      <td>51.47</td>\n",
       "      <td>-0.16</td>\n",
       "      <td>1.00</td>\n",
       "      <td>2.00</td>\n",
       "      <td>64.00</td>\n",
       "      <td>1.00</td>\n",
       "      <td>4.00</td>\n",
       "      <td>2004.00</td>\n",
       "      <td>0.22</td>\n",
       "    </tr>\n",
       "    <tr>\n",
       "      <th>50%</th>\n",
       "      <td>133162.00</td>\n",
       "      <td>51.51</td>\n",
       "      <td>-0.11</td>\n",
       "      <td>1.00</td>\n",
       "      <td>2.00</td>\n",
       "      <td>85.00</td>\n",
       "      <td>1.00</td>\n",
       "      <td>7.00</td>\n",
       "      <td>2014.00</td>\n",
       "      <td>0.39</td>\n",
       "    </tr>\n",
       "    <tr>\n",
       "      <th>75%</th>\n",
       "      <td>199743.00</td>\n",
       "      <td>51.55</td>\n",
       "      <td>-0.05</td>\n",
       "      <td>2.00</td>\n",
       "      <td>3.00</td>\n",
       "      <td>115.00</td>\n",
       "      <td>1.00</td>\n",
       "      <td>10.00</td>\n",
       "      <td>2021.00</td>\n",
       "      <td>0.65</td>\n",
       "    </tr>\n",
       "    <tr>\n",
       "      <th>max</th>\n",
       "      <td>266324.00</td>\n",
       "      <td>51.67</td>\n",
       "      <td>0.14</td>\n",
       "      <td>9.00</td>\n",
       "      <td>9.00</td>\n",
       "      <td>500.00</td>\n",
       "      <td>9.00</td>\n",
       "      <td>12.00</td>\n",
       "      <td>2023.00</td>\n",
       "      <td>100.00</td>\n",
       "    </tr>\n",
       "  </tbody>\n",
       "</table>\n",
       "</div>"
      ],
      "text/plain": [
       "             ID  latitude  longitude  bathrooms  bedrooms  floorAreaSqM  \\\n",
       "count 266325.00 266325.00  266325.00  266325.00 266325.00     266325.00   \n",
       "mean  133162.00     51.51      -0.10       1.36      2.45         98.87   \n",
       "std    76881.55      0.06       0.09       0.67      1.13         55.07   \n",
       "min        0.00     51.39      -0.35       1.00      1.00         10.00   \n",
       "25%    66581.00     51.47      -0.16       1.00      2.00         64.00   \n",
       "50%   133162.00     51.51      -0.11       1.00      2.00         85.00   \n",
       "75%   199743.00     51.55      -0.05       2.00      3.00        115.00   \n",
       "max   266324.00     51.67       0.14       9.00      9.00        500.00   \n",
       "\n",
       "       livingRooms  sale_month  sale_year     price  \n",
       "count    266325.00   266325.00  266325.00 266325.00  \n",
       "mean          1.25        6.81    2012.21      0.62  \n",
       "std           0.55        3.36       9.14      1.27  \n",
       "min           1.00        1.00    1995.00      0.01  \n",
       "25%           1.00        4.00    2004.00      0.22  \n",
       "50%           1.00        7.00    2014.00      0.39  \n",
       "75%           1.00       10.00    2021.00      0.65  \n",
       "max           9.00       12.00    2023.00    100.00  "
      ]
     },
     "execution_count": 4,
     "metadata": {},
     "output_type": "execute_result"
    }
   ],
   "source": [
    "data = pd.read_csv(\"/kaggle/input/london-house-price-prediction-advanced-techniques/train.csv\")\n",
    "\n",
    "# Use the class\n",
    "cleaner = DataCleaning(data)\n",
    "cleaner.show_info()\n",
    "cleaner.drop_duplicates()\n",
    "cleaner.fill_missing(strategy='median', columns=['bathrooms', 'bedrooms', 'livingRooms', 'floorAreaSqM'])\n",
    "cleaner.fill_missing(strategy='mode', columns=['tenure', 'propertyType', 'currentEnergyRating'])\n",
    "#cleaner.remove_outliers(columns=['price','floorAreaSqM', 'bathrooms', 'bedrooms', 'livingRooms') \n",
    "cleaner.drop_duplicates()\n",
    "cleaner.show_info()\n",
    "\n",
    "# Get the cleaned data\n",
    "df = cleaner.get_clean_data()\n",
    "df[\"price\"] = df[\"price\"]*(10**-6)   \n",
    "df.replace([np.inf, -np.inf], np.nan, inplace=True)\n",
    "df.describe()"
   ]
  },
  {
   "cell_type": "code",
   "execution_count": 5,
   "id": "c72a81a9",
   "metadata": {
    "execution": {
     "iopub.execute_input": "2025-05-06T18:45:04.876083Z",
     "iopub.status.busy": "2025-05-06T18:45:04.875736Z",
     "iopub.status.idle": "2025-05-06T18:45:04.883354Z",
     "shell.execute_reply": "2025-05-06T18:45:04.882314Z"
    },
    "papermill": {
     "duration": 0.013951,
     "end_time": "2025-05-06T18:45:04.885068",
     "exception": false,
     "start_time": "2025-05-06T18:45:04.871117",
     "status": "completed"
    },
    "tags": []
   },
   "outputs": [
    {
     "data": {
      "text/markdown": [
       "\n",
       "Startegy to (1) wrangle data (1.1 data completeness)(check for each columns):\n",
       "1. ✅ `fullAddress` - No change required.\n",
       "2. ✅ To extract incode from `postcode`.\n",
       "3. ✅ To drop `country` column. \n",
       "4. ✅ `Latitude`/`Logitude` - No change required.\n",
       "5. ✅ To impute `floorAreaSqM` with most frequent values (mode).\n",
       "6. ✅ To impute `bathrooms`/`bedrooms` w.r.t `floorAreaSqM` \n"
      ],
      "text/plain": [
       "<IPython.core.display.Markdown object>"
      ]
     },
     "metadata": {},
     "output_type": "display_data"
    }
   ],
   "source": [
    "questions = \"\"\"\n",
    "Startegy to (1) wrangle data (1.1 data completeness)(check for each columns):\n",
    "1. ✅ `fullAddress` - No change required.\n",
    "2. ✅ To extract incode from `postcode`.\n",
    "3. ✅ To drop `country` column. \n",
    "4. ✅ `Latitude`/`Logitude` - No change required.\n",
    "5. ✅ To impute `floorAreaSqM` with most frequent values (mode).\n",
    "6. ✅ To impute `bathrooms`/`bedrooms` w.r.t `floorAreaSqM` \n",
    "\"\"\"\n",
    "display(Markdown(questions))"
   ]
  },
  {
   "cell_type": "code",
   "execution_count": 6,
   "id": "cf48eb46",
   "metadata": {
    "execution": {
     "iopub.execute_input": "2025-05-06T18:45:04.893639Z",
     "iopub.status.busy": "2025-05-06T18:45:04.893293Z",
     "iopub.status.idle": "2025-05-06T18:45:05.000003Z",
     "shell.execute_reply": "2025-05-06T18:45:04.998653Z"
    },
    "papermill": {
     "duration": 0.113361,
     "end_time": "2025-05-06T18:45:05.002084",
     "exception": false,
     "start_time": "2025-05-06T18:45:04.888723",
     "status": "completed"
    },
    "tags": []
   },
   "outputs": [],
   "source": [
    "# To extract incode from `postcode`\n",
    "df['postcode'] = df['postcode'].apply(lambda x: x.split(\" \")[1])"
   ]
  },
  {
   "cell_type": "code",
   "execution_count": 7,
   "id": "b7fbb004",
   "metadata": {
    "execution": {
     "iopub.execute_input": "2025-05-06T18:45:05.012464Z",
     "iopub.status.busy": "2025-05-06T18:45:05.012145Z",
     "iopub.status.idle": "2025-05-06T18:45:05.105883Z",
     "shell.execute_reply": "2025-05-06T18:45:05.104858Z"
    },
    "papermill": {
     "duration": 0.101996,
     "end_time": "2025-05-06T18:45:05.107760",
     "exception": false,
     "start_time": "2025-05-06T18:45:05.005764",
     "status": "completed"
    },
    "tags": []
   },
   "outputs": [],
   "source": [
    "# To impute `floorAreaSqM` with most frequent values (mode). \n",
    "def mode_func(x):\n",
    "    return x.mode().iloc[0] if not x.mode().empty else np.nan\n",
    "    \n",
    "temp_df = df.groupby('outcode')['floorAreaSqM'].agg(\n",
    "    min='min',\n",
    "    max='max',\n",
    "    mode=mode_func,\n",
    "    median='median',\n",
    "    mean='mean',\n",
    "    count='count'\n",
    ").reset_index()\n",
    "\n",
    "df['floorAreaSqM'].fillna(temp_df['mode'].mode().iloc[0], inplace=True)\n"
   ]
  },
  {
   "cell_type": "code",
   "execution_count": 8,
   "id": "e89dbf80",
   "metadata": {
    "execution": {
     "iopub.execute_input": "2025-05-06T18:45:05.115690Z",
     "iopub.status.busy": "2025-05-06T18:45:05.115369Z",
     "iopub.status.idle": "2025-05-06T18:45:05.149126Z",
     "shell.execute_reply": "2025-05-06T18:45:05.147931Z"
    },
    "papermill": {
     "duration": 0.040102,
     "end_time": "2025-05-06T18:45:05.151350",
     "exception": false,
     "start_time": "2025-05-06T18:45:05.111248",
     "status": "completed"
    },
    "tags": []
   },
   "outputs": [],
   "source": [
    "# To drop `country` column\n",
    "df.drop('country', inplace=True, axis = 1)"
   ]
  },
  {
   "cell_type": "code",
   "execution_count": 9,
   "id": "e274565c",
   "metadata": {
    "execution": {
     "iopub.execute_input": "2025-05-06T18:45:05.160045Z",
     "iopub.status.busy": "2025-05-06T18:45:05.159703Z",
     "iopub.status.idle": "2025-05-06T18:45:05.872802Z",
     "shell.execute_reply": "2025-05-06T18:45:05.871526Z"
    },
    "papermill": {
     "duration": 0.719649,
     "end_time": "2025-05-06T18:45:05.874769",
     "exception": false,
     "start_time": "2025-05-06T18:45:05.155120",
     "status": "completed"
    },
    "tags": []
   },
   "outputs": [],
   "source": [
    "# To impute `bathrooms`/`bedrooms` w.r.t `floorAreaSqM`   \n",
    "\n",
    "# bathrooms\n",
    "# Train Ridge model on rows with no missing values\n",
    "model = Ridge()\n",
    "model.fit(df.dropna()[['floorAreaSqM']], df.dropna()['bathrooms'])\n",
    "\n",
    "# Predict and fill missing 'bathrooms' in both train and test\n",
    "if df['bathrooms'].isna().any():\n",
    "    df.loc[df['bathrooms'].isna(), 'bathrooms'] = model.predict(\n",
    "        df.loc[df['bathrooms'].isna(), ['floorAreaSqM']]\n",
    "    )\n",
    "\n",
    "# bedrooms\n",
    "# Train Ridge model on rows with no missing values\n",
    "model = Ridge()\n",
    "model.fit(df.dropna()[['floorAreaSqM']], df.dropna()['bedrooms'])\n",
    "\n",
    "# Predict and fill missing 'bathrooms' in both train and test\n",
    "if df['bedrooms'].isna().any():\n",
    "    df.loc[df['bedrooms'].isna(), 'bedrooms'] = model.predict(\n",
    "        df.loc[df['bedrooms'].isna(), ['floorAreaSqM']]\n",
    "    )"
   ]
  }
 ],
 "metadata": {
  "kaggle": {
   "accelerator": "none",
   "dataSources": [
    {
     "databundleVersionId": 10105526,
     "sourceId": 88312,
     "sourceType": "competition"
    },
    {
     "datasetId": 7212885,
     "sourceId": 11504291,
     "sourceType": "datasetVersion"
    }
   ],
   "dockerImageVersionId": 31012,
   "isGpuEnabled": false,
   "isInternetEnabled": false,
   "language": "python",
   "sourceType": "notebook"
  },
  "kernelspec": {
   "display_name": "Python 3",
   "language": "python",
   "name": "python3"
  },
  "language_info": {
   "codemirror_mode": {
    "name": "ipython",
    "version": 3
   },
   "file_extension": ".py",
   "mimetype": "text/x-python",
   "name": "python",
   "nbconvert_exporter": "python",
   "pygments_lexer": "ipython3",
   "version": "3.11.11"
  },
  "papermill": {
   "default_parameters": {},
   "duration": 15.945413,
   "end_time": "2025-05-06T18:45:06.902377",
   "environment_variables": {},
   "exception": null,
   "input_path": "__notebook__.ipynb",
   "output_path": "__notebook__.ipynb",
   "parameters": {},
   "start_time": "2025-05-06T18:44:50.956964",
   "version": "2.6.0"
  }
 },
 "nbformat": 4,
 "nbformat_minor": 5
}
