{
 "cells": [
  {
   "cell_type": "code",
   "execution_count": 1,
   "id": "586fe851",
   "metadata": {
    "_cell_guid": "b1076dfc-b9ad-4769-8c92-a6c4dae69d19",
    "_uuid": "8f2839f25d086af736a60e9eeb907d3b93b6e0e5",
    "execution": {
     "iopub.execute_input": "2025-05-12T16:25:18.022932Z",
     "iopub.status.busy": "2025-05-12T16:25:18.022609Z",
     "iopub.status.idle": "2025-05-12T16:25:27.460892Z",
     "shell.execute_reply": "2025-05-12T16:25:27.460022Z"
    },
    "papermill": {
     "duration": 9.444611,
     "end_time": "2025-05-12T16:25:27.462618",
     "exception": false,
     "start_time": "2025-05-12T16:25:18.018007",
     "status": "completed"
    },
    "tags": []
   },
   "outputs": [],
   "source": [
    "from sklearn.metrics import mean_squared_error, r2_score\n",
    "from statsmodels.tsa.deterministic import DeterministicProcess, CalendarFourier\n",
    "from sklearn.preprocessing import PolynomialFeatures, FunctionTransformer\n",
    "from sklearn.model_selection import train_test_split\n",
    "from sklearn.metrics import mean_squared_error\n",
    "from IPython.display import display, Markdown\n",
    "from sklearn.linear_model import Ridge\n",
    "from xgboost import XGBRegressor\n",
    "import lightgbm as lgb\n",
    "import xgboost as xgb\n",
    "import seaborn as sns\n",
    "import numpy as np\n",
    "import pandas as pd\n",
    "import warnings\n",
    "import sys"
   ]
  },
  {
   "cell_type": "code",
   "execution_count": 2,
   "id": "252beda1",
   "metadata": {
    "execution": {
     "iopub.execute_input": "2025-05-12T16:25:27.469347Z",
     "iopub.status.busy": "2025-05-12T16:25:27.468856Z",
     "iopub.status.idle": "2025-05-12T16:25:27.474152Z",
     "shell.execute_reply": "2025-05-12T16:25:27.473114Z"
    },
    "papermill": {
     "duration": 0.009854,
     "end_time": "2025-05-12T16:25:27.475509",
     "exception": false,
     "start_time": "2025-05-12T16:25:27.465655",
     "status": "completed"
    },
    "tags": []
   },
   "outputs": [],
   "source": [
    "# Set float format for display (e.g., 2 decimal places)\n",
    "pd.options.display.float_format = '{:.2f}'.format\n",
    "\n",
    "# Suppress only the specific FutureWarning from pandas\n",
    "warnings.filterwarnings(\"ignore\")"
   ]
  },
  {
   "cell_type": "code",
   "execution_count": 3,
   "id": "8ea8d457",
   "metadata": {
    "execution": {
     "iopub.execute_input": "2025-05-12T16:25:27.481490Z",
     "iopub.status.busy": "2025-05-12T16:25:27.481208Z",
     "iopub.status.idle": "2025-05-12T16:25:27.496639Z",
     "shell.execute_reply": "2025-05-12T16:25:27.495970Z"
    },
    "papermill": {
     "duration": 0.020006,
     "end_time": "2025-05-12T16:25:27.498159",
     "exception": false,
     "start_time": "2025-05-12T16:25:27.478153",
     "status": "completed"
    },
    "tags": []
   },
   "outputs": [],
   "source": [
    "#using DataCleaning Module\n",
    "\n",
    "sys.path.append('/kaggle/input/modules/pyfiles')\n",
    "from datacleaning import DataCleaner"
   ]
  },
  {
   "cell_type": "code",
   "execution_count": 4,
   "id": "c38a3048",
   "metadata": {
    "execution": {
     "iopub.execute_input": "2025-05-12T16:25:27.504970Z",
     "iopub.status.busy": "2025-05-12T16:25:27.504362Z",
     "iopub.status.idle": "2025-05-12T16:25:28.831673Z",
     "shell.execute_reply": "2025-05-12T16:25:28.830828Z"
    },
    "papermill": {
     "duration": 1.332739,
     "end_time": "2025-05-12T16:25:28.833686",
     "exception": false,
     "start_time": "2025-05-12T16:25:27.500947",
     "status": "completed"
    },
    "tags": []
   },
   "outputs": [],
   "source": [
    "df = pd.read_csv(\"/kaggle/input/london-house-price-prediction-advanced-techniques/train.csv\")\n",
    "df[\"price\"] = df[\"price\"]*(10**-6)"
   ]
  },
  {
   "cell_type": "code",
   "execution_count": 5,
   "id": "1439d218",
   "metadata": {
    "execution": {
     "iopub.execute_input": "2025-05-12T16:25:28.840202Z",
     "iopub.status.busy": "2025-05-12T16:25:28.839896Z",
     "iopub.status.idle": "2025-05-12T16:25:28.847373Z",
     "shell.execute_reply": "2025-05-12T16:25:28.846503Z"
    },
    "papermill": {
     "duration": 0.012182,
     "end_time": "2025-05-12T16:25:28.848638",
     "exception": false,
     "start_time": "2025-05-12T16:25:28.836456",
     "status": "completed"
    },
    "tags": []
   },
   "outputs": [
    {
     "data": {
      "text/markdown": [
       "\n",
       "Startegy to (1) wrangle data (1.1 data completeness)(check for each columns):\n",
       "1. ✅ `fullAddress` - No change required.\n",
       "2. ✅ To extract incode from `postcode`.\n",
       "3. ✅ To drop `country` column. \n",
       "4. ✅ `Latitude`/`Logitude` - No change required.\n",
       "5. ✅ To impute `floorAreaSqM` with most frequent values (mode).\n",
       "6. ✅ To impute `bathrooms`/`bedrooms`/`living_room`/`tenure`/`property_type`/`currentEnergyRating` with most frequent values (mode).\n",
       "7. ✅ To generate time features from sale_year+sale_month using DeterministicProcess and merge\n",
       "8. ✅ To encode columns w.r.t mean/bins - street, postcode, outcode, tenure, latitudeBins, longitudeBins, propertyType, currentEnergyRating\n"
      ],
      "text/plain": [
       "<IPython.core.display.Markdown object>"
      ]
     },
     "metadata": {},
     "output_type": "display_data"
    }
   ],
   "source": [
    "questions = \"\"\"\n",
    "Startegy to (1) wrangle data (1.1 data completeness)(check for each columns):\n",
    "1. ✅ `fullAddress` - No change required.\n",
    "2. ✅ To extract incode from `postcode`.\n",
    "3. ✅ To drop `country` column. \n",
    "4. ✅ `Latitude`/`Logitude` - No change required.\n",
    "5. ✅ To impute `floorAreaSqM` with most frequent values (mode).\n",
    "6. ✅ To impute `bathrooms`/`bedrooms`/`living_room`/`tenure`/`property_type`/`currentEnergyRating` with most frequent values (mode).\n",
    "7. ✅ To generate time features from sale_year+sale_month using DeterministicProcess and merge\n",
    "8. ✅ To encode columns w.r.t mean/bins - street, postcode, outcode, tenure, latitudeBins, longitudeBins, propertyType, currentEnergyRating\n",
    "\"\"\"\n",
    "display(Markdown(questions))"
   ]
  },
  {
   "cell_type": "markdown",
   "id": "117f9bba",
   "metadata": {
    "papermill": {
     "duration": 0.0024,
     "end_time": "2025-05-12T16:25:28.853815",
     "exception": false,
     "start_time": "2025-05-12T16:25:28.851415",
     "status": "completed"
    },
    "tags": []
   },
   "source": [
    "### Feature Selection and Modelling"
   ]
  },
  {
   "cell_type": "code",
   "execution_count": 6,
   "id": "7cff389d",
   "metadata": {
    "execution": {
     "iopub.execute_input": "2025-05-12T16:25:28.860237Z",
     "iopub.status.busy": "2025-05-12T16:25:28.859621Z",
     "iopub.status.idle": "2025-05-12T16:25:33.674624Z",
     "shell.execute_reply": "2025-05-12T16:25:33.673645Z"
    },
    "papermill": {
     "duration": 4.819911,
     "end_time": "2025-05-12T16:25:33.676181",
     "exception": false,
     "start_time": "2025-05-12T16:25:28.856270",
     "status": "completed"
    },
    "tags": []
   },
   "outputs": [
    {
     "name": "stdout",
     "output_type": "stream",
     "text": [
      "Imputed 'bathrooms' with mode: 1.0\n",
      "Imputed 'bedrooms' with mode: 2.0\n",
      "Imputed 'floorAreaSqM' with mode: 55.0\n",
      "Imputed 'livingRooms' with mode: 1.0\n",
      "Imputed 'tenure' with mode: Leasehold\n",
      "Imputed 'propertyType' with mode: Purpose Built Flat\n",
      "Imputed 'currentEnergyRating' with mode: D\n",
      "Imputed 'bathrooms' with mode: 1.0\n",
      "Imputed 'bedrooms' with mode: 2.0\n",
      "Imputed 'floorAreaSqM' with mode: 55.0\n",
      "Imputed 'livingRooms' with mode: 1.0\n",
      "Imputed 'tenure' with mode: Leasehold\n",
      "Imputed 'propertyType' with mode: Purpose Built Flat\n",
      "Imputed 'currentEnergyRating' with mode: D\n"
     ]
    }
   ],
   "source": [
    "train_df = pd.read_csv(\"/kaggle/input/london-house-price-prediction-advanced-techniques/train.csv\")\n",
    "test_df = pd.read_csv(\"/kaggle/input/london-house-price-prediction-advanced-techniques/test.csv\")\n",
    "\n",
    "train_df['sale_date'] = pd.to_datetime({\n",
    "    'year': train_df['sale_year'],\n",
    "    'month': train_df['sale_month'],\n",
    "    'day': 1\n",
    "})\n",
    "\n",
    "test_df['sale_date'] = pd.to_datetime({\n",
    "    'year': test_df['sale_year'],\n",
    "    'month': test_df['sale_month'],\n",
    "    'day': 1\n",
    "})\n",
    "\n",
    "sale_dates = pd.to_datetime(train_df['sale_date'].sort_values().unique())\n",
    "sale_index = pd.date_range(start=sale_dates.min(), end=sale_dates.max(), freq='MS')  # 'MS' = Month Start\n",
    "\n",
    "# TRAINING\n",
    "train_cleaner = DataCleaner(train_df)\n",
    "train_cleaner.extract_incode()\n",
    "train_cleaner.impute_with_mode()\n",
    "train_cleaner.generate_time_features(index=sale_index, fit=False)\n",
    "train_cleaner.encode_features(target_col='price', fit=True)\n",
    "\n",
    "train_data_final = train_cleaner.df\n",
    "\n",
    "# TESTING\n",
    "test_cleaner = DataCleaner(test_df)\n",
    "test_cleaner.dp = train_cleaner.dp  # share fitted DP\n",
    "test_cleaner.mean_encoders = train_cleaner.mean_encoders\n",
    "test_cleaner.global_means = train_cleaner.global_means\n",
    "test_cleaner.bin_edges = train_cleaner.bin_edges\n",
    "test_cleaner.label_encoders = train_cleaner.label_encoders\n",
    "test_cleaner.energy_encoder = train_cleaner.energy_encoder\n",
    "\n",
    "test_cleaner.extract_incode()\n",
    "test_cleaner.impute_with_mode()\n",
    "test_cleaner.generate_time_features(index=sale_index, fit=True)  # use same DP\n",
    "test_cleaner.encode_features(fit=False)\n",
    "\n",
    "test_data_final = test_cleaner.df"
   ]
  },
  {
   "cell_type": "code",
   "execution_count": 7,
   "id": "dec4146c",
   "metadata": {
    "execution": {
     "iopub.execute_input": "2025-05-12T16:25:33.684587Z",
     "iopub.status.busy": "2025-05-12T16:25:33.683834Z",
     "iopub.status.idle": "2025-05-12T16:25:33.778244Z",
     "shell.execute_reply": "2025-05-12T16:25:33.777481Z"
    },
    "papermill": {
     "duration": 0.099418,
     "end_time": "2025-05-12T16:25:33.779684",
     "exception": false,
     "start_time": "2025-05-12T16:25:33.680266",
     "status": "completed"
    },
    "tags": []
   },
   "outputs": [],
   "source": [
    "X_train = train_data_final[['incode', 'outcode', 'latitude', 'longitude', 'bathrooms', 'bedrooms', 'floorAreaSqM',\n",
    "    'livingRooms', 'tenure', 'propertyType', 'currentEnergyRating', 'sale_month', 'sale_year', \n",
    "    'const', 'trend', 'trend_squared', 'trend_cubed', 'trend**4', 'latitudeBins', 'longitudeBins']]\n",
    "\n",
    "y_train = train_data_final[['price']]\n",
    "\n",
    "# Split into training and validation\n",
    "X_train, X_test, y_train, y_test = train_test_split(\n",
    "    X_train, y_train, test_size=0.10, random_state=42\n",
    ")"
   ]
  },
  {
   "cell_type": "code",
   "execution_count": 8,
   "id": "41b02ea3",
   "metadata": {
    "execution": {
     "iopub.execute_input": "2025-05-12T16:25:33.786993Z",
     "iopub.status.busy": "2025-05-12T16:25:33.786634Z",
     "iopub.status.idle": "2025-05-12T16:25:35.131516Z",
     "shell.execute_reply": "2025-05-12T16:25:35.130469Z"
    },
    "papermill": {
     "duration": 1.350292,
     "end_time": "2025-05-12T16:25:35.133068",
     "exception": false,
     "start_time": "2025-05-12T16:25:33.782776",
     "status": "completed"
    },
    "tags": []
   },
   "outputs": [
    {
     "name": "stdout",
     "output_type": "stream",
     "text": [
      "Mean Absolute Error: 253177.20586469374\n"
     ]
    }
   ],
   "source": [
    "import pandas as pd\n",
    "import numpy as np\n",
    "from sklearn.base import BaseEstimator, RegressorMixin\n",
    "from sklearn.linear_model import Ridge\n",
    "from catboost import CatBoostRegressor\n",
    "from sklearn.pipeline import Pipeline\n",
    "from sklearn.compose import ColumnTransformer\n",
    "from sklearn.preprocessing import StandardScaler, OneHotEncoder\n",
    "from sklearn.model_selection import train_test_split\n",
    "from sklearn.metrics import mean_absolute_error\n",
    "\n",
    "# Example feature set\n",
    "X1_feature = ['trend', 'trend_squared', 'trend_cubed']  # Linear features\n",
    "X2_feature = ['bathrooms', 'bedrooms', 'floorAreaSqM', 'livingRooms', 'latitude', 'longitude']  # Non-linear features\n",
    "\n",
    "# Preprocessor for X2 (non-linear features, using scaling and encoding)\n",
    "X2_preprocessor = ColumnTransformer([\n",
    "    ('num', StandardScaler(), X2_feature),\n",
    "])\n",
    "\n",
    "# Preprocessor for X1 (linear features)\n",
    "X1_preprocessor = ColumnTransformer([\n",
    "    ('trend_scale', StandardScaler(), X1_feature)\n",
    "])\n",
    "\n",
    "# Custom Hybrid Model class that combines Ridge and CatBoost\n",
    "class HybridModel(BaseEstimator, RegressorMixin):\n",
    "    def __init__(self, trend_model, machine_model, trend_cols, machine_cols, trend_preprocessor, machine_preprocessor):\n",
    "        self.trend_model = trend_model\n",
    "        self.machine_model = machine_model\n",
    "        self.trend_cols = trend_cols\n",
    "        self.machine_cols = machine_cols\n",
    "        self.trend_preprocessor = trend_preprocessor\n",
    "        self.machine_preprocessor = machine_preprocessor\n",
    "\n",
    "    def fit(self, X, y):\n",
    "        # Fit Ridge (linear model) on trend features\n",
    "        X1 = self.trend_preprocessor.fit_transform(X[self.trend_cols])\n",
    "        X2 = self.machine_preprocessor.fit_transform(X[self.machine_cols])\n",
    "        \n",
    "        self.trend_model.fit(X1, y)\n",
    "        \n",
    "        # Compute residuals and fit CatBoost (non-linear model) on residuals\n",
    "        residual = y - self.trend_model.predict(X1)\n",
    "        self.machine_model.fit(X2, residual)\n",
    "        return self\n",
    "\n",
    "    def predict(self, X):\n",
    "        # Predict with both models\n",
    "        X1 = self.trend_preprocessor.transform(X[self.trend_cols])\n",
    "        X2 = self.machine_preprocessor.transform(X[self.machine_cols])\n",
    "        \n",
    "        trend_pred = self.trend_model.predict(X1)\n",
    "        machine_pred = self.machine_model.predict(X2)\n",
    "        \n",
    "        # Combine the predictions by adding (could also use a weighted average)\n",
    "        return trend_pred + machine_pred\n",
    "\n",
    "\n",
    "# Example data (replace with actual data)\n",
    "# Let's simulate some data to illustrate\n",
    "X = pd.DataFrame({\n",
    "    'trend': np.linspace(1, 100, 1000),\n",
    "    'trend_squared': np.linspace(1, 100, 1000)**2,\n",
    "    'trend_cubed': np.linspace(1, 100, 1000)**3,\n",
    "    'bathrooms': np.random.randint(1, 5, 1000),\n",
    "    'bedrooms': np.random.randint(1, 7, 1000),\n",
    "    'floorAreaSqM': np.random.uniform(30, 200, 1000),\n",
    "    'livingRooms': np.random.randint(1, 5, 1000),\n",
    "    'latitude': np.random.uniform(51, 52, 1000),\n",
    "    'longitude': np.random.uniform(-0.5, 0.5, 1000),\n",
    "})\n",
    "\n",
    "# Simulated target variable (price)\n",
    "y = np.random.uniform(100000, 1000000, 1000)\n",
    "\n",
    "# Split data into training and testing sets\n",
    "X_train, X_test, y_train, y_test = train_test_split(X, y, test_size=0.2, random_state=42)\n",
    "\n",
    "# Build the hybrid model pipeline\n",
    "model = Pipeline([\n",
    "    ('HybridModel', HybridModel(\n",
    "        trend_model=Ridge(alpha=1.0),  # Linear model\n",
    "        machine_model=CatBoostRegressor(\n",
    "            iterations=1000,  # Number of boosting rounds\n",
    "            depth=6,  # Depth of each tree\n",
    "            learning_rate=0.1,  # Learning rate\n",
    "            cat_features=[],  # No categorical features in this example (you can add them if available)\n",
    "            verbose=0  # Turn off CatBoost's verbose output\n",
    "        ), \n",
    "        trend_cols=X1_feature,\n",
    "        machine_cols=X2_feature,\n",
    "        trend_preprocessor=X1_preprocessor,\n",
    "        machine_preprocessor=X2_preprocessor\n",
    "    ))\n",
    "])\n",
    "\n",
    "# Fit the model\n",
    "model.fit(X_train, y_train)\n",
    "\n",
    "# Make predictions\n",
    "y_pred = model.predict(X_test)\n",
    "\n",
    "# Evaluate the model\n",
    "mae = mean_absolute_error(y_test, y_pred)\n",
    "print(f'Mean Absolute Error: {mae}')"
   ]
  },
  {
   "cell_type": "code",
   "execution_count": 9,
   "id": "339e04a3",
   "metadata": {
    "execution": {
     "iopub.execute_input": "2025-05-12T16:25:35.140291Z",
     "iopub.status.busy": "2025-05-12T16:25:35.139520Z",
     "iopub.status.idle": "2025-05-12T16:25:35.229937Z",
     "shell.execute_reply": "2025-05-12T16:25:35.229148Z"
    },
    "papermill": {
     "duration": 0.095511,
     "end_time": "2025-05-12T16:25:35.231510",
     "exception": false,
     "start_time": "2025-05-12T16:25:35.135999",
     "status": "completed"
    },
    "tags": []
   },
   "outputs": [],
   "source": [
    "val_df = test_data_final[['incode', 'outcode',\n",
    "    'latitude', 'longitude', 'bathrooms', 'bedrooms', 'floorAreaSqM',\n",
    "    'livingRooms', 'tenure', 'propertyType', 'currentEnergyRating','sale_month', 'sale_year', \n",
    "    'const', 'trend', 'trend_squared', 'trend_cubed', 'trend**4', 'latitudeBins', 'longitudeBins']]\n",
    "\n",
    "submission = pd.read_csv('/kaggle/input/london-house-price-prediction-advanced-techniques/sample_submission.csv')\n",
    "\n",
    "# 💡 Hybrid Prediction (change weights if needed)\n",
    "submission['price'] = model.predict(val_df)\n",
    "\n",
    "submission.to_csv('submission.csv', index=False)"
   ]
  }
 ],
 "metadata": {
  "kaggle": {
   "accelerator": "none",
   "dataSources": [
    {
     "databundleVersionId": 10105526,
     "sourceId": 88312,
     "sourceType": "competition"
    },
    {
     "datasetId": 7212885,
     "sourceId": 11783954,
     "sourceType": "datasetVersion"
    }
   ],
   "dockerImageVersionId": 31012,
   "isGpuEnabled": false,
   "isInternetEnabled": false,
   "language": "python",
   "sourceType": "notebook"
  },
  "kernelspec": {
   "display_name": "Python 3",
   "language": "python",
   "name": "python3"
  },
  "language_info": {
   "codemirror_mode": {
    "name": "ipython",
    "version": 3
   },
   "file_extension": ".py",
   "mimetype": "text/x-python",
   "name": "python",
   "nbconvert_exporter": "python",
   "pygments_lexer": "ipython3",
   "version": "3.11.11"
  },
  "papermill": {
   "default_parameters": {},
   "duration": 22.826006,
   "end_time": "2025-05-12T16:25:36.257021",
   "environment_variables": {},
   "exception": null,
   "input_path": "__notebook__.ipynb",
   "output_path": "__notebook__.ipynb",
   "parameters": {},
   "start_time": "2025-05-12T16:25:13.431015",
   "version": "2.6.0"
  }
 },
 "nbformat": 4,
 "nbformat_minor": 5
}
