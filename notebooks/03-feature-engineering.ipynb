{
 "cells": [
  {
   "cell_type": "code",
   "execution_count": 1,
   "id": "d4e8e7c7",
   "metadata": {
    "_cell_guid": "b1076dfc-b9ad-4769-8c92-a6c4dae69d19",
    "_uuid": "8f2839f25d086af736a60e9eeb907d3b93b6e0e5",
    "execution": {
     "iopub.execute_input": "2025-05-07T18:23:20.066727Z",
     "iopub.status.busy": "2025-05-07T18:23:20.066311Z",
     "iopub.status.idle": "2025-05-07T18:23:24.975547Z",
     "shell.execute_reply": "2025-05-07T18:23:24.974577Z"
    },
    "papermill": {
     "duration": 4.916326,
     "end_time": "2025-05-07T18:23:24.977409",
     "exception": false,
     "start_time": "2025-05-07T18:23:20.061083",
     "status": "completed"
    },
    "tags": []
   },
   "outputs": [],
   "source": [
    "from sklearn.metrics import mean_squared_error, r2_score\n",
    "from statsmodels.tsa.deterministic import DeterministicProcess, CalendarFourier\n",
    "from IPython.display import display, Markdown\n",
    "from sklearn.linear_model import Ridge\n",
    "import numpy as np\n",
    "import pandas as pd\n",
    "import seaborn as sns\n",
    "import warnings\n",
    "import sys"
   ]
  },
  {
   "cell_type": "code",
   "execution_count": 2,
   "id": "ba108ba7",
   "metadata": {
    "execution": {
     "iopub.execute_input": "2025-05-07T18:23:24.985411Z",
     "iopub.status.busy": "2025-05-07T18:23:24.984965Z",
     "iopub.status.idle": "2025-05-07T18:23:24.991534Z",
     "shell.execute_reply": "2025-05-07T18:23:24.990248Z"
    },
    "papermill": {
     "duration": 0.012235,
     "end_time": "2025-05-07T18:23:24.993281",
     "exception": false,
     "start_time": "2025-05-07T18:23:24.981046",
     "status": "completed"
    },
    "tags": []
   },
   "outputs": [],
   "source": [
    "# Set float format for display (e.g., 2 decimal places)\n",
    "pd.options.display.float_format = '{:.2f}'.format\n",
    "\n",
    "# Suppress only the specific FutureWarning from pandas\n",
    "warnings.filterwarnings(\"ignore\")"
   ]
  },
  {
   "cell_type": "code",
   "execution_count": 3,
   "id": "34fc1089",
   "metadata": {
    "execution": {
     "iopub.execute_input": "2025-05-07T18:23:25.001334Z",
     "iopub.status.busy": "2025-05-07T18:23:25.000649Z",
     "iopub.status.idle": "2025-05-07T18:23:25.019188Z",
     "shell.execute_reply": "2025-05-07T18:23:25.017722Z"
    },
    "papermill": {
     "duration": 0.025377,
     "end_time": "2025-05-07T18:23:25.021715",
     "exception": false,
     "start_time": "2025-05-07T18:23:24.996338",
     "status": "completed"
    },
    "tags": []
   },
   "outputs": [],
   "source": [
    "#using DataCleaning Module\n",
    "\n",
    "sys.path.append('/kaggle/input/modules/pyfiles')\n",
    "from datacleaning import DataCleaning"
   ]
  },
  {
   "cell_type": "code",
   "execution_count": 4,
   "id": "dedebaf4",
   "metadata": {
    "execution": {
     "iopub.execute_input": "2025-05-07T18:23:25.028909Z",
     "iopub.status.busy": "2025-05-07T18:23:25.028549Z",
     "iopub.status.idle": "2025-05-07T18:23:26.977984Z",
     "shell.execute_reply": "2025-05-07T18:23:26.976863Z"
    },
    "papermill": {
     "duration": 1.954947,
     "end_time": "2025-05-07T18:23:26.979656",
     "exception": false,
     "start_time": "2025-05-07T18:23:25.024709",
     "status": "completed"
    },
    "tags": []
   },
   "outputs": [
    {
     "data": {
      "text/html": [
       "<div>\n",
       "<style scoped>\n",
       "    .dataframe tbody tr th:only-of-type {\n",
       "        vertical-align: middle;\n",
       "    }\n",
       "\n",
       "    .dataframe tbody tr th {\n",
       "        vertical-align: top;\n",
       "    }\n",
       "\n",
       "    .dataframe thead th {\n",
       "        text-align: right;\n",
       "    }\n",
       "</style>\n",
       "<table border=\"1\" class=\"dataframe\">\n",
       "  <thead>\n",
       "    <tr style=\"text-align: right;\">\n",
       "      <th></th>\n",
       "      <th>ID</th>\n",
       "      <th>latitude</th>\n",
       "      <th>longitude</th>\n",
       "      <th>bathrooms</th>\n",
       "      <th>bedrooms</th>\n",
       "      <th>floorAreaSqM</th>\n",
       "      <th>livingRooms</th>\n",
       "      <th>sale_month</th>\n",
       "      <th>sale_year</th>\n",
       "      <th>price</th>\n",
       "    </tr>\n",
       "  </thead>\n",
       "  <tbody>\n",
       "    <tr>\n",
       "      <th>count</th>\n",
       "      <td>266325.00</td>\n",
       "      <td>266325.00</td>\n",
       "      <td>266325.00</td>\n",
       "      <td>217846.00</td>\n",
       "      <td>241482.00</td>\n",
       "      <td>252519.00</td>\n",
       "      <td>229285.00</td>\n",
       "      <td>266325.00</td>\n",
       "      <td>266325.00</td>\n",
       "      <td>266325.00</td>\n",
       "    </tr>\n",
       "    <tr>\n",
       "      <th>mean</th>\n",
       "      <td>133162.00</td>\n",
       "      <td>51.51</td>\n",
       "      <td>-0.10</td>\n",
       "      <td>1.44</td>\n",
       "      <td>2.50</td>\n",
       "      <td>99.62</td>\n",
       "      <td>1.29</td>\n",
       "      <td>6.81</td>\n",
       "      <td>2012.21</td>\n",
       "      <td>0.62</td>\n",
       "    </tr>\n",
       "    <tr>\n",
       "      <th>std</th>\n",
       "      <td>76881.55</td>\n",
       "      <td>0.06</td>\n",
       "      <td>0.09</td>\n",
       "      <td>0.72</td>\n",
       "      <td>1.17</td>\n",
       "      <td>56.45</td>\n",
       "      <td>0.58</td>\n",
       "      <td>3.36</td>\n",
       "      <td>9.14</td>\n",
       "      <td>1.27</td>\n",
       "    </tr>\n",
       "    <tr>\n",
       "      <th>min</th>\n",
       "      <td>0.00</td>\n",
       "      <td>51.39</td>\n",
       "      <td>-0.35</td>\n",
       "      <td>1.00</td>\n",
       "      <td>1.00</td>\n",
       "      <td>10.00</td>\n",
       "      <td>1.00</td>\n",
       "      <td>1.00</td>\n",
       "      <td>1995.00</td>\n",
       "      <td>0.01</td>\n",
       "    </tr>\n",
       "    <tr>\n",
       "      <th>25%</th>\n",
       "      <td>66581.00</td>\n",
       "      <td>51.47</td>\n",
       "      <td>-0.16</td>\n",
       "      <td>1.00</td>\n",
       "      <td>2.00</td>\n",
       "      <td>63.00</td>\n",
       "      <td>1.00</td>\n",
       "      <td>4.00</td>\n",
       "      <td>2004.00</td>\n",
       "      <td>0.22</td>\n",
       "    </tr>\n",
       "    <tr>\n",
       "      <th>50%</th>\n",
       "      <td>133162.00</td>\n",
       "      <td>51.51</td>\n",
       "      <td>-0.11</td>\n",
       "      <td>1.00</td>\n",
       "      <td>2.00</td>\n",
       "      <td>85.00</td>\n",
       "      <td>1.00</td>\n",
       "      <td>7.00</td>\n",
       "      <td>2014.00</td>\n",
       "      <td>0.39</td>\n",
       "    </tr>\n",
       "    <tr>\n",
       "      <th>75%</th>\n",
       "      <td>199743.00</td>\n",
       "      <td>51.55</td>\n",
       "      <td>-0.05</td>\n",
       "      <td>2.00</td>\n",
       "      <td>3.00</td>\n",
       "      <td>118.00</td>\n",
       "      <td>1.00</td>\n",
       "      <td>10.00</td>\n",
       "      <td>2021.00</td>\n",
       "      <td>0.65</td>\n",
       "    </tr>\n",
       "    <tr>\n",
       "      <th>max</th>\n",
       "      <td>266324.00</td>\n",
       "      <td>51.67</td>\n",
       "      <td>0.14</td>\n",
       "      <td>9.00</td>\n",
       "      <td>9.00</td>\n",
       "      <td>500.00</td>\n",
       "      <td>9.00</td>\n",
       "      <td>12.00</td>\n",
       "      <td>2023.00</td>\n",
       "      <td>100.00</td>\n",
       "    </tr>\n",
       "  </tbody>\n",
       "</table>\n",
       "</div>"
      ],
      "text/plain": [
       "             ID  latitude  longitude  bathrooms  bedrooms  floorAreaSqM  \\\n",
       "count 266325.00 266325.00  266325.00  217846.00 241482.00     252519.00   \n",
       "mean  133162.00     51.51      -0.10       1.44      2.50         99.62   \n",
       "std    76881.55      0.06       0.09       0.72      1.17         56.45   \n",
       "min        0.00     51.39      -0.35       1.00      1.00         10.00   \n",
       "25%    66581.00     51.47      -0.16       1.00      2.00         63.00   \n",
       "50%   133162.00     51.51      -0.11       1.00      2.00         85.00   \n",
       "75%   199743.00     51.55      -0.05       2.00      3.00        118.00   \n",
       "max   266324.00     51.67       0.14       9.00      9.00        500.00   \n",
       "\n",
       "       livingRooms  sale_month  sale_year     price  \n",
       "count    229285.00   266325.00  266325.00 266325.00  \n",
       "mean          1.29        6.81    2012.21      0.62  \n",
       "std           0.58        3.36       9.14      1.27  \n",
       "min           1.00        1.00    1995.00      0.01  \n",
       "25%           1.00        4.00    2004.00      0.22  \n",
       "50%           1.00        7.00    2014.00      0.39  \n",
       "75%           1.00       10.00    2021.00      0.65  \n",
       "max           9.00       12.00    2023.00    100.00  "
      ]
     },
     "metadata": {},
     "output_type": "display_data"
    },
    {
     "name": "stdout",
     "output_type": "stream",
     "text": [
      "<class 'pandas.core.frame.DataFrame'>\n",
      "RangeIndex: 266325 entries, 0 to 266324\n",
      "Data columns (total 17 columns):\n",
      " #   Column               Non-Null Count   Dtype  \n",
      "---  ------               --------------   -----  \n",
      " 0   ID                   266325 non-null  int64  \n",
      " 1   fullAddress          266325 non-null  object \n",
      " 2   postcode             266325 non-null  object \n",
      " 3   country              266325 non-null  object \n",
      " 4   outcode              266325 non-null  object \n",
      " 5   latitude             266325 non-null  float64\n",
      " 6   longitude            266325 non-null  float64\n",
      " 7   bathrooms            217846 non-null  float64\n",
      " 8   bedrooms             241482 non-null  float64\n",
      " 9   floorAreaSqM         252519 non-null  float64\n",
      " 10  livingRooms          229285 non-null  float64\n",
      " 11  tenure               260604 non-null  object \n",
      " 12  propertyType         265817 non-null  object \n",
      " 13  currentEnergyRating  209511 non-null  object \n",
      " 14  sale_month           266325 non-null  int64  \n",
      " 15  sale_year            266325 non-null  int64  \n",
      " 16  price                266325 non-null  float64\n",
      "dtypes: float64(7), int64(3), object(7)\n",
      "memory usage: 34.5+ MB\n"
     ]
    },
    {
     "data": {
      "text/plain": [
       "None"
      ]
     },
     "metadata": {},
     "output_type": "display_data"
    }
   ],
   "source": [
    "df = pd.read_csv(\"/kaggle/input/london-house-price-prediction-advanced-techniques/train.csv\")\n",
    "\n",
    "# Use the class\n",
    "#cleaner = DataCleaning(data)\n",
    "#cleaner.show_info()\n",
    "#cleaner.drop_duplicates()\n",
    "#cleaner.fill_missing(strategy='median', columns=['bathrooms', 'bedrooms', 'livingRooms', 'floorAreaSqM'])\n",
    "#cleaner.fill_missing(strategy='mode', columns=['tenure', 'propertyType', 'currentEnergyRating'])\n",
    "#cleaner.remove_outliers(columns=['price','floorAreaSqM', 'bathrooms', 'bedrooms', 'livingRooms']) \n",
    "#cleaner.drop_duplicates()\n",
    "#cleaner.show_info()\n",
    "\n",
    "# Get the cleaned data\n",
    "#df = cleaner.get_clean_data()\n",
    "df[\"price\"] = df[\"price\"]*(10**-6)   \n",
    "#df.replace([np.inf, -np.inf], np.nan, inplace=True)\n",
    "display(df.describe())\n",
    "display(df.info())"
   ]
  },
  {
   "cell_type": "code",
   "execution_count": 5,
   "id": "808a0773",
   "metadata": {
    "execution": {
     "iopub.execute_input": "2025-05-07T18:23:26.987997Z",
     "iopub.status.busy": "2025-05-07T18:23:26.987632Z",
     "iopub.status.idle": "2025-05-07T18:23:26.995255Z",
     "shell.execute_reply": "2025-05-07T18:23:26.993871Z"
    },
    "papermill": {
     "duration": 0.014259,
     "end_time": "2025-05-07T18:23:26.997614",
     "exception": false,
     "start_time": "2025-05-07T18:23:26.983355",
     "status": "completed"
    },
    "tags": []
   },
   "outputs": [
    {
     "data": {
      "text/markdown": [
       "\n",
       "Startegy to (1) wrangle data (1.1 data completeness)(check for each columns):\n",
       "1. ✅ `fullAddress` - No change required.\n",
       "2. ✅ To extract incode from `postcode`.\n",
       "3. ✅ To drop `country` column. \n",
       "4. ✅ `Latitude`/`Logitude` - No change required.\n",
       "5. ✅ To impute `floorAreaSqM` with most frequent values (mode).\n",
       "6. ✅ To impute `bathrooms`/`bedrooms`/`living_room`/`tenure`/`property_type`/`currentEnergyRating` with most frequent values (mode).\n",
       "7. ✅ To generate time features from sale_year+sale_month using DeterministicProcess and merge\n"
      ],
      "text/plain": [
       "<IPython.core.display.Markdown object>"
      ]
     },
     "metadata": {},
     "output_type": "display_data"
    }
   ],
   "source": [
    "questions = \"\"\"\n",
    "Startegy to (1) wrangle data (1.1 data completeness)(check for each columns):\n",
    "1. ✅ `fullAddress` - No change required.\n",
    "2. ✅ To extract incode from `postcode`.\n",
    "3. ✅ To drop `country` column. \n",
    "4. ✅ `Latitude`/`Logitude` - No change required.\n",
    "5. ✅ To impute `floorAreaSqM` with most frequent values (mode).\n",
    "6. ✅ To impute `bathrooms`/`bedrooms`/`living_room`/`tenure`/`property_type`/`currentEnergyRating` with most frequent values (mode).\n",
    "7. ✅ To generate time features from sale_year+sale_month using DeterministicProcess and merge\n",
    "\"\"\"\n",
    "display(Markdown(questions))"
   ]
  },
  {
   "cell_type": "code",
   "execution_count": 6,
   "id": "6e832eae",
   "metadata": {
    "execution": {
     "iopub.execute_input": "2025-05-07T18:23:27.006640Z",
     "iopub.status.busy": "2025-05-07T18:23:27.006288Z",
     "iopub.status.idle": "2025-05-07T18:23:27.108565Z",
     "shell.execute_reply": "2025-05-07T18:23:27.107211Z"
    },
    "papermill": {
     "duration": 0.108698,
     "end_time": "2025-05-07T18:23:27.110441",
     "exception": false,
     "start_time": "2025-05-07T18:23:27.001743",
     "status": "completed"
    },
    "tags": []
   },
   "outputs": [],
   "source": [
    "# To extract incode from `postcode`\n",
    "df['postcode'] = df['postcode'].apply(lambda x: x.split(\" \")[1])"
   ]
  },
  {
   "cell_type": "code",
   "execution_count": 7,
   "id": "ceb34a5b",
   "metadata": {
    "execution": {
     "iopub.execute_input": "2025-05-07T18:23:27.119822Z",
     "iopub.status.busy": "2025-05-07T18:23:27.119483Z",
     "iopub.status.idle": "2025-05-07T18:23:27.226583Z",
     "shell.execute_reply": "2025-05-07T18:23:27.225299Z"
    },
    "papermill": {
     "duration": 0.113423,
     "end_time": "2025-05-07T18:23:27.228500",
     "exception": false,
     "start_time": "2025-05-07T18:23:27.115077",
     "status": "completed"
    },
    "tags": []
   },
   "outputs": [],
   "source": [
    "# To impute `floorAreaSqM` with most frequent values (mode). \n",
    "def mode_func(x):\n",
    "    return x.mode().iloc[0] if not x.mode().empty else np.nan\n",
    "    \n",
    "temp_df = df.groupby('outcode')['floorAreaSqM'].agg(\n",
    "    min='min',\n",
    "    max='max',\n",
    "    mode=mode_func,\n",
    "    median='median',\n",
    "    mean='mean',\n",
    "    count='count'\n",
    ").reset_index()\n",
    "\n",
    "df['floorAreaSqM'].fillna(temp_df['mode'].mode().iloc[0], inplace=True)\n"
   ]
  },
  {
   "cell_type": "code",
   "execution_count": 8,
   "id": "b89a744a",
   "metadata": {
    "execution": {
     "iopub.execute_input": "2025-05-07T18:23:27.238009Z",
     "iopub.status.busy": "2025-05-07T18:23:27.237651Z",
     "iopub.status.idle": "2025-05-07T18:23:27.281398Z",
     "shell.execute_reply": "2025-05-07T18:23:27.280252Z"
    },
    "papermill": {
     "duration": 0.051588,
     "end_time": "2025-05-07T18:23:27.283816",
     "exception": false,
     "start_time": "2025-05-07T18:23:27.232228",
     "status": "completed"
    },
    "tags": []
   },
   "outputs": [],
   "source": [
    "# To drop `country` column\n",
    "df.drop('country', inplace=True, axis = 1)"
   ]
  },
  {
   "cell_type": "code",
   "execution_count": 9,
   "id": "89d84ea3",
   "metadata": {
    "execution": {
     "iopub.execute_input": "2025-05-07T18:23:27.292505Z",
     "iopub.status.busy": "2025-05-07T18:23:27.292202Z",
     "iopub.status.idle": "2025-05-07T18:23:27.296815Z",
     "shell.execute_reply": "2025-05-07T18:23:27.295732Z"
    },
    "papermill": {
     "duration": 0.010877,
     "end_time": "2025-05-07T18:23:27.298595",
     "exception": false,
     "start_time": "2025-05-07T18:23:27.287718",
     "status": "completed"
    },
    "tags": []
   },
   "outputs": [],
   "source": [
    "# To impute `bathrooms`/`bedrooms`/`living_room`/`tenure`/`property_type`/`currentEnergyRating` with most frequent values (mode). (Function already created)"
   ]
  },
  {
   "cell_type": "code",
   "execution_count": 10,
   "id": "dc7132ce",
   "metadata": {
    "execution": {
     "iopub.execute_input": "2025-05-07T18:23:27.306746Z",
     "iopub.status.busy": "2025-05-07T18:23:27.306353Z",
     "iopub.status.idle": "2025-05-07T18:23:27.311914Z",
     "shell.execute_reply": "2025-05-07T18:23:27.310613Z"
    },
    "papermill": {
     "duration": 0.011671,
     "end_time": "2025-05-07T18:23:27.313724",
     "exception": false,
     "start_time": "2025-05-07T18:23:27.302053",
     "status": "completed"
    },
    "tags": []
   },
   "outputs": [],
   "source": [
    "# # 1. Create temporary datetime for feature generation\n",
    "# df['temp_date'] = pd.to_datetime(\n",
    "#     df['sale_year'].astype(str) + '-' + df['sale_month'].astype(str)\n",
    "# )\n",
    "\n",
    "# # 2. Initialize DeterministicProcess (uses temp_date internally)\n",
    "# dp = DeterministicProcess(\n",
    "#     index=df['temp_date'],  # Pass dates as Series\n",
    "#     constant=True,\n",
    "#     seasonal=True,\n",
    "#     order=12,\n",
    "#     drop=True,\n",
    "#     additional_terms=[CalendarFourier(freq='QE', order=2)]\n",
    "# )\n",
    "\n",
    "# # 3. Generate features for existing data\n",
    "# time_features = dp.in_sample()\n",
    "# df = pd.concat([df, time_features], axis=1)\n",
    "\n",
    "# # 4. Generate features for next 7 months\n",
    "# last_date = df['temp_date'].max()\n",
    "# future_dates = pd.date_range(\n",
    "#     start=last_date + pd.offsets.MonthBegin(1),\n",
    "#     periods=7,\n",
    "#     freq='M'\n",
    "# )\n",
    "# future_features = dp.out_of_sample(steps=7, dates=future_dates)\n",
    "\n",
    "# # 5. Cleanup (remove temp column if needed)\n",
    "# df = df.drop(columns=['temp_date'])\n",
    "\n",
    "# # 3. Generate features for testing data\n",
    "# df = pd.concat([df, future_features], axis=1)"
   ]
  },
  {
   "cell_type": "code",
   "execution_count": 11,
   "id": "26a50eb0",
   "metadata": {
    "execution": {
     "iopub.execute_input": "2025-05-07T18:23:27.322419Z",
     "iopub.status.busy": "2025-05-07T18:23:27.322138Z",
     "iopub.status.idle": "2025-05-07T18:23:27.326885Z",
     "shell.execute_reply": "2025-05-07T18:23:27.325705Z"
    },
    "papermill": {
     "duration": 0.010829,
     "end_time": "2025-05-07T18:23:27.328540",
     "exception": false,
     "start_time": "2025-05-07T18:23:27.317711",
     "status": "completed"
    },
    "tags": []
   },
   "outputs": [],
   "source": [
    "# questions = \"\"\"\n",
    "# Startegy to (1) wrangle data (1.2 data encoding)(check for each columns):\n",
    "# 1. ✅ `fullAddress` - No change required.\n",
    "# 2. ✅ To extract incode from `postcode`.\n",
    "# 3. ✅ To drop `country` column. \n",
    "# 4. ✅ `Latitude`/`Logitude` - No change required.\n",
    "# 5. ✅ To impute `floorAreaSqM` with most frequent values (mode).\n",
    "# 6. ✅ To impute `bathrooms`/`bedrooms`/`living_room`/`tenure`/`property_type`/`currentEnergyRating` with most frequent values (mode).\n",
    "# 7. ✅ To generate time features from sale_year+sale_month using DeterministicProcess and merge\n",
    "# \"\"\"\n",
    "# display(Markdown(questions))"
   ]
  }
 ],
 "metadata": {
  "kaggle": {
   "accelerator": "none",
   "dataSources": [
    {
     "databundleVersionId": 10105526,
     "sourceId": 88312,
     "sourceType": "competition"
    },
    {
     "datasetId": 7212885,
     "sourceId": 11504291,
     "sourceType": "datasetVersion"
    }
   ],
   "dockerImageVersionId": 31012,
   "isGpuEnabled": false,
   "isInternetEnabled": false,
   "language": "python",
   "sourceType": "notebook"
  },
  "kernelspec": {
   "display_name": "Python 3",
   "language": "python",
   "name": "python3"
  },
  "language_info": {
   "codemirror_mode": {
    "name": "ipython",
    "version": 3
   },
   "file_extension": ".py",
   "mimetype": "text/x-python",
   "name": "python",
   "nbconvert_exporter": "python",
   "pygments_lexer": "ipython3",
   "version": "3.11.11"
  },
  "papermill": {
   "default_parameters": {},
   "duration": 15.25966,
   "end_time": "2025-05-07T18:23:30.070831",
   "environment_variables": {},
   "exception": null,
   "input_path": "__notebook__.ipynb",
   "output_path": "__notebook__.ipynb",
   "parameters": {},
   "start_time": "2025-05-07T18:23:14.811171",
   "version": "2.6.0"
  }
 },
 "nbformat": 4,
 "nbformat_minor": 5
}
